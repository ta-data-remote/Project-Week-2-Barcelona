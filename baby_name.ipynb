{
 "cells": [
  {
   "cell_type": "markdown",
   "metadata": {
    "cell_id": "00001-f6897356-4a6a-4071-8c1e-afa6b87be721",
    "deepnote_cell_type": "markdown",
    "tags": []
   },
   "source": [
    "# 1. Importing numpy and pandas dictionaries"
   ]
  },
  {
   "cell_type": "markdown",
   "metadata": {
    "cell_id": "00001-a4e7dea6-e74f-4f0a-9d90-5614b55b09b5",
    "deepnote_cell_type": "markdown",
    "tags": []
   },
   "source": [
    "<a id='start_of_the_page'>a</a>"
   ]
  },
  {
   "cell_type": "code",
   "execution_count": 73,
   "metadata": {
    "cell_id": "00000-08639837-7f99-4880-9451-a8757c95020a",
    "deepnote_cell_type": "code",
    "deepnote_to_be_reexecuted": false,
    "execution_millis": 2,
    "execution_start": 1623394908227,
    "source_hash": "f25bd425",
    "tags": []
   },
   "outputs": [],
   "source": [
    "import numpy as np\n",
    "import pandas as pd\n"
   ]
  },
  {
   "cell_type": "code",
   "execution_count": 74,
   "metadata": {},
   "outputs": [
    {
     "data": {
      "text/plain": [
       "'/Users/ayubpathan/Desktop/ironhack/Week2/Project-Week-2-Barcelona'"
      ]
     },
     "execution_count": 74,
     "metadata": {},
     "output_type": "execute_result"
    }
   ],
   "source": [
    "pwd\n"
   ]
  },
  {
   "cell_type": "markdown",
   "metadata": {
    "cell_id": "00002-47c937d9-c75f-4427-bf29-d9f379b570b8",
    "deepnote_cell_type": "markdown",
    "tags": []
   },
   "source": [
    "# 2. Reading csv file \n",
    "##      Calling first 5 rows"
   ]
  },
  {
   "cell_type": "code",
   "execution_count": 75,
   "metadata": {
    "cell_id": "00001-e1936706-6d01-40bc-9e52-b0478f63870b",
    "deepnote_cell_type": "code",
    "deepnote_to_be_reexecuted": false,
    "execution_millis": 42,
    "execution_start": 1623394908281,
    "source_hash": "b5fb1a62",
    "tags": []
   },
   "outputs": [
    {
     "data": {
      "text/html": [
       "<div>\n",
       "<style scoped>\n",
       "    .dataframe tbody tr th:only-of-type {\n",
       "        vertical-align: middle;\n",
       "    }\n",
       "\n",
       "    .dataframe tbody tr th {\n",
       "        vertical-align: top;\n",
       "    }\n",
       "\n",
       "    .dataframe thead th {\n",
       "        text-align: right;\n",
       "    }\n",
       "</style>\n",
       "<table border=\"1\" class=\"dataframe\">\n",
       "  <thead>\n",
       "    <tr style=\"text-align: right;\">\n",
       "      <th></th>\n",
       "      <th>Order</th>\n",
       "      <th>Name</th>\n",
       "      <th>Gender</th>\n",
       "      <th>Year</th>\n",
       "      <th>Frequency</th>\n",
       "    </tr>\n",
       "  </thead>\n",
       "  <tbody>\n",
       "    <tr>\n",
       "      <th>0</th>\n",
       "      <td>1</td>\n",
       "      <td>LAURA</td>\n",
       "      <td>Female</td>\n",
       "      <td>1996</td>\n",
       "      <td>237</td>\n",
       "    </tr>\n",
       "    <tr>\n",
       "      <th>1</th>\n",
       "      <td>2</td>\n",
       "      <td>MARIA</td>\n",
       "      <td>Female</td>\n",
       "      <td>1996</td>\n",
       "      <td>219</td>\n",
       "    </tr>\n",
       "    <tr>\n",
       "      <th>2</th>\n",
       "      <td>3</td>\n",
       "      <td>MARTA</td>\n",
       "      <td>Female</td>\n",
       "      <td>1996</td>\n",
       "      <td>206</td>\n",
       "    </tr>\n",
       "    <tr>\n",
       "      <th>3</th>\n",
       "      <td>4</td>\n",
       "      <td>ANDREA</td>\n",
       "      <td>Female</td>\n",
       "      <td>1996</td>\n",
       "      <td>199</td>\n",
       "    </tr>\n",
       "    <tr>\n",
       "      <th>4</th>\n",
       "      <td>5</td>\n",
       "      <td>ANNA</td>\n",
       "      <td>Female</td>\n",
       "      <td>1996</td>\n",
       "      <td>195</td>\n",
       "    </tr>\n",
       "  </tbody>\n",
       "</table>\n",
       "</div>"
      ],
      "text/plain": [
       "   Order    Name  Gender  Year  Frequency\n",
       "0      1   LAURA  Female  1996        237\n",
       "1      2   MARIA  Female  1996        219\n",
       "2      3   MARTA  Female  1996        206\n",
       "3      4  ANDREA  Female  1996        199\n",
       "4      5    ANNA  Female  1996        195"
      ]
     },
     "execution_count": 75,
     "metadata": {},
     "output_type": "execute_result"
    }
   ],
   "source": [
    "baby_name = pd.read_csv(\"/Users/ayubpathan/Desktop/ironhack/Week2/Project-Week-2-Barcelona/datasets/3.-Population/most-frequent-baby-names.csv\")\n",
    "baby_name_new = baby_name.copy() # copying original files to baby_name_new\n",
    "\n",
    "\n",
    "baby_name.head()"
   ]
  },
  {
   "cell_type": "code",
   "execution_count": 76,
   "metadata": {
    "cell_id": "00002-4a239e19-070d-4aa4-bc27-35928831466a",
    "deepnote_cell_type": "code",
    "deepnote_to_be_reexecuted": false,
    "execution_millis": 18,
    "execution_start": 1623394908306,
    "source_hash": "79612144",
    "tags": []
   },
   "outputs": [
    {
     "name": "stdout",
     "output_type": "stream",
     "text": [
      "<class 'pandas.core.frame.DataFrame'>\n",
      "RangeIndex: 1050 entries, 0 to 1049\n",
      "Data columns (total 5 columns):\n",
      " #   Column     Non-Null Count  Dtype \n",
      "---  ------     --------------  ----- \n",
      " 0   Order      1050 non-null   int64 \n",
      " 1   Name       1050 non-null   object\n",
      " 2   Gender     1050 non-null   object\n",
      " 3   Year       1050 non-null   int64 \n",
      " 4   Frequency  1050 non-null   int64 \n",
      "dtypes: int64(3), object(2)\n",
      "memory usage: 41.1+ KB\n"
     ]
    }
   ],
   "source": [
    "baby_name.info()"
   ]
  },
  {
   "cell_type": "code",
   "execution_count": 77,
   "metadata": {
    "cell_id": "00004-c4f67242-e6dd-4051-9c32-3df92b9e8d18",
    "deepnote_cell_type": "code",
    "deepnote_to_be_reexecuted": false,
    "execution_millis": 15,
    "execution_start": 1623394908309,
    "source_hash": "7ae79921",
    "tags": []
   },
   "outputs": [
    {
     "data": {
      "text/plain": [
       "(1050, 5)"
      ]
     },
     "execution_count": 77,
     "metadata": {},
     "output_type": "execute_result"
    }
   ],
   "source": [
    "baby_name.shape "
   ]
  },
  {
   "cell_type": "markdown",
   "metadata": {
    "cell_id": "00007-0450c801-a3f8-4442-8865-d85ad045faa1",
    "deepnote_cell_type": "markdown",
    "tags": []
   },
   "source": [
    "# 3. Data analysis task:  \n",
    "-  Check if we have duplicates values in rows : we sum them up to get the total frequency out of them then we go to compare top 10 names for  \n",
    "   male and female from df \n",
    "- Top 3 names from each year - with highest frequency in each year \n",
    "- Frequency/counts name comparison of male and female\n",
    "- International vs Local names for both cases; male & female\n",
    "- Checking total counts for names starting with A,D, E\n",
    "- Preferred shortest & longest name - for male\n",
    "- Preferred shortetst & longest  name for female\n",
    "- Search if Ignacio and Raul exist in the list\n",
    "\n",
    "*** Most common names in Spain from 2017 ***\n",
    "https://www.donquijote.org/spanish-language/names/#:~:text=While%20our%20grandparents%20are%20called,Daniel%2C%20and%20Pablo%20for%20boys.\n",
    "\n",
    "- Question here: Check how many names are common in our dataframe from the given list:\n",
    "   - Most common names - Lucía, Sofía, María, Martina, and Paula for girls\n",
    "   - Most common names - Lucas, Hugo, Martín, Daniel, and Pablo for boys. \n",
    "- New questions:\n",
    "   - Names per year - make a list as per year - possibility to substract on the base of male & female"
   ]
  },
  {
   "cell_type": "markdown",
   "metadata": {
    "cell_id": "00007-d8348e12-b37d-4b6f-b849-6883090fbede",
    "deepnote_cell_type": "markdown",
    "tags": []
   },
   "source": [
    "## 3.1 Analyse the data set and show most frequent names "
   ]
  },
  {
   "cell_type": "markdown",
   "metadata": {
    "cell_id": "00007-b55096e2-9327-4343-b461-181698c837f9",
    "deepnote_cell_type": "markdown",
    "tags": []
   },
   "source": [
    "###  3.1.1 Show values "
   ]
  },
  {
   "cell_type": "code",
   "execution_count": 78,
   "metadata": {
    "cell_id": "00005-ac98cc30-37ce-4513-8f01-ef044d00be2c",
    "deepnote_cell_type": "code",
    "deepnote_to_be_reexecuted": false,
    "execution_millis": 13,
    "execution_start": 1623394908319,
    "source_hash": "8bbd218f",
    "tags": []
   },
   "outputs": [
    {
     "data": {
      "text/plain": [
       "POL         21\n",
       "CARLA       21\n",
       "SARA        21\n",
       "ALBA        21\n",
       "MARIA       21\n",
       "            ..\n",
       "PATRICIA     1\n",
       "CHLOE        1\n",
       "RAUL         1\n",
       "GAEL         1\n",
       "GABRIEL      1\n",
       "Name: Name, Length: 97, dtype: int64"
      ]
     },
     "execution_count": 78,
     "metadata": {},
     "output_type": "execute_result"
    }
   ],
   "source": [
    "baby_name['Name'].value_counts() # figure out how to extract first top ten rows!!!!"
   ]
  },
  {
   "cell_type": "markdown",
   "metadata": {
    "cell_id": "00009-28167d73-ad61-4211-b839-f916a412ea6f",
    "deepnote_cell_type": "markdown",
    "tags": []
   },
   "source": [
    "### 3.1.2 Check of data duplicates"
   ]
  },
  {
   "cell_type": "code",
   "execution_count": 79,
   "metadata": {
    "cell_id": "00006-910a36dd-d01f-432f-8758-53aec57bdc26",
    "deepnote_cell_type": "code",
    "deepnote_to_be_reexecuted": false,
    "execution_millis": 10,
    "execution_start": 1623394908334,
    "source_hash": "459e93f8",
    "tags": []
   },
   "outputs": [
    {
     "data": {
      "text/plain": [
       "array(['LAURA', 'MARIA', 'MARTA', 'ANDREA', 'ANNA', 'PAULA', 'ALBA',\n",
       "       'SARA', 'LAIA', 'CLAUDIA', 'JULIA', 'CARLA', 'MIREIA', 'MARINA',\n",
       "       'CRISTINA', 'CLARA', 'JUDITH', 'ARIADNA', 'NURIA', 'PATRICIA',\n",
       "       'RAQUEL', 'ANA', 'IRENE', 'JUDIT', 'SANDRA', 'BERTA', 'MAR',\n",
       "       'AINA', 'HELENA', 'NATALIA', 'CARLOTA', 'EMMA', 'NEREA', 'LUCIA',\n",
       "       'MARTINA', 'AINHOA', 'SOFIA', 'NOA', 'JANA', 'ABRIL', 'DANIELA',\n",
       "       'INES', 'ONA', 'NORA', 'OLIVIA', 'VALENTINA', 'ARLET', 'MIA',\n",
       "       'CHLOE', 'VALERIA', 'MARC', 'DAVID', 'DANIEL', 'ALBERT', 'VICTOR',\n",
       "       'JORDI', 'SERGI', 'ALEJANDRO', 'POL', 'ALEX', 'PAU', 'GUILLEM',\n",
       "       'CARLOS', 'ORIOL', 'ADRIA', 'ROGER', 'OSCAR', 'JAVIER', 'GERARD',\n",
       "       'ARNAU', 'IVAN', 'XAVIER', 'JOAN', 'ERIC', 'PABLO', 'ADRIAN',\n",
       "       'SERGIO', 'JOEL', 'MARTI', 'RAUL', 'JAN', 'ALVARO', 'HUGO', 'IKER',\n",
       "       'BIEL', 'NICOLAS', 'BRUNO', 'LUCAS', 'MAX', 'NIL', 'ALEIX', 'LEO',\n",
       "       'MATEO', 'MARIO', 'ROC', 'GAEL', 'GABRIEL'], dtype=object)"
      ]
     },
     "execution_count": 79,
     "metadata": {},
     "output_type": "execute_result"
    }
   ],
   "source": [
    "\n",
    "\n",
    "#Recalling all unique names from baby_name\n",
    "baby_name['Name'].unique()"
   ]
  },
  {
   "cell_type": "markdown",
   "metadata": {
    "cell_id": "00010-424ad4f6-b5a3-470d-9b06-66be4d4b9e67",
    "deepnote_cell_type": "markdown",
    "tags": []
   },
   "source": [
    "### 3.1.3 Check frequency of gender names"
   ]
  },
  {
   "cell_type": "code",
   "execution_count": 80,
   "metadata": {
    "cell_id": "00014-647c9210-2529-481b-a63a-e16420076b20",
    "deepnote_cell_type": "code",
    "deepnote_to_be_reexecuted": false,
    "execution_millis": 5,
    "execution_start": 1623394908390,
    "source_hash": "ded59881",
    "tags": []
   },
   "outputs": [
    {
     "name": "stdout",
     "output_type": "stream",
     "text": [
      "   Gender  Year  Frequency\n",
      "0  Female  1996        237\n",
      "1  Female  1996        219\n",
      "2  Female  1996        206\n",
      "3  Female  1996        199\n"
     ]
    }
   ],
   "source": [
    "Babynames = baby_name.loc[:,'Gender':'Frequency']\n",
    "print(Babynames.head(4))"
   ]
  },
  {
   "cell_type": "markdown",
   "metadata": {
    "cell_id": "00013-652d430e-4b04-41dc-aaf5-ba08a2ad70ce",
    "deepnote_cell_type": "markdown",
    "tags": []
   },
   "source": [
    "### 3.1.4 Sort gender names and frequency descending"
   ]
  },
  {
   "cell_type": "code",
   "execution_count": 81,
   "metadata": {
    "cell_id": "00015-67ceb2bf-99d7-4267-a20a-6e2be7bb7118",
    "deepnote_cell_type": "code",
    "deepnote_to_be_reexecuted": false,
    "execution_millis": 31,
    "execution_start": 1623394908391,
    "source_hash": "4f585099",
    "tags": []
   },
   "outputs": [
    {
     "data": {
      "text/html": [
       "<div>\n",
       "<style scoped>\n",
       "    .dataframe tbody tr th:only-of-type {\n",
       "        vertical-align: middle;\n",
       "    }\n",
       "\n",
       "    .dataframe tbody tr th {\n",
       "        vertical-align: top;\n",
       "    }\n",
       "\n",
       "    .dataframe thead th {\n",
       "        text-align: right;\n",
       "    }\n",
       "</style>\n",
       "<table border=\"1\" class=\"dataframe\">\n",
       "  <thead>\n",
       "    <tr style=\"text-align: right;\">\n",
       "      <th></th>\n",
       "      <th>Order</th>\n",
       "      <th>Name</th>\n",
       "      <th>Gender</th>\n",
       "      <th>Year</th>\n",
       "      <th>Frequency</th>\n",
       "    </tr>\n",
       "  </thead>\n",
       "  <tbody>\n",
       "    <tr>\n",
       "      <th>550</th>\n",
       "      <td>1</td>\n",
       "      <td>MARC</td>\n",
       "      <td>Male</td>\n",
       "      <td>1997</td>\n",
       "      <td>348</td>\n",
       "    </tr>\n",
       "    <tr>\n",
       "      <th>575</th>\n",
       "      <td>1</td>\n",
       "      <td>MARC</td>\n",
       "      <td>Male</td>\n",
       "      <td>1998</td>\n",
       "      <td>330</td>\n",
       "    </tr>\n",
       "    <tr>\n",
       "      <th>75</th>\n",
       "      <td>1</td>\n",
       "      <td>MARIA</td>\n",
       "      <td>Female</td>\n",
       "      <td>1999</td>\n",
       "      <td>299</td>\n",
       "    </tr>\n",
       "    <tr>\n",
       "      <th>525</th>\n",
       "      <td>1</td>\n",
       "      <td>MARC</td>\n",
       "      <td>Male</td>\n",
       "      <td>1996</td>\n",
       "      <td>295</td>\n",
       "    </tr>\n",
       "    <tr>\n",
       "      <th>600</th>\n",
       "      <td>1</td>\n",
       "      <td>MARC</td>\n",
       "      <td>Male</td>\n",
       "      <td>1999</td>\n",
       "      <td>291</td>\n",
       "    </tr>\n",
       "    <tr>\n",
       "      <th>...</th>\n",
       "      <td>...</td>\n",
       "      <td>...</td>\n",
       "      <td>...</td>\n",
       "      <td>...</td>\n",
       "      <td>...</td>\n",
       "    </tr>\n",
       "    <tr>\n",
       "      <th>999</th>\n",
       "      <td>25</td>\n",
       "      <td>GUILLEM</td>\n",
       "      <td>Male</td>\n",
       "      <td>2014</td>\n",
       "      <td>47</td>\n",
       "    </tr>\n",
       "    <tr>\n",
       "      <th>974</th>\n",
       "      <td>25</td>\n",
       "      <td>MARIO</td>\n",
       "      <td>Male</td>\n",
       "      <td>2013</td>\n",
       "      <td>46</td>\n",
       "    </tr>\n",
       "    <tr>\n",
       "      <th>499</th>\n",
       "      <td>25</td>\n",
       "      <td>ARIADNA</td>\n",
       "      <td>Female</td>\n",
       "      <td>2015</td>\n",
       "      <td>45</td>\n",
       "    </tr>\n",
       "    <tr>\n",
       "      <th>1048</th>\n",
       "      <td>24</td>\n",
       "      <td>GABRIEL</td>\n",
       "      <td>Male</td>\n",
       "      <td>2016</td>\n",
       "      <td>44</td>\n",
       "    </tr>\n",
       "    <tr>\n",
       "      <th>1049</th>\n",
       "      <td>25</td>\n",
       "      <td>ROGER</td>\n",
       "      <td>Male</td>\n",
       "      <td>2016</td>\n",
       "      <td>44</td>\n",
       "    </tr>\n",
       "  </tbody>\n",
       "</table>\n",
       "<p>1050 rows × 5 columns</p>\n",
       "</div>"
      ],
      "text/plain": [
       "      Order     Name  Gender  Year  Frequency\n",
       "550       1     MARC    Male  1997        348\n",
       "575       1     MARC    Male  1998        330\n",
       "75        1    MARIA  Female  1999        299\n",
       "525       1     MARC    Male  1996        295\n",
       "600       1     MARC    Male  1999        291\n",
       "...     ...      ...     ...   ...        ...\n",
       "999      25  GUILLEM    Male  2014         47\n",
       "974      25    MARIO    Male  2013         46\n",
       "499      25  ARIADNA  Female  2015         45\n",
       "1048     24  GABRIEL    Male  2016         44\n",
       "1049     25    ROGER    Male  2016         44\n",
       "\n",
       "[1050 rows x 5 columns]"
      ]
     },
     "execution_count": 81,
     "metadata": {},
     "output_type": "execute_result"
    }
   ],
   "source": [
    "\n",
    "baby_name.sort_values(by='Frequency',ascending = False)"
   ]
  },
  {
   "cell_type": "markdown",
   "metadata": {
    "cell_id": "00015-5ff79acb-f258-4146-9b9a-219723ba098f",
    "deepnote_cell_type": "markdown",
    "tags": []
   },
   "source": [
    "### 3.1.5 Print the most frequent female names "
   ]
  },
  {
   "cell_type": "code",
   "execution_count": 82,
   "metadata": {
    "cell_id": "00017-027d107c-1521-4343-a974-4d9ad5f5d9a1",
    "deepnote_cell_type": "code",
    "deepnote_to_be_reexecuted": false,
    "execution_millis": 19,
    "execution_start": 1623394908423,
    "source_hash": "16c155a3",
    "tags": []
   },
   "outputs": [
    {
     "name": "stdout",
     "output_type": "stream",
     "text": [
      "     Order     Name  Gender  Year  Frequency\n",
      "0        1    LAURA  Female  1996        237\n",
      "1        2    MARIA  Female  1996        219\n",
      "2        3    MARTA  Female  1996        206\n",
      "3        4   ANDREA  Female  1996        199\n",
      "4        5     ANNA  Female  1996        195\n",
      "..     ...      ...     ...   ...        ...\n",
      "520     21     SARA  Female  2016         57\n",
      "521     22  ARIADNA  Female  2016         55\n",
      "522     23  DANIELA  Female  2016         55\n",
      "523     24  VALERIA  Female  2016         55\n",
      "524     25    ARLET  Female  2016         54\n",
      "\n",
      "[525 rows x 5 columns]\n"
     ]
    }
   ],
   "source": [
    "Female = baby_name_new[baby_name_new['Gender']=='Female']\n",
    "print(Female)"
   ]
  },
  {
   "cell_type": "markdown",
   "metadata": {
    "cell_id": "00017-b9732974-7044-4940-80be-c322cfe460e7",
    "deepnote_cell_type": "markdown",
    "tags": []
   },
   "source": [
    "### 3.1.6 List only the unique female names"
   ]
  },
  {
   "cell_type": "code",
   "execution_count": 83,
   "metadata": {
    "cell_id": "00018-bddebde0-f999-40f0-869f-83f703d90a4f",
    "deepnote_cell_type": "code",
    "deepnote_to_be_reexecuted": false,
    "execution_millis": 11,
    "execution_start": 1623394908431,
    "source_hash": "8ffa9e0f",
    "tags": []
   },
   "outputs": [
    {
     "name": "stdout",
     "output_type": "stream",
     "text": [
      "['LAURA' 'MARIA' 'MARTA' 'ANDREA' 'ANNA' 'PAULA' 'ALBA' 'SARA' 'LAIA'\n",
      " 'CLAUDIA' 'JULIA' 'CARLA' 'MIREIA' 'MARINA' 'CRISTINA' 'CLARA' 'JUDITH'\n",
      " 'ARIADNA' 'NURIA' 'PATRICIA' 'RAQUEL' 'ANA' 'IRENE' 'JUDIT' 'SANDRA'\n",
      " 'BERTA' 'MAR' 'AINA' 'HELENA' 'NATALIA' 'CARLOTA' 'EMMA' 'NEREA' 'LUCIA'\n",
      " 'MARTINA' 'AINHOA' 'SOFIA' 'NOA' 'JANA' 'ABRIL' 'DANIELA' 'INES' 'ONA'\n",
      " 'NORA' 'OLIVIA' 'VALENTINA' 'ARLET' 'MIA' 'CHLOE' 'VALERIA']\n"
     ]
    }
   ],
   "source": [
    "unique_Female = Female['Name'].unique()\n",
    "print(unique_Female)"
   ]
  },
  {
   "cell_type": "code",
   "execution_count": 84,
   "metadata": {
    "cell_id": "00018-12523e49-94d2-431b-8308-4c20ea891496",
    "deepnote_cell_type": "code",
    "deepnote_to_be_reexecuted": false,
    "execution_millis": 50,
    "execution_start": 1623394908439,
    "source_hash": "730c0670",
    "tags": []
   },
   "outputs": [
    {
     "name": "stdout",
     "output_type": "stream",
     "text": [
      "[2339, 3843, 1942, 1590, 1950, 3166, 2107, 1924, 3094, 2210, 2976, 2621, 957, 1187, 752, 1208, 268, 1556, 642, 71, 136, 419, 791, 197, 240, 1215, 553, 1368, 123, 122, 602, 1084, 237, 1996, 1991, 113, 1141, 944, 662, 400, 364, 109, 437, 166, 375, 412, 210, 122, 62, 55]\n"
     ]
    }
   ],
   "source": [
    "sum_female = []\n",
    "for nom in unique_Female:\n",
    "    sum_female.append(baby_name[baby_name[\"Name\"] == nom]['Frequency'].sum())\n",
    "print(sum_female)\n"
   ]
  },
  {
   "cell_type": "markdown",
   "metadata": {
    "cell_id": "00020-951efd28-7d4d-4700-b3cc-8878ab52f583",
    "deepnote_cell_type": "markdown",
    "tags": []
   },
   "source": [
    "### 3.1.7 List descending only frequencies of unique female names"
   ]
  },
  {
   "cell_type": "code",
   "execution_count": 85,
   "metadata": {
    "cell_id": "00019-0af076e2-2f02-4940-b1cc-3071cba24aa7",
    "deepnote_cell_type": "code",
    "deepnote_to_be_reexecuted": false,
    "execution_millis": 21,
    "execution_start": 1623394908511,
    "source_hash": "e492f00",
    "tags": []
   },
   "outputs": [
    {
     "data": {
      "text/html": [
       "<div>\n",
       "<style scoped>\n",
       "    .dataframe tbody tr th:only-of-type {\n",
       "        vertical-align: middle;\n",
       "    }\n",
       "\n",
       "    .dataframe tbody tr th {\n",
       "        vertical-align: top;\n",
       "    }\n",
       "\n",
       "    .dataframe thead th {\n",
       "        text-align: right;\n",
       "    }\n",
       "</style>\n",
       "<table border=\"1\" class=\"dataframe\">\n",
       "  <thead>\n",
       "    <tr style=\"text-align: right;\">\n",
       "      <th></th>\n",
       "      <th>Names</th>\n",
       "      <th>Frequency</th>\n",
       "    </tr>\n",
       "  </thead>\n",
       "  <tbody>\n",
       "    <tr>\n",
       "      <th>1</th>\n",
       "      <td>MARIA</td>\n",
       "      <td>3843</td>\n",
       "    </tr>\n",
       "    <tr>\n",
       "      <th>2</th>\n",
       "      <td>PAULA</td>\n",
       "      <td>3166</td>\n",
       "    </tr>\n",
       "    <tr>\n",
       "      <th>3</th>\n",
       "      <td>LAIA</td>\n",
       "      <td>3094</td>\n",
       "    </tr>\n",
       "    <tr>\n",
       "      <th>4</th>\n",
       "      <td>JULIA</td>\n",
       "      <td>2976</td>\n",
       "    </tr>\n",
       "    <tr>\n",
       "      <th>5</th>\n",
       "      <td>CARLA</td>\n",
       "      <td>2621</td>\n",
       "    </tr>\n",
       "    <tr>\n",
       "      <th>6</th>\n",
       "      <td>LAURA</td>\n",
       "      <td>2339</td>\n",
       "    </tr>\n",
       "    <tr>\n",
       "      <th>7</th>\n",
       "      <td>CLAUDIA</td>\n",
       "      <td>2210</td>\n",
       "    </tr>\n",
       "    <tr>\n",
       "      <th>8</th>\n",
       "      <td>ALBA</td>\n",
       "      <td>2107</td>\n",
       "    </tr>\n",
       "    <tr>\n",
       "      <th>9</th>\n",
       "      <td>LUCIA</td>\n",
       "      <td>1996</td>\n",
       "    </tr>\n",
       "    <tr>\n",
       "      <th>10</th>\n",
       "      <td>MARTINA</td>\n",
       "      <td>1991</td>\n",
       "    </tr>\n",
       "  </tbody>\n",
       "</table>\n",
       "</div>"
      ],
      "text/plain": [
       "      Names  Frequency\n",
       "1     MARIA       3843\n",
       "2     PAULA       3166\n",
       "3      LAIA       3094\n",
       "4     JULIA       2976\n",
       "5     CARLA       2621\n",
       "6     LAURA       2339\n",
       "7   CLAUDIA       2210\n",
       "8      ALBA       2107\n",
       "9     LUCIA       1996\n",
       "10  MARTINA       1991"
      ]
     },
     "execution_count": 85,
     "metadata": {},
     "output_type": "execute_result"
    }
   ],
   "source": [
    "# Figuring out all frequencies of Female Names appearing in data:\n",
    "top10f = pd.DataFrame({'Names':unique_Female, 'Frequency':sum_female})\n",
    "newtt= top10f.sort_values(by='Frequency',ascending = False)\n",
    "newtt.index = list(range(1,51))\n",
    "newtt.head(10)"
   ]
  },
  {
   "cell_type": "markdown",
   "metadata": {
    "cell_id": "00022-62c58b46-a0c5-432e-a0e5-bf45348d2e2f",
    "deepnote_cell_type": "markdown",
    "tags": []
   },
   "source": [
    "### 3.1.8 List the 10 most frequent male names"
   ]
  },
  {
   "cell_type": "code",
   "execution_count": 86,
   "metadata": {
    "cell_id": "00020-55c4d392-6bbe-46e8-9492-fba8f337ac98",
    "deepnote_cell_type": "code",
    "deepnote_to_be_reexecuted": false,
    "execution_millis": 0,
    "execution_start": 1623394908566,
    "source_hash": "3c1f1a26",
    "tags": []
   },
   "outputs": [
    {
     "name": "stdout",
     "output_type": "stream",
     "text": [
      "      Order     Name Gender  Year  Frequency\n",
      "525       1     MARC   Male  1996        295\n",
      "526       2    DAVID   Male  1996        198\n",
      "527       3   DANIEL   Male  1996        174\n",
      "528       4   ALBERT   Male  1996        151\n",
      "529       5   VICTOR   Male  1996        145\n",
      "...     ...      ...    ...   ...        ...\n",
      "1045     21   GERARD   Male  2016         57\n",
      "1046     22    ADRIA   Male  2016         51\n",
      "1047     23      ROC   Male  2016         48\n",
      "1048     24  GABRIEL   Male  2016         44\n",
      "1049     25    ROGER   Male  2016         44\n",
      "\n",
      "[525 rows x 5 columns]\n"
     ]
    }
   ],
   "source": [
    "# This was our question:\n",
    "# Selection of top 10 most appearing male names in the data:\n",
    "Male = baby_name_new[baby_name_new['Gender']=='Male']\n",
    "print(Male)"
   ]
  },
  {
   "cell_type": "markdown",
   "metadata": {
    "cell_id": "00024-e5b249fe-c61a-495b-8526-6220c5248bbf",
    "deepnote_cell_type": "markdown",
    "tags": []
   },
   "source": [
    "### 3.1.9 List only the unique male names"
   ]
  },
  {
   "cell_type": "code",
   "execution_count": 87,
   "metadata": {
    "cell_id": "00021-bf2aba82-d1e6-4ed6-a837-b648d649635d",
    "deepnote_cell_type": "code",
    "deepnote_to_be_reexecuted": false,
    "execution_millis": 3,
    "execution_start": 1623394908567,
    "source_hash": "c826143",
    "tags": []
   },
   "outputs": [
    {
     "name": "stdout",
     "output_type": "stream",
     "text": [
      "['MARC' 'DAVID' 'DANIEL' 'ALBERT' 'VICTOR' 'JORDI' 'SERGI' 'ALEJANDRO'\n",
      " 'POL' 'ALEX' 'PAU' 'GUILLEM' 'CARLOS' 'ORIOL' 'ADRIA' 'ROGER' 'OSCAR'\n",
      " 'JAVIER' 'GERARD' 'ARNAU' 'IVAN' 'XAVIER' 'JOAN' 'ERIC' 'PABLO' 'ADRIAN'\n",
      " 'SERGIO' 'JOEL' 'MARTI' 'RAUL' 'JAN' 'ALVARO' 'HUGO' 'IKER' 'BIEL'\n",
      " 'NICOLAS' 'BRUNO' 'LUCAS' 'MAX' 'NIL' 'ALEIX' 'LEO' 'MATEO' 'MARIO' 'ROC'\n",
      " 'GAEL' 'GABRIEL']\n"
     ]
    }
   ],
   "source": [
    "unique_Male = Male['Name'].unique()\n",
    "print(unique_Male)"
   ]
  },
  {
   "cell_type": "markdown",
   "metadata": {
    "cell_id": "00026-986dee24-5afc-4663-9211-61f8f2e9a731",
    "deepnote_cell_type": "markdown",
    "tags": []
   },
   "source": [
    "### 3.1.10 List descending only frequencies of unique male names"
   ]
  },
  {
   "cell_type": "code",
   "execution_count": 88,
   "metadata": {
    "cell_id": "00022-37258fd8-d2f1-4ad5-a938-fb2fc75d5785",
    "deepnote_cell_type": "code",
    "deepnote_to_be_reexecuted": false,
    "execution_millis": 18,
    "execution_start": 1623394908614,
    "source_hash": "ea519e38",
    "tags": []
   },
   "outputs": [
    {
     "data": {
      "text/html": [
       "<div>\n",
       "<style scoped>\n",
       "    .dataframe tbody tr th:only-of-type {\n",
       "        vertical-align: middle;\n",
       "    }\n",
       "\n",
       "    .dataframe tbody tr th {\n",
       "        vertical-align: top;\n",
       "    }\n",
       "\n",
       "    .dataframe thead th {\n",
       "        text-align: right;\n",
       "    }\n",
       "</style>\n",
       "<table border=\"1\" class=\"dataframe\">\n",
       "  <thead>\n",
       "    <tr style=\"text-align: right;\">\n",
       "      <th></th>\n",
       "      <th>Frequencym</th>\n",
       "      <th>Names</th>\n",
       "    </tr>\n",
       "  </thead>\n",
       "  <tbody>\n",
       "    <tr>\n",
       "      <th>1</th>\n",
       "      <td>5079</td>\n",
       "      <td>MARC</td>\n",
       "    </tr>\n",
       "    <tr>\n",
       "      <th>2</th>\n",
       "      <td>3223</td>\n",
       "      <td>ALEX</td>\n",
       "    </tr>\n",
       "    <tr>\n",
       "      <th>3</th>\n",
       "      <td>3131</td>\n",
       "      <td>POL</td>\n",
       "    </tr>\n",
       "    <tr>\n",
       "      <th>4</th>\n",
       "      <td>2909</td>\n",
       "      <td>PAU</td>\n",
       "    </tr>\n",
       "    <tr>\n",
       "      <th>5</th>\n",
       "      <td>2618</td>\n",
       "      <td>DANIEL</td>\n",
       "    </tr>\n",
       "    <tr>\n",
       "      <th>6</th>\n",
       "      <td>2544</td>\n",
       "      <td>DAVID</td>\n",
       "    </tr>\n",
       "    <tr>\n",
       "      <th>7</th>\n",
       "      <td>2182</td>\n",
       "      <td>ARNAU</td>\n",
       "    </tr>\n",
       "    <tr>\n",
       "      <th>8</th>\n",
       "      <td>2082</td>\n",
       "      <td>ERIC</td>\n",
       "    </tr>\n",
       "    <tr>\n",
       "      <th>9</th>\n",
       "      <td>2010</td>\n",
       "      <td>VICTOR</td>\n",
       "    </tr>\n",
       "    <tr>\n",
       "      <th>10</th>\n",
       "      <td>1738</td>\n",
       "      <td>GERARD</td>\n",
       "    </tr>\n",
       "  </tbody>\n",
       "</table>\n",
       "</div>"
      ],
      "text/plain": [
       "    Frequencym   Names\n",
       "1         5079    MARC\n",
       "2         3223    ALEX\n",
       "3         3131     POL\n",
       "4         2909     PAU\n",
       "5         2618  DANIEL\n",
       "6         2544   DAVID\n",
       "7         2182   ARNAU\n",
       "8         2082    ERIC\n",
       "9         2010  VICTOR\n",
       "10        1738  GERARD"
      ]
     },
     "execution_count": 88,
     "metadata": {},
     "output_type": "execute_result"
    }
   ],
   "source": [
    "sum_male = []\n",
    "for nom in unique_Male:\n",
    "    sum_male.append(baby_name[baby_name[\"Name\"] == nom]['Frequency'].sum())\n",
    "sum_male\n",
    "top10m = pd.DataFrame({'Frequencym':sum_male,'Names':unique_Male, })\n",
    "newttt= top10m.sort_values(by='Frequencym',ascending = False)\n",
    "newttt.index = list(range(1,48))\n",
    "newttt.head(10)"
   ]
  },
  {
   "cell_type": "markdown",
   "metadata": {
    "cell_id": "00028-9c040aff-f1a7-427e-bf10-b016639d8bc3",
    "deepnote_cell_type": "markdown",
    "tags": []
   },
   "source": [
    "### 3.1.11 Combine output of female and male results and list the top 10 most unique names in the data"
   ]
  },
  {
   "cell_type": "code",
   "execution_count": 89,
   "metadata": {
    "cell_id": "00023-d8536dec-5350-4dbc-883d-909646f34c09",
    "deepnote_cell_type": "code",
    "deepnote_to_be_reexecuted": false,
    "execution_millis": 6,
    "execution_start": 1623394908674,
    "source_hash": "b1d86896",
    "tags": []
   },
   "outputs": [
    {
     "data": {
      "text/html": [
       "<div>\n",
       "<style scoped>\n",
       "    .dataframe tbody tr th:only-of-type {\n",
       "        vertical-align: middle;\n",
       "    }\n",
       "\n",
       "    .dataframe tbody tr th {\n",
       "        vertical-align: top;\n",
       "    }\n",
       "\n",
       "    .dataframe thead th {\n",
       "        text-align: right;\n",
       "    }\n",
       "</style>\n",
       "<table border=\"1\" class=\"dataframe\">\n",
       "  <thead>\n",
       "    <tr style=\"text-align: right;\">\n",
       "      <th></th>\n",
       "      <th>Names</th>\n",
       "      <th>Frequency</th>\n",
       "      <th>Frequencym</th>\n",
       "      <th>Names</th>\n",
       "    </tr>\n",
       "  </thead>\n",
       "  <tbody>\n",
       "    <tr>\n",
       "      <th>1</th>\n",
       "      <td>MARIA</td>\n",
       "      <td>3843</td>\n",
       "      <td>5079</td>\n",
       "      <td>MARC</td>\n",
       "    </tr>\n",
       "    <tr>\n",
       "      <th>2</th>\n",
       "      <td>PAULA</td>\n",
       "      <td>3166</td>\n",
       "      <td>3223</td>\n",
       "      <td>ALEX</td>\n",
       "    </tr>\n",
       "    <tr>\n",
       "      <th>3</th>\n",
       "      <td>LAIA</td>\n",
       "      <td>3094</td>\n",
       "      <td>3131</td>\n",
       "      <td>POL</td>\n",
       "    </tr>\n",
       "    <tr>\n",
       "      <th>4</th>\n",
       "      <td>JULIA</td>\n",
       "      <td>2976</td>\n",
       "      <td>2909</td>\n",
       "      <td>PAU</td>\n",
       "    </tr>\n",
       "    <tr>\n",
       "      <th>5</th>\n",
       "      <td>CARLA</td>\n",
       "      <td>2621</td>\n",
       "      <td>2618</td>\n",
       "      <td>DANIEL</td>\n",
       "    </tr>\n",
       "    <tr>\n",
       "      <th>6</th>\n",
       "      <td>LAURA</td>\n",
       "      <td>2339</td>\n",
       "      <td>2544</td>\n",
       "      <td>DAVID</td>\n",
       "    </tr>\n",
       "    <tr>\n",
       "      <th>7</th>\n",
       "      <td>CLAUDIA</td>\n",
       "      <td>2210</td>\n",
       "      <td>2182</td>\n",
       "      <td>ARNAU</td>\n",
       "    </tr>\n",
       "    <tr>\n",
       "      <th>8</th>\n",
       "      <td>ALBA</td>\n",
       "      <td>2107</td>\n",
       "      <td>2082</td>\n",
       "      <td>ERIC</td>\n",
       "    </tr>\n",
       "    <tr>\n",
       "      <th>9</th>\n",
       "      <td>LUCIA</td>\n",
       "      <td>1996</td>\n",
       "      <td>2010</td>\n",
       "      <td>VICTOR</td>\n",
       "    </tr>\n",
       "    <tr>\n",
       "      <th>10</th>\n",
       "      <td>MARTINA</td>\n",
       "      <td>1991</td>\n",
       "      <td>1738</td>\n",
       "      <td>GERARD</td>\n",
       "    </tr>\n",
       "  </tbody>\n",
       "</table>\n",
       "</div>"
      ],
      "text/plain": [
       "      Names  Frequency  Frequencym   Names\n",
       "1     MARIA       3843        5079    MARC\n",
       "2     PAULA       3166        3223    ALEX\n",
       "3      LAIA       3094        3131     POL\n",
       "4     JULIA       2976        2909     PAU\n",
       "5     CARLA       2621        2618  DANIEL\n",
       "6     LAURA       2339        2544   DAVID\n",
       "7   CLAUDIA       2210        2182   ARNAU\n",
       "8      ALBA       2107        2082    ERIC\n",
       "9     LUCIA       1996        2010  VICTOR\n",
       "10  MARTINA       1991        1738  GERARD"
      ]
     },
     "execution_count": 89,
     "metadata": {},
     "output_type": "execute_result"
    }
   ],
   "source": [
    "# This was our question:\n",
    "# Selection of top 10 most appearing male names in the data:\n",
    "result = pd.concat([newtt, newttt], axis=1, join=\"inner\")\n",
    "result.head(10)\n"
   ]
  },
  {
   "cell_type": "markdown",
   "metadata": {
    "cell_id": "00031-877cca40-d95e-4fd4-a7d0-c531fe67d17e",
    "deepnote_cell_type": "markdown",
    "tags": []
   },
   "source": [
    "## 3.2.1 Compare the difference of frequncies of female and male names "
   ]
  },
  {
   "cell_type": "markdown",
   "metadata": {
    "cell_id": "00030-5befba9f-6811-4fea-8363-d740b217462e",
    "deepnote_cell_type": "markdown",
    "tags": []
   },
   "source": [
    "### 3.2.1 Analyse the difference of frequencies for the top used male and female names "
   ]
  },
  {
   "cell_type": "code",
   "execution_count": 110,
   "metadata": {
    "cell_id": "00024-675a6e4c-9cc7-4edb-9a4d-9b177fee5989",
    "deepnote_cell_type": "code",
    "deepnote_to_be_reexecuted": false,
    "execution_millis": 11,
    "execution_start": 1623394908702,
    "source_hash": "8f63daa4",
    "tags": []
   },
   "outputs": [
    {
     "data": {
      "text/html": [
       "<div>\n",
       "<style scoped>\n",
       "    .dataframe tbody tr th:only-of-type {\n",
       "        vertical-align: middle;\n",
       "    }\n",
       "\n",
       "    .dataframe tbody tr th {\n",
       "        vertical-align: top;\n",
       "    }\n",
       "\n",
       "    .dataframe thead th {\n",
       "        text-align: right;\n",
       "    }\n",
       "</style>\n",
       "<table border=\"1\" class=\"dataframe\">\n",
       "  <thead>\n",
       "    <tr style=\"text-align: right;\">\n",
       "      <th></th>\n",
       "      <th>Freq_Diff</th>\n",
       "    </tr>\n",
       "  </thead>\n",
       "  <tbody>\n",
       "    <tr>\n",
       "      <th>1</th>\n",
       "      <td>1236</td>\n",
       "    </tr>\n",
       "    <tr>\n",
       "      <th>2</th>\n",
       "      <td>57</td>\n",
       "    </tr>\n",
       "    <tr>\n",
       "      <th>3</th>\n",
       "      <td>37</td>\n",
       "    </tr>\n",
       "    <tr>\n",
       "      <th>4</th>\n",
       "      <td>-67</td>\n",
       "    </tr>\n",
       "    <tr>\n",
       "      <th>5</th>\n",
       "      <td>-3</td>\n",
       "    </tr>\n",
       "    <tr>\n",
       "      <th>6</th>\n",
       "      <td>205</td>\n",
       "    </tr>\n",
       "    <tr>\n",
       "      <th>7</th>\n",
       "      <td>-28</td>\n",
       "    </tr>\n",
       "    <tr>\n",
       "      <th>8</th>\n",
       "      <td>-25</td>\n",
       "    </tr>\n",
       "    <tr>\n",
       "      <th>9</th>\n",
       "      <td>14</td>\n",
       "    </tr>\n",
       "    <tr>\n",
       "      <th>10</th>\n",
       "      <td>-253</td>\n",
       "    </tr>\n",
       "    <tr>\n",
       "      <th>11</th>\n",
       "      <td>-230</td>\n",
       "    </tr>\n",
       "    <tr>\n",
       "      <th>12</th>\n",
       "      <td>-360</td>\n",
       "    </tr>\n",
       "    <tr>\n",
       "      <th>13</th>\n",
       "      <td>-370</td>\n",
       "    </tr>\n",
       "    <tr>\n",
       "      <th>14</th>\n",
       "      <td>-58</td>\n",
       "    </tr>\n",
       "    <tr>\n",
       "      <th>15</th>\n",
       "      <td>-118</td>\n",
       "    </tr>\n",
       "    <tr>\n",
       "      <th>16</th>\n",
       "      <td>45</td>\n",
       "    </tr>\n",
       "    <tr>\n",
       "      <th>17</th>\n",
       "      <td>89</td>\n",
       "    </tr>\n",
       "    <tr>\n",
       "      <th>18</th>\n",
       "      <td>89</td>\n",
       "    </tr>\n",
       "    <tr>\n",
       "      <th>19</th>\n",
       "      <td>-55</td>\n",
       "    </tr>\n",
       "    <tr>\n",
       "      <th>20</th>\n",
       "      <td>-10</td>\n",
       "    </tr>\n",
       "    <tr>\n",
       "      <th>21</th>\n",
       "      <td>-83</td>\n",
       "    </tr>\n",
       "    <tr>\n",
       "      <th>22</th>\n",
       "      <td>8</td>\n",
       "    </tr>\n",
       "    <tr>\n",
       "      <th>23</th>\n",
       "      <td>-48</td>\n",
       "    </tr>\n",
       "    <tr>\n",
       "      <th>24</th>\n",
       "      <td>90</td>\n",
       "    </tr>\n",
       "    <tr>\n",
       "      <th>25</th>\n",
       "      <td>47</td>\n",
       "    </tr>\n",
       "    <tr>\n",
       "      <th>26</th>\n",
       "      <td>3</td>\n",
       "    </tr>\n",
       "    <tr>\n",
       "      <th>27</th>\n",
       "      <td>15</td>\n",
       "    </tr>\n",
       "    <tr>\n",
       "      <th>28</th>\n",
       "      <td>54</td>\n",
       "    </tr>\n",
       "    <tr>\n",
       "      <th>29</th>\n",
       "      <td>12</td>\n",
       "    </tr>\n",
       "    <tr>\n",
       "      <th>30</th>\n",
       "      <td>128</td>\n",
       "    </tr>\n",
       "    <tr>\n",
       "      <th>31</th>\n",
       "      <td>116</td>\n",
       "    </tr>\n",
       "    <tr>\n",
       "      <th>32</th>\n",
       "      <td>120</td>\n",
       "    </tr>\n",
       "    <tr>\n",
       "      <th>33</th>\n",
       "      <td>129</td>\n",
       "    </tr>\n",
       "    <tr>\n",
       "      <th>34</th>\n",
       "      <td>102</td>\n",
       "    </tr>\n",
       "    <tr>\n",
       "      <th>35</th>\n",
       "      <td>82</td>\n",
       "    </tr>\n",
       "    <tr>\n",
       "      <th>36</th>\n",
       "      <td>123</td>\n",
       "    </tr>\n",
       "    <tr>\n",
       "      <th>37</th>\n",
       "      <td>128</td>\n",
       "    </tr>\n",
       "    <tr>\n",
       "      <th>38</th>\n",
       "      <td>13</td>\n",
       "    </tr>\n",
       "    <tr>\n",
       "      <th>39</th>\n",
       "      <td>28</td>\n",
       "    </tr>\n",
       "    <tr>\n",
       "      <th>40</th>\n",
       "      <td>-57</td>\n",
       "    </tr>\n",
       "    <tr>\n",
       "      <th>41</th>\n",
       "      <td>-40</td>\n",
       "    </tr>\n",
       "    <tr>\n",
       "      <th>42</th>\n",
       "      <td>-31</td>\n",
       "    </tr>\n",
       "    <tr>\n",
       "      <th>43</th>\n",
       "      <td>-58</td>\n",
       "    </tr>\n",
       "    <tr>\n",
       "      <th>44</th>\n",
       "      <td>-58</td>\n",
       "    </tr>\n",
       "    <tr>\n",
       "      <th>45</th>\n",
       "      <td>-58</td>\n",
       "    </tr>\n",
       "    <tr>\n",
       "      <th>46</th>\n",
       "      <td>-67</td>\n",
       "    </tr>\n",
       "    <tr>\n",
       "      <th>47</th>\n",
       "      <td>-65</td>\n",
       "    </tr>\n",
       "  </tbody>\n",
       "</table>\n",
       "</div>"
      ],
      "text/plain": [
       "    Freq_Diff\n",
       "1        1236\n",
       "2          57\n",
       "3          37\n",
       "4         -67\n",
       "5          -3\n",
       "6         205\n",
       "7         -28\n",
       "8         -25\n",
       "9          14\n",
       "10       -253\n",
       "11       -230\n",
       "12       -360\n",
       "13       -370\n",
       "14        -58\n",
       "15       -118\n",
       "16         45\n",
       "17         89\n",
       "18         89\n",
       "19        -55\n",
       "20        -10\n",
       "21        -83\n",
       "22          8\n",
       "23        -48\n",
       "24         90\n",
       "25         47\n",
       "26          3\n",
       "27         15\n",
       "28         54\n",
       "29         12\n",
       "30        128\n",
       "31        116\n",
       "32        120\n",
       "33        129\n",
       "34        102\n",
       "35         82\n",
       "36        123\n",
       "37        128\n",
       "38         13\n",
       "39         28\n",
       "40        -57\n",
       "41        -40\n",
       "42        -31\n",
       "43        -58\n",
       "44        -58\n",
       "45        -58\n",
       "46        -67\n",
       "47        -65"
      ]
     },
     "execution_count": 110,
     "metadata": {},
     "output_type": "execute_result"
    }
   ],
   "source": [
    "diff = result['Frequencym']- result['Frequency']\n",
    "#diff.head(100)\n",
    "difference = diff.to_frame()\n",
    "colname = ['Freq_Diff']\n",
    "difference.columns = colname\n",
    "difference\n",
    "#hypothesis:?    "
   ]
  },
  {
   "cell_type": "markdown",
   "metadata": {
    "cell_id": "00034-744eb42b-e3f3-4939-8af3-27df6ffa151f",
    "deepnote_cell_type": "markdown",
    "tags": []
   },
   "source": [
    "### 3.2.2 Combine the result to the table with the most frequent used male and female names "
   ]
  },
  {
   "cell_type": "code",
   "execution_count": 111,
   "metadata": {
    "cell_id": "00025-5f162497-d4c9-4a3d-9784-2d005d0e8cce",
    "deepnote_cell_type": "code",
    "deepnote_to_be_reexecuted": false,
    "execution_millis": 8,
    "execution_start": 1623394908747,
    "source_hash": "6b3d2b0a",
    "tags": []
   },
   "outputs": [
    {
     "data": {
      "text/html": [
       "<div>\n",
       "<style scoped>\n",
       "    .dataframe tbody tr th:only-of-type {\n",
       "        vertical-align: middle;\n",
       "    }\n",
       "\n",
       "    .dataframe tbody tr th {\n",
       "        vertical-align: top;\n",
       "    }\n",
       "\n",
       "    .dataframe thead th {\n",
       "        text-align: right;\n",
       "    }\n",
       "</style>\n",
       "<table border=\"1\" class=\"dataframe\">\n",
       "  <thead>\n",
       "    <tr style=\"text-align: right;\">\n",
       "      <th></th>\n",
       "      <th>Names</th>\n",
       "      <th>Frequency</th>\n",
       "      <th>Frequencym</th>\n",
       "      <th>Names</th>\n",
       "      <th>Freq_Diff</th>\n",
       "    </tr>\n",
       "  </thead>\n",
       "  <tbody>\n",
       "    <tr>\n",
       "      <th>1</th>\n",
       "      <td>MARIA</td>\n",
       "      <td>3843</td>\n",
       "      <td>5079</td>\n",
       "      <td>MARC</td>\n",
       "      <td>1236</td>\n",
       "    </tr>\n",
       "    <tr>\n",
       "      <th>2</th>\n",
       "      <td>PAULA</td>\n",
       "      <td>3166</td>\n",
       "      <td>3223</td>\n",
       "      <td>ALEX</td>\n",
       "      <td>57</td>\n",
       "    </tr>\n",
       "    <tr>\n",
       "      <th>3</th>\n",
       "      <td>LAIA</td>\n",
       "      <td>3094</td>\n",
       "      <td>3131</td>\n",
       "      <td>POL</td>\n",
       "      <td>37</td>\n",
       "    </tr>\n",
       "    <tr>\n",
       "      <th>4</th>\n",
       "      <td>JULIA</td>\n",
       "      <td>2976</td>\n",
       "      <td>2909</td>\n",
       "      <td>PAU</td>\n",
       "      <td>-67</td>\n",
       "    </tr>\n",
       "    <tr>\n",
       "      <th>5</th>\n",
       "      <td>CARLA</td>\n",
       "      <td>2621</td>\n",
       "      <td>2618</td>\n",
       "      <td>DANIEL</td>\n",
       "      <td>-3</td>\n",
       "    </tr>\n",
       "  </tbody>\n",
       "</table>\n",
       "</div>"
      ],
      "text/plain": [
       "   Names  Frequency  Frequencym   Names  Freq_Diff\n",
       "1  MARIA       3843        5079    MARC       1236\n",
       "2  PAULA       3166        3223    ALEX         57\n",
       "3   LAIA       3094        3131     POL         37\n",
       "4  JULIA       2976        2909     PAU        -67\n",
       "5  CARLA       2621        2618  DANIEL         -3"
      ]
     },
     "execution_count": 111,
     "metadata": {},
     "output_type": "execute_result"
    }
   ],
   "source": [
    "difference = pd.concat([result, difference], axis=1, join=\"inner\")\n",
    "difference.head()"
   ]
  },
  {
   "cell_type": "code",
   "execution_count": 112,
   "metadata": {},
   "outputs": [
    {
     "data": {
      "text/html": [
       "<div>\n",
       "<style scoped>\n",
       "    .dataframe tbody tr th:only-of-type {\n",
       "        vertical-align: middle;\n",
       "    }\n",
       "\n",
       "    .dataframe tbody tr th {\n",
       "        vertical-align: top;\n",
       "    }\n",
       "\n",
       "    .dataframe thead th {\n",
       "        text-align: right;\n",
       "    }\n",
       "</style>\n",
       "<table border=\"1\" class=\"dataframe\">\n",
       "  <thead>\n",
       "    <tr style=\"text-align: right;\">\n",
       "      <th></th>\n",
       "      <th>Names</th>\n",
       "      <th>Frequency</th>\n",
       "      <th>Frequencym</th>\n",
       "      <th>Names</th>\n",
       "      <th>Freq_Diff</th>\n",
       "      <th>Pct_change</th>\n",
       "    </tr>\n",
       "  </thead>\n",
       "  <tbody>\n",
       "    <tr>\n",
       "      <th>1</th>\n",
       "      <td>MARIA</td>\n",
       "      <td>3843</td>\n",
       "      <td>5079</td>\n",
       "      <td>MARC</td>\n",
       "      <td>1236</td>\n",
       "      <td>24.335499</td>\n",
       "    </tr>\n",
       "    <tr>\n",
       "      <th>2</th>\n",
       "      <td>PAULA</td>\n",
       "      <td>3166</td>\n",
       "      <td>3223</td>\n",
       "      <td>ALEX</td>\n",
       "      <td>57</td>\n",
       "      <td>1.768539</td>\n",
       "    </tr>\n",
       "    <tr>\n",
       "      <th>3</th>\n",
       "      <td>LAIA</td>\n",
       "      <td>3094</td>\n",
       "      <td>3131</td>\n",
       "      <td>POL</td>\n",
       "      <td>37</td>\n",
       "      <td>1.181731</td>\n",
       "    </tr>\n",
       "    <tr>\n",
       "      <th>4</th>\n",
       "      <td>JULIA</td>\n",
       "      <td>2976</td>\n",
       "      <td>2909</td>\n",
       "      <td>PAU</td>\n",
       "      <td>-67</td>\n",
       "      <td>-2.303197</td>\n",
       "    </tr>\n",
       "    <tr>\n",
       "      <th>5</th>\n",
       "      <td>CARLA</td>\n",
       "      <td>2621</td>\n",
       "      <td>2618</td>\n",
       "      <td>DANIEL</td>\n",
       "      <td>-3</td>\n",
       "      <td>-0.114591</td>\n",
       "    </tr>\n",
       "    <tr>\n",
       "      <th>6</th>\n",
       "      <td>LAURA</td>\n",
       "      <td>2339</td>\n",
       "      <td>2544</td>\n",
       "      <td>DAVID</td>\n",
       "      <td>205</td>\n",
       "      <td>8.058176</td>\n",
       "    </tr>\n",
       "    <tr>\n",
       "      <th>7</th>\n",
       "      <td>CLAUDIA</td>\n",
       "      <td>2210</td>\n",
       "      <td>2182</td>\n",
       "      <td>ARNAU</td>\n",
       "      <td>-28</td>\n",
       "      <td>-1.283226</td>\n",
       "    </tr>\n",
       "    <tr>\n",
       "      <th>8</th>\n",
       "      <td>ALBA</td>\n",
       "      <td>2107</td>\n",
       "      <td>2082</td>\n",
       "      <td>ERIC</td>\n",
       "      <td>-25</td>\n",
       "      <td>-1.200768</td>\n",
       "    </tr>\n",
       "    <tr>\n",
       "      <th>9</th>\n",
       "      <td>LUCIA</td>\n",
       "      <td>1996</td>\n",
       "      <td>2010</td>\n",
       "      <td>VICTOR</td>\n",
       "      <td>14</td>\n",
       "      <td>0.696517</td>\n",
       "    </tr>\n",
       "    <tr>\n",
       "      <th>10</th>\n",
       "      <td>MARTINA</td>\n",
       "      <td>1991</td>\n",
       "      <td>1738</td>\n",
       "      <td>GERARD</td>\n",
       "      <td>-253</td>\n",
       "      <td>-14.556962</td>\n",
       "    </tr>\n",
       "  </tbody>\n",
       "</table>\n",
       "</div>"
      ],
      "text/plain": [
       "      Names  Frequency  Frequencym   Names  Freq_Diff  Pct_change\n",
       "1     MARIA       3843        5079    MARC       1236   24.335499\n",
       "2     PAULA       3166        3223    ALEX         57    1.768539\n",
       "3      LAIA       3094        3131     POL         37    1.181731\n",
       "4     JULIA       2976        2909     PAU        -67   -2.303197\n",
       "5     CARLA       2621        2618  DANIEL         -3   -0.114591\n",
       "6     LAURA       2339        2544   DAVID        205    8.058176\n",
       "7   CLAUDIA       2210        2182   ARNAU        -28   -1.283226\n",
       "8      ALBA       2107        2082    ERIC        -25   -1.200768\n",
       "9     LUCIA       1996        2010  VICTOR         14    0.696517\n",
       "10  MARTINA       1991        1738  GERARD       -253  -14.556962"
      ]
     },
     "execution_count": 112,
     "metadata": {},
     "output_type": "execute_result"
    }
   ],
   "source": [
    "#difference['Pct_change'] = difference.pct_change(difference['Freq_F'],difference['Freq_M']).reset_index(drop=True)   \n",
    "#difference\n",
    "\n",
    "difference['Pct_change'] = ((difference['Frequencym'] - difference['Frequency'])/ difference['Frequencym']) * 100\n",
    "\n",
    "#(5079-3843)/5079*100\n",
    "difference.head(10)"
   ]
  },
  {
   "cell_type": "code",
   "execution_count": 93,
   "metadata": {
    "cell_id": "00026-d71a814a-0303-44c4-8d0a-e6f6c40d6f28",
    "deepnote_cell_type": "code",
    "deepnote_to_be_reexecuted": false,
    "execution_millis": 72,
    "execution_start": 1623394908752,
    "source_hash": "8d8afc5f",
    "tags": []
   },
   "outputs": [
    {
     "data": {
      "text/html": [
       "<div>\n",
       "<style scoped>\n",
       "    .dataframe tbody tr th:only-of-type {\n",
       "        vertical-align: middle;\n",
       "    }\n",
       "\n",
       "    .dataframe tbody tr th {\n",
       "        vertical-align: top;\n",
       "    }\n",
       "\n",
       "    .dataframe thead th {\n",
       "        text-align: right;\n",
       "    }\n",
       "</style>\n",
       "<table border=\"1\" class=\"dataframe\">\n",
       "  <thead>\n",
       "    <tr style=\"text-align: right;\">\n",
       "      <th></th>\n",
       "      <th>Name</th>\n",
       "      <th>Frequency</th>\n",
       "      <th>Year</th>\n",
       "    </tr>\n",
       "  </thead>\n",
       "  <tbody>\n",
       "    <tr>\n",
       "      <th>1</th>\n",
       "      <td>LAURA</td>\n",
       "      <td>237</td>\n",
       "      <td>1996</td>\n",
       "    </tr>\n",
       "    <tr>\n",
       "      <th>2</th>\n",
       "      <td>MARIA</td>\n",
       "      <td>219</td>\n",
       "      <td>1996</td>\n",
       "    </tr>\n",
       "    <tr>\n",
       "      <th>3</th>\n",
       "      <td>MARTA</td>\n",
       "      <td>206</td>\n",
       "      <td>1996</td>\n",
       "    </tr>\n",
       "    <tr>\n",
       "      <th>4</th>\n",
       "      <td>MARIA</td>\n",
       "      <td>241</td>\n",
       "      <td>1997</td>\n",
       "    </tr>\n",
       "    <tr>\n",
       "      <th>5</th>\n",
       "      <td>LAURA</td>\n",
       "      <td>229</td>\n",
       "      <td>1997</td>\n",
       "    </tr>\n",
       "    <tr>\n",
       "      <th>...</th>\n",
       "      <td>...</td>\n",
       "      <td>...</td>\n",
       "      <td>...</td>\n",
       "    </tr>\n",
       "    <tr>\n",
       "      <th>59</th>\n",
       "      <td>JULIA</td>\n",
       "      <td>123</td>\n",
       "      <td>2015</td>\n",
       "    </tr>\n",
       "    <tr>\n",
       "      <th>60</th>\n",
       "      <td>LUCIA</td>\n",
       "      <td>120</td>\n",
       "      <td>2015</td>\n",
       "    </tr>\n",
       "    <tr>\n",
       "      <th>61</th>\n",
       "      <td>JULIA</td>\n",
       "      <td>137</td>\n",
       "      <td>2016</td>\n",
       "    </tr>\n",
       "    <tr>\n",
       "      <th>62</th>\n",
       "      <td>LAIA</td>\n",
       "      <td>129</td>\n",
       "      <td>2016</td>\n",
       "    </tr>\n",
       "    <tr>\n",
       "      <th>63</th>\n",
       "      <td>LUCIA</td>\n",
       "      <td>122</td>\n",
       "      <td>2016</td>\n",
       "    </tr>\n",
       "  </tbody>\n",
       "</table>\n",
       "<p>63 rows × 3 columns</p>\n",
       "</div>"
      ],
      "text/plain": [
       "     Name  Frequency  Year\n",
       "1   LAURA        237  1996\n",
       "2   MARIA        219  1996\n",
       "3   MARTA        206  1996\n",
       "4   MARIA        241  1997\n",
       "5   LAURA        229  1997\n",
       "..    ...        ...   ...\n",
       "59  JULIA        123  2015\n",
       "60  LUCIA        120  2015\n",
       "61  JULIA        137  2016\n",
       "62   LAIA        129  2016\n",
       "63  LUCIA        122  2016\n",
       "\n",
       "[63 rows x 3 columns]"
      ]
     },
     "execution_count": 93,
     "metadata": {},
     "output_type": "execute_result"
    }
   ],
   "source": [
    "yearz = []\n",
    "for i in Female['Year'].unique():\n",
    "    yearz.append(Female[['Name','Frequency','Year']][Female[\"Year\"] == i].head(3))\n",
    "\n",
    "yearz\n",
    "top3 = pd.concat(yearz)\n",
    "top3.index = list(range(1,64))\n",
    "top3.head(63)\n"
   ]
  },
  {
   "cell_type": "markdown",
   "metadata": {
    "cell_id": "00037-eda9357b-aa64-4c65-8355-af2d9a42e009",
    "deepnote_cell_type": "markdown",
    "tags": []
   },
   "source": [
    "## 3.3 Analyse the names if they are international or local"
   ]
  },
  {
   "cell_type": "markdown",
   "metadata": {
    "cell_id": "00034-85a574c2-2a34-45d0-8982-25f06cc5d65c",
    "deepnote_cell_type": "markdown",
    "tags": []
   },
   "source": [
    "### 3.3.1 List the top 3 names from each year and check whether these are local or international names"
   ]
  },
  {
   "cell_type": "code",
   "execution_count": 94,
   "metadata": {
    "cell_id": "00025-fb8aa775-b481-4844-9b3d-49c8deec4a6c",
    "deepnote_cell_type": "code",
    "deepnote_to_be_reexecuted": false,
    "execution_millis": 50,
    "execution_start": 1623394908879,
    "source_hash": "f0d1dda9",
    "tags": []
   },
   "outputs": [
    {
     "data": {
      "text/html": [
       "<div>\n",
       "<style scoped>\n",
       "    .dataframe tbody tr th:only-of-type {\n",
       "        vertical-align: middle;\n",
       "    }\n",
       "\n",
       "    .dataframe tbody tr th {\n",
       "        vertical-align: top;\n",
       "    }\n",
       "\n",
       "    .dataframe thead th {\n",
       "        text-align: right;\n",
       "    }\n",
       "</style>\n",
       "<table border=\"1\" class=\"dataframe\">\n",
       "  <thead>\n",
       "    <tr style=\"text-align: right;\">\n",
       "      <th></th>\n",
       "      <th>Name</th>\n",
       "      <th>Frequency</th>\n",
       "      <th>Year</th>\n",
       "      <th>nationality</th>\n",
       "    </tr>\n",
       "  </thead>\n",
       "  <tbody>\n",
       "    <tr>\n",
       "      <th>1</th>\n",
       "      <td>LAURA</td>\n",
       "      <td>237</td>\n",
       "      <td>1996</td>\n",
       "      <td>national</td>\n",
       "    </tr>\n",
       "    <tr>\n",
       "      <th>2</th>\n",
       "      <td>MARIA</td>\n",
       "      <td>219</td>\n",
       "      <td>1996</td>\n",
       "      <td>national</td>\n",
       "    </tr>\n",
       "    <tr>\n",
       "      <th>3</th>\n",
       "      <td>MARTA</td>\n",
       "      <td>206</td>\n",
       "      <td>1996</td>\n",
       "      <td>national</td>\n",
       "    </tr>\n",
       "    <tr>\n",
       "      <th>4</th>\n",
       "      <td>MARIA</td>\n",
       "      <td>241</td>\n",
       "      <td>1997</td>\n",
       "      <td>national</td>\n",
       "    </tr>\n",
       "    <tr>\n",
       "      <th>5</th>\n",
       "      <td>LAURA</td>\n",
       "      <td>229</td>\n",
       "      <td>1997</td>\n",
       "      <td>national</td>\n",
       "    </tr>\n",
       "    <tr>\n",
       "      <th>...</th>\n",
       "      <td>...</td>\n",
       "      <td>...</td>\n",
       "      <td>...</td>\n",
       "      <td>...</td>\n",
       "    </tr>\n",
       "    <tr>\n",
       "      <th>59</th>\n",
       "      <td>JULIA</td>\n",
       "      <td>123</td>\n",
       "      <td>2015</td>\n",
       "      <td>national</td>\n",
       "    </tr>\n",
       "    <tr>\n",
       "      <th>60</th>\n",
       "      <td>LUCIA</td>\n",
       "      <td>120</td>\n",
       "      <td>2015</td>\n",
       "      <td>international</td>\n",
       "    </tr>\n",
       "    <tr>\n",
       "      <th>61</th>\n",
       "      <td>JULIA</td>\n",
       "      <td>137</td>\n",
       "      <td>2016</td>\n",
       "      <td>national</td>\n",
       "    </tr>\n",
       "    <tr>\n",
       "      <th>62</th>\n",
       "      <td>LAIA</td>\n",
       "      <td>129</td>\n",
       "      <td>2016</td>\n",
       "      <td>national</td>\n",
       "    </tr>\n",
       "    <tr>\n",
       "      <th>63</th>\n",
       "      <td>LUCIA</td>\n",
       "      <td>122</td>\n",
       "      <td>2016</td>\n",
       "      <td>international</td>\n",
       "    </tr>\n",
       "  </tbody>\n",
       "</table>\n",
       "<p>63 rows × 4 columns</p>\n",
       "</div>"
      ],
      "text/plain": [
       "     Name  Frequency  Year    nationality\n",
       "1   LAURA        237  1996       national\n",
       "2   MARIA        219  1996       national\n",
       "3   MARTA        206  1996       national\n",
       "4   MARIA        241  1997       national\n",
       "5   LAURA        229  1997       national\n",
       "..    ...        ...   ...            ...\n",
       "59  JULIA        123  2015       national\n",
       "60  LUCIA        120  2015  international\n",
       "61  JULIA        137  2016       national\n",
       "62   LAIA        129  2016       national\n",
       "63  LUCIA        122  2016  international\n",
       "\n",
       "[63 rows x 4 columns]"
      ]
     },
     "execution_count": 94,
     "metadata": {},
     "output_type": "execute_result"
    }
   ],
   "source": [
    "# Top 3 female names for each year \n",
    "# question in question : # checking online if name from dataframe is local or international:\n",
    "\n",
    "# hypothesis: total frequency of international (from checked list from internet (behindthename)):\n",
    "  # only one Name with X\n",
    "\n",
    "nationalityf = []\n",
    "#top3[\"nationalityf\"] = 0\n",
    "for nom in top3[\"Name\"]:\n",
    "#for i in range(1, len(top3['Name']) + 1):\n",
    "    if nom in ['LAURA','MARIA','MARTA','PAULA', 'CARLA', 'LAIA', 'JULIA', 'MARTINA',\"EMMA\"]:\n",
    "    #if top3[\"Name\"][i] in ['LAURA','MARIA','MARTA','PAULA', 'CARLA', 'LAIA', 'JULIA', 'MARTINA',\"EMMA\"]:\n",
    "        nationalityf.append('national')\n",
    "        #top3[\"nationalityf\"][i] = \"national\"\n",
    "    else:\n",
    "        nationalityf.append('international')\n",
    "        #top3[\"nationality\"][i] = \"international\"\n",
    "top3[\"nationality\"] = nationalityf\n",
    "top3"
   ]
  },
  {
   "cell_type": "code",
   "execution_count": 95,
   "metadata": {
    "cell_id": "00024-a3ee548f-2aec-41a9-92f8-7edaadc1ac49",
    "deepnote_cell_type": "code",
    "deepnote_to_be_reexecuted": false,
    "execution_millis": 0,
    "execution_start": 1623394908910,
    "source_hash": "c3929319",
    "tags": []
   },
   "outputs": [
    {
     "name": "stdout",
     "output_type": "stream",
     "text": [
      "['LAURA', 'MARIA', 'MARTA', 'PAULA', 'CARLA', 'LAIA', 'JULIA', 'LUCIA', 'MARTINA', 'EMMA']\n"
     ]
    }
   ],
   "source": [
    "top3['Name'].unique()\n",
    "top3_list = list(top3['Name'].unique())\n",
    "print(top3_list)"
   ]
  },
  {
   "cell_type": "code",
   "execution_count": 96,
   "metadata": {
    "cell_id": "00027-d142da1e-9f4e-48a6-a14b-f1b18107e175",
    "deepnote_cell_type": "code",
    "deepnote_to_be_reexecuted": false,
    "execution_millis": 38,
    "execution_start": 1623394908921,
    "source_hash": "48c69f9e",
    "tags": []
   },
   "outputs": [
    {
     "data": {
      "text/html": [
       "<div>\n",
       "<style scoped>\n",
       "    .dataframe tbody tr th:only-of-type {\n",
       "        vertical-align: middle;\n",
       "    }\n",
       "\n",
       "    .dataframe tbody tr th {\n",
       "        vertical-align: top;\n",
       "    }\n",
       "\n",
       "    .dataframe thead th {\n",
       "        text-align: right;\n",
       "    }\n",
       "</style>\n",
       "<table border=\"1\" class=\"dataframe\">\n",
       "  <thead>\n",
       "    <tr style=\"text-align: right;\">\n",
       "      <th></th>\n",
       "      <th>Name</th>\n",
       "      <th>Frequency</th>\n",
       "      <th>Year</th>\n",
       "    </tr>\n",
       "  </thead>\n",
       "  <tbody>\n",
       "    <tr>\n",
       "      <th>1</th>\n",
       "      <td>MARC</td>\n",
       "      <td>295</td>\n",
       "      <td>1996</td>\n",
       "    </tr>\n",
       "    <tr>\n",
       "      <th>2</th>\n",
       "      <td>DAVID</td>\n",
       "      <td>198</td>\n",
       "      <td>1996</td>\n",
       "    </tr>\n",
       "    <tr>\n",
       "      <th>3</th>\n",
       "      <td>DANIEL</td>\n",
       "      <td>174</td>\n",
       "      <td>1996</td>\n",
       "    </tr>\n",
       "    <tr>\n",
       "      <th>4</th>\n",
       "      <td>MARC</td>\n",
       "      <td>348</td>\n",
       "      <td>1997</td>\n",
       "    </tr>\n",
       "    <tr>\n",
       "      <th>5</th>\n",
       "      <td>DAVID</td>\n",
       "      <td>183</td>\n",
       "      <td>1997</td>\n",
       "    </tr>\n",
       "    <tr>\n",
       "      <th>...</th>\n",
       "      <td>...</td>\n",
       "      <td>...</td>\n",
       "      <td>...</td>\n",
       "    </tr>\n",
       "    <tr>\n",
       "      <th>59</th>\n",
       "      <td>MARTI</td>\n",
       "      <td>133</td>\n",
       "      <td>2015</td>\n",
       "    </tr>\n",
       "    <tr>\n",
       "      <th>60</th>\n",
       "      <td>ALEX</td>\n",
       "      <td>110</td>\n",
       "      <td>2015</td>\n",
       "    </tr>\n",
       "    <tr>\n",
       "      <th>61</th>\n",
       "      <td>MARC</td>\n",
       "      <td>148</td>\n",
       "      <td>2016</td>\n",
       "    </tr>\n",
       "    <tr>\n",
       "      <th>62</th>\n",
       "      <td>ALEX</td>\n",
       "      <td>140</td>\n",
       "      <td>2016</td>\n",
       "    </tr>\n",
       "    <tr>\n",
       "      <th>63</th>\n",
       "      <td>POL</td>\n",
       "      <td>110</td>\n",
       "      <td>2016</td>\n",
       "    </tr>\n",
       "  </tbody>\n",
       "</table>\n",
       "<p>63 rows × 3 columns</p>\n",
       "</div>"
      ],
      "text/plain": [
       "      Name  Frequency  Year\n",
       "1     MARC        295  1996\n",
       "2    DAVID        198  1996\n",
       "3   DANIEL        174  1996\n",
       "4     MARC        348  1997\n",
       "5    DAVID        183  1997\n",
       "..     ...        ...   ...\n",
       "59   MARTI        133  2015\n",
       "60    ALEX        110  2015\n",
       "61    MARC        148  2016\n",
       "62    ALEX        140  2016\n",
       "63     POL        110  2016\n",
       "\n",
       "[63 rows x 3 columns]"
      ]
     },
     "execution_count": 96,
     "metadata": {},
     "output_type": "execute_result"
    }
   ],
   "source": [
    "yearzm = []\n",
    "for i in Male['Year'].unique():\n",
    "    yearzm.append(Male[['Name','Frequency','Year']][Male[\"Year\"] == i].head(3))\n",
    "\n",
    "yearzm\n",
    "top3m = pd.concat(yearzm)\n",
    "top3m.index = list(range(1,64))\n",
    "top3m.head(63)"
   ]
  },
  {
   "cell_type": "code",
   "execution_count": 97,
   "metadata": {
    "cell_id": "00028-403caeb3-5176-4da2-9015-eb7b994f361f",
    "deepnote_cell_type": "code",
    "deepnote_to_be_reexecuted": false,
    "execution_millis": 10,
    "execution_start": 1623394909000,
    "source_hash": "c023c7c7",
    "tags": []
   },
   "outputs": [
    {
     "data": {
      "text/html": [
       "<div>\n",
       "<style scoped>\n",
       "    .dataframe tbody tr th:only-of-type {\n",
       "        vertical-align: middle;\n",
       "    }\n",
       "\n",
       "    .dataframe tbody tr th {\n",
       "        vertical-align: top;\n",
       "    }\n",
       "\n",
       "    .dataframe thead th {\n",
       "        text-align: right;\n",
       "    }\n",
       "</style>\n",
       "<table border=\"1\" class=\"dataframe\">\n",
       "  <thead>\n",
       "    <tr style=\"text-align: right;\">\n",
       "      <th></th>\n",
       "      <th>Name</th>\n",
       "      <th>Frequency</th>\n",
       "      <th>Year</th>\n",
       "      <th>nationality</th>\n",
       "    </tr>\n",
       "  </thead>\n",
       "  <tbody>\n",
       "    <tr>\n",
       "      <th>1</th>\n",
       "      <td>MARC</td>\n",
       "      <td>295</td>\n",
       "      <td>1996</td>\n",
       "      <td>national</td>\n",
       "    </tr>\n",
       "    <tr>\n",
       "      <th>2</th>\n",
       "      <td>DAVID</td>\n",
       "      <td>198</td>\n",
       "      <td>1996</td>\n",
       "      <td>national</td>\n",
       "    </tr>\n",
       "    <tr>\n",
       "      <th>3</th>\n",
       "      <td>DANIEL</td>\n",
       "      <td>174</td>\n",
       "      <td>1996</td>\n",
       "      <td>national</td>\n",
       "    </tr>\n",
       "    <tr>\n",
       "      <th>4</th>\n",
       "      <td>MARC</td>\n",
       "      <td>348</td>\n",
       "      <td>1997</td>\n",
       "      <td>national</td>\n",
       "    </tr>\n",
       "    <tr>\n",
       "      <th>5</th>\n",
       "      <td>DAVID</td>\n",
       "      <td>183</td>\n",
       "      <td>1997</td>\n",
       "      <td>national</td>\n",
       "    </tr>\n",
       "    <tr>\n",
       "      <th>...</th>\n",
       "      <td>...</td>\n",
       "      <td>...</td>\n",
       "      <td>...</td>\n",
       "      <td>...</td>\n",
       "    </tr>\n",
       "    <tr>\n",
       "      <th>59</th>\n",
       "      <td>MARTI</td>\n",
       "      <td>133</td>\n",
       "      <td>2015</td>\n",
       "      <td>national</td>\n",
       "    </tr>\n",
       "    <tr>\n",
       "      <th>60</th>\n",
       "      <td>ALEX</td>\n",
       "      <td>110</td>\n",
       "      <td>2015</td>\n",
       "      <td>international</td>\n",
       "    </tr>\n",
       "    <tr>\n",
       "      <th>61</th>\n",
       "      <td>MARC</td>\n",
       "      <td>148</td>\n",
       "      <td>2016</td>\n",
       "      <td>national</td>\n",
       "    </tr>\n",
       "    <tr>\n",
       "      <th>62</th>\n",
       "      <td>ALEX</td>\n",
       "      <td>140</td>\n",
       "      <td>2016</td>\n",
       "      <td>international</td>\n",
       "    </tr>\n",
       "    <tr>\n",
       "      <th>63</th>\n",
       "      <td>POL</td>\n",
       "      <td>110</td>\n",
       "      <td>2016</td>\n",
       "      <td>national</td>\n",
       "    </tr>\n",
       "  </tbody>\n",
       "</table>\n",
       "<p>63 rows × 4 columns</p>\n",
       "</div>"
      ],
      "text/plain": [
       "      Name  Frequency  Year    nationality\n",
       "1     MARC        295  1996       national\n",
       "2    DAVID        198  1996       national\n",
       "3   DANIEL        174  1996       national\n",
       "4     MARC        348  1997       national\n",
       "5    DAVID        183  1997       national\n",
       "..     ...        ...   ...            ...\n",
       "59   MARTI        133  2015       national\n",
       "60    ALEX        110  2015  international\n",
       "61    MARC        148  2016       national\n",
       "62    ALEX        140  2016  international\n",
       "63     POL        110  2016       national\n",
       "\n",
       "[63 rows x 4 columns]"
      ]
     },
     "execution_count": 97,
     "metadata": {},
     "output_type": "execute_result"
    }
   ],
   "source": [
    "#Top 3 male names each year\n",
    "nationalitym = []\n",
    "#top3[\"nationalitym\"] = 0\n",
    "for nom in top3m[\"Name\"]:\n",
    "#for i in range(1, len(top3['Name']) + 1):\n",
    "    if nom in ['MARC','DAVID','DANIEL','POL','PAN','ERIC','MARTI']:\n",
    "        nationalitym.append('national')\n",
    "        #top3[\"nationalityf\"][i] = \"national\"\n",
    "    else:\n",
    "        nationalitym.append('international')\n",
    "        #top3[\"nationality\"][i] = \"international\"\n",
    "top3m[\"nationality\"] = nationalitym\n",
    "top3m"
   ]
  },
  {
   "cell_type": "markdown",
   "metadata": {
    "cell_id": "00043-d8beab21-3694-4180-86a5-913227edaea5",
    "deepnote_cell_type": "markdown",
    "tags": []
   },
   "source": [
    "## 3.4 Analyse the preferred short & long name"
   ]
  },
  {
   "cell_type": "markdown",
   "metadata": {
    "cell_id": "00039-56ecfeec-f940-4819-8cfa-2d4002414cff",
    "deepnote_cell_type": "markdown",
    "tags": []
   },
   "source": [
    "### 3.4.1 Analyse the preferred short & long names for female and male"
   ]
  },
  {
   "cell_type": "code",
   "execution_count": 98,
   "metadata": {
    "cell_id": "00028-750d4810-a09a-40f0-b9a2-d23a2824200f",
    "deepnote_cell_type": "code",
    "deepnote_to_be_reexecuted": false,
    "execution_millis": 10,
    "execution_start": 1623399553214,
    "source_hash": "c426358a",
    "tags": []
   },
   "outputs": [
    {
     "name": "stdout",
     "output_type": "stream",
     "text": [
      "ANA Length 3\n"
     ]
    }
   ],
   "source": [
    "shortest_female_name = min(unique_Female, key=len)\n",
    "print(shortest_female_name,\"Length\" ,len(shortest_female_name) )"
   ]
  },
  {
   "cell_type": "code",
   "execution_count": 99,
   "metadata": {
    "cell_id": "00029-a3df8bb9-af4a-4321-98c1-d1d70a8f8ee3",
    "deepnote_cell_type": "code",
    "deepnote_to_be_reexecuted": false,
    "execution_millis": 7,
    "execution_start": 1623394909048,
    "source_hash": "ff74bd5c",
    "tags": []
   },
   "outputs": [
    {
     "name": "stdout",
     "output_type": "stream",
     "text": [
      "VALENTINA Length 9\n"
     ]
    }
   ],
   "source": [
    "longest_female_name = max(unique_Female,key = len)\n",
    "longest_female_name\n",
    "print(longest_female_name,\"Length\" ,len(longest_female_name) )"
   ]
  },
  {
   "cell_type": "code",
   "execution_count": 100,
   "metadata": {
    "cell_id": "00030-8f068bcc-a015-430b-b8be-4daa5efce43d",
    "deepnote_cell_type": "code",
    "deepnote_to_be_reexecuted": false,
    "execution_millis": 0,
    "execution_start": 1623394909049,
    "source_hash": "642c2a5",
    "tags": []
   },
   "outputs": [
    {
     "name": "stdout",
     "output_type": "stream",
     "text": [
      "POL Length 3\n"
     ]
    }
   ],
   "source": [
    "shortest_male_name = min(unique_Male,key=len)\n",
    "shortest_male_name\n",
    "print(shortest_male_name,\"Length\" ,len(shortest_male_name) )"
   ]
  },
  {
   "cell_type": "code",
   "execution_count": 101,
   "metadata": {
    "cell_id": "00031-04e31749-289c-44e5-8f17-96e73d5ea3de",
    "deepnote_cell_type": "code",
    "deepnote_to_be_reexecuted": false,
    "execution_millis": 10,
    "execution_start": 1623394909079,
    "source_hash": "f6bc3331",
    "tags": []
   },
   "outputs": [
    {
     "name": "stdout",
     "output_type": "stream",
     "text": [
      "ALEJANDRO Length 9\n"
     ]
    }
   ],
   "source": [
    "shortest_male_name = max(unique_Male,key=len)\n",
    "shortest_male_name\n",
    "print(shortest_male_name,\"Length\" ,len(shortest_male_name) )"
   ]
  },
  {
   "cell_type": "code",
   "execution_count": 102,
   "metadata": {
    "cell_id": "00032-15b9586f-fb98-46da-bd2f-423f5a6f8e8a",
    "deepnote_cell_type": "code",
    "deepnote_to_be_reexecuted": false,
    "execution_millis": 0,
    "execution_start": 1623394909080,
    "source_hash": "76a6fcc0",
    "tags": []
   },
   "outputs": [],
   "source": [
    "baby_name_unique = list(baby_name['Name'].unique())"
   ]
  },
  {
   "cell_type": "code",
   "execution_count": 103,
   "metadata": {
    "cell_id": "00033-f908ff4a-f508-45e4-9fc2-c3bdc6bd49ff",
    "deepnote_cell_type": "code",
    "deepnote_to_be_reexecuted": false,
    "execution_millis": 9,
    "execution_start": 1623394909080,
    "source_hash": "c7e95ca9",
    "tags": []
   },
   "outputs": [
    {
     "name": "stdout",
     "output_type": "stream",
     "text": [
      "['ABRIL', 'ADRIA', 'ADRIAN', 'AINA', 'AINHOA', 'ALBA', 'ALBERT', 'ALEIX', 'ALEJANDRO', 'ALEX', 'ALVARO', 'ANA', 'ANDREA', 'ANNA', 'ARIADNA', 'ARLET', 'ARNAU', 'BERTA', 'BIEL', 'BRUNO', 'CARLA', 'CARLOS', 'CARLOTA', 'CHLOE', 'CLARA', 'CLAUDIA', 'CRISTINA', 'DANIEL', 'DANIELA', 'DAVID', 'EMMA', 'ERIC', 'GABRIEL', 'GAEL', 'GERARD', 'GUILLEM', 'HELENA', 'HUGO', 'IKER', 'INES', 'IRENE', 'IVAN', 'JAN', 'JANA', 'JAVIER', 'JOAN', 'JOEL', 'JORDI', 'JUDIT', 'JUDITH', 'JULIA', 'LAIA', 'LAURA', 'LEO', 'LUCAS', 'LUCIA', 'MAR', 'MARC', 'MARIA', 'MARINA', 'MARIO', 'MARTA', 'MARTI', 'MARTINA', 'MATEO', 'MAX', 'MIA', 'MIREIA', 'NATALIA', 'NEREA', 'NICOLAS', 'NIL', 'NOA', 'NORA', 'NURIA', 'OLIVIA', 'ONA', 'ORIOL', 'OSCAR', 'PABLO', 'PATRICIA', 'PAU', 'PAULA', 'POL', 'RAQUEL', 'RAUL', 'ROC', 'ROGER', 'SANDRA', 'SARA', 'SERGI', 'SERGIO', 'SOFIA', 'VALENTINA', 'VALERIA', 'VICTOR', 'XAVIER']\n"
     ]
    }
   ],
   "source": [
    "df = list(baby_name['Name'].unique())\n",
    "\n",
    "sorted_list =sorted(df)\n",
    "print(sorted_list)\n",
    "\n",
    "# Most of them are appearing with \"A\". We look at this webpage:\n",
    "# We consider that it is most common to have a name starting with :\n",
    "# https://www.bounty.com/pregnancy-and-birth/baby-names/baby-name-search/x\n",
    "# We figure out that the most general names in the world starting with \"A\"\n"
   ]
  },
  {
   "cell_type": "markdown",
   "metadata": {
    "cell_id": "00051-ce5c2236-5b49-4aa6-a9f7-6f2dce7f714e",
    "deepnote_cell_type": "markdown",
    "tags": []
   },
   "source": [
    "### 3.4.2 Bonus question: Analyse the names starting with A, D and E"
   ]
  },
  {
   "cell_type": "code",
   "execution_count": 104,
   "metadata": {
    "cell_id": "00034-717101de-23f4-48fa-a27f-1cee9e7ca2b8",
    "deepnote_cell_type": "code",
    "deepnote_to_be_reexecuted": false,
    "execution_millis": 0,
    "execution_start": 1623394909112,
    "source_hash": "4ced3dfe",
    "tags": []
   },
   "outputs": [
    {
     "name": "stdout",
     "output_type": "stream",
     "text": [
      "['ABRIL', 'ADRIA', 'ADRIAN', 'AINA', 'AINHOA', 'ALBA', 'ALBERT', 'ALEIX', 'ALEJANDRO', 'ALEX', 'ALVARO', 'ANA', 'ANDREA', 'ANNA', 'ARIADNA', 'ARLET', 'ARNAU', 'DANIEL', 'DANIELA', 'DAVID', 'EMMA', 'ERIC']\n"
     ]
    }
   ],
   "source": [
    "# Just for fun purpose: \n",
    "# name starting with A, D , E\n",
    "alpha = [\"A\", \"D\", \"E\"]\n",
    "\n",
    "name_alpha = [name for name in sorted_list if name.startswith(('A','D','E'))]\n",
    "\n",
    "print(name_alpha)\n",
    "\n"
   ]
  },
  {
   "cell_type": "code",
   "execution_count": 105,
   "metadata": {
    "cell_id": "00035-ac3bceca-47b9-4547-a47a-6f8f4d58adc6",
    "deepnote_cell_type": "code",
    "deepnote_to_be_reexecuted": false,
    "execution_millis": 3,
    "execution_start": 1623394909112,
    "source_hash": "fbcc4733",
    "tags": []
   },
   "outputs": [
    {
     "data": {
      "text/plain": [
       "22"
      ]
     },
     "execution_count": 105,
     "metadata": {},
     "output_type": "execute_result"
    }
   ],
   "source": [
    "len(name_alpha)"
   ]
  },
  {
   "cell_type": "markdown",
   "metadata": {
    "cell_id": "00054-9f29a1ef-481f-4144-8420-a5c5d8f4f149",
    "deepnote_cell_type": "markdown",
    "tags": []
   },
   "source": [
    "## 3.5 Check if familiar names (Class mate's names) are part of the data set"
   ]
  },
  {
   "cell_type": "markdown",
   "metadata": {
    "cell_id": "00048-e6afa605-adb2-465e-a359-b4dc30763bf2",
    "deepnote_cell_type": "markdown",
    "tags": []
   },
   "source": [
    "### 3.5.1 Check whether our Spanish classmate's name are in the data set"
   ]
  },
  {
   "cell_type": "code",
   "execution_count": 106,
   "metadata": {
    "cell_id": "00036-139277fa-93b2-4d93-94f4-79f220e1f78b",
    "deepnote_cell_type": "code",
    "deepnote_to_be_reexecuted": false,
    "execution_millis": 12,
    "execution_start": 1623399299252,
    "source_hash": "e91fc822",
    "tags": []
   },
   "outputs": [
    {
     "name": "stdout",
     "output_type": "stream",
     "text": [
      "[('Ignacio', False), ('Raul', True), ('Emmanuelle', False), ('Laura', True)]\n",
      "No, the name Ignacio is not in new_list\n",
      "Yes, the name Raul is in new_list\n",
      "No, the name Emmanuelle is not in new_list\n",
      "Yes, the name Laura is in new_list\n"
     ]
    }
   ],
   "source": [
    "\n",
    "# to check if following names are in df:\n",
    "\n",
    "class_name = [\"Ignacio\", \"Raul\", \"Emmanuelle\", \"Laura\"]\n",
    "#print(sorted_list)\n",
    "check = [(name, name.upper() in  sorted_list) for name in class_name]\n",
    "\n",
    "print(check)\n",
    "\n",
    "for tup in check:\n",
    "    if ( tup[1] == True ):\n",
    "        print(\"Yes, the name {} is in new_list\".format(tup[0])) \n",
    "    else:\n",
    "        print(\"No, the name {} is not in new_list\".format(tup[0]))\n"
   ]
  },
  {
   "cell_type": "markdown",
   "metadata": {
    "cell_id": "00057-ad1d5cb4-b958-488e-aeb2-1dbafeddf22e",
    "deepnote_cell_type": "markdown",
    "tags": []
   },
   "source": [
    "## 3.6 Analyse the data set and the % share of female and male names in the given data set"
   ]
  },
  {
   "cell_type": "markdown",
   "metadata": {
    "cell_id": "00058-ebe38498-d21e-46e8-91c1-37b54fa7134c",
    "deepnote_cell_type": "markdown",
    "tags": []
   },
   "source": [
    "### 3.6.1 Analyse the given data set using describe function"
   ]
  },
  {
   "cell_type": "code",
   "execution_count": 107,
   "metadata": {
    "allow_embed": "code_output",
    "cell_id": "00040-986ec75c-c3c9-40e1-9a9a-33e6f57079b6",
    "deepnote_cell_type": "code",
    "deepnote_to_be_reexecuted": false,
    "execution_millis": 7,
    "execution_start": 1623399266866,
    "source_hash": "51481401",
    "tags": []
   },
   "outputs": [
    {
     "data": {
      "text/html": [
       "<div>\n",
       "<style scoped>\n",
       "    .dataframe tbody tr th:only-of-type {\n",
       "        vertical-align: middle;\n",
       "    }\n",
       "\n",
       "    .dataframe tbody tr th {\n",
       "        vertical-align: top;\n",
       "    }\n",
       "\n",
       "    .dataframe thead th {\n",
       "        text-align: right;\n",
       "    }\n",
       "</style>\n",
       "<table border=\"1\" class=\"dataframe\">\n",
       "  <thead>\n",
       "    <tr style=\"text-align: right;\">\n",
       "      <th></th>\n",
       "      <th>Order</th>\n",
       "      <th>Year</th>\n",
       "      <th>Frequency</th>\n",
       "    </tr>\n",
       "  </thead>\n",
       "  <tbody>\n",
       "    <tr>\n",
       "      <th>count</th>\n",
       "      <td>1050.000000</td>\n",
       "      <td>1050.000000</td>\n",
       "      <td>1050.000000</td>\n",
       "    </tr>\n",
       "    <tr>\n",
       "      <th>mean</th>\n",
       "      <td>13.000000</td>\n",
       "      <td>2006.000000</td>\n",
       "      <td>101.655238</td>\n",
       "    </tr>\n",
       "    <tr>\n",
       "      <th>std</th>\n",
       "      <td>7.214539</td>\n",
       "      <td>6.058186</td>\n",
       "      <td>44.339052</td>\n",
       "    </tr>\n",
       "    <tr>\n",
       "      <th>min</th>\n",
       "      <td>1.000000</td>\n",
       "      <td>1996.000000</td>\n",
       "      <td>44.000000</td>\n",
       "    </tr>\n",
       "    <tr>\n",
       "      <th>25%</th>\n",
       "      <td>7.000000</td>\n",
       "      <td>2001.000000</td>\n",
       "      <td>69.000000</td>\n",
       "    </tr>\n",
       "    <tr>\n",
       "      <th>50%</th>\n",
       "      <td>13.000000</td>\n",
       "      <td>2006.000000</td>\n",
       "      <td>89.000000</td>\n",
       "    </tr>\n",
       "    <tr>\n",
       "      <th>75%</th>\n",
       "      <td>19.000000</td>\n",
       "      <td>2011.000000</td>\n",
       "      <td>122.000000</td>\n",
       "    </tr>\n",
       "    <tr>\n",
       "      <th>max</th>\n",
       "      <td>25.000000</td>\n",
       "      <td>2016.000000</td>\n",
       "      <td>348.000000</td>\n",
       "    </tr>\n",
       "  </tbody>\n",
       "</table>\n",
       "</div>"
      ],
      "text/plain": [
       "             Order         Year    Frequency\n",
       "count  1050.000000  1050.000000  1050.000000\n",
       "mean     13.000000  2006.000000   101.655238\n",
       "std       7.214539     6.058186    44.339052\n",
       "min       1.000000  1996.000000    44.000000\n",
       "25%       7.000000  2001.000000    69.000000\n",
       "50%      13.000000  2006.000000    89.000000\n",
       "75%      19.000000  2011.000000   122.000000\n",
       "max      25.000000  2016.000000   348.000000"
      ]
     },
     "execution_count": 107,
     "metadata": {},
     "output_type": "execute_result"
    }
   ],
   "source": [
    "#- To compare % share of male & female data from given dataset:\n",
    "\n",
    "baby_name.describe()"
   ]
  },
  {
   "cell_type": "markdown",
   "metadata": {
    "cell_id": "00060-37c6aa10-cd1b-4b8e-9dfb-d4cd6fe5a242",
    "deepnote_cell_type": "markdown",
    "tags": []
   },
   "source": [
    "### 3.6.2 Analyse the given data set only for females"
   ]
  },
  {
   "cell_type": "code",
   "execution_count": 108,
   "metadata": {
    "cell_id": "00041-848b7b77-2229-4d69-a34b-6634a982817d",
    "deepnote_cell_type": "code",
    "deepnote_to_be_reexecuted": true,
    "execution_millis": 12,
    "execution_start": 1623328227630,
    "source_hash": "694ecc09",
    "tags": []
   },
   "outputs": [
    {
     "data": {
      "text/html": [
       "<div>\n",
       "<style scoped>\n",
       "    .dataframe tbody tr th:only-of-type {\n",
       "        vertical-align: middle;\n",
       "    }\n",
       "\n",
       "    .dataframe tbody tr th {\n",
       "        vertical-align: top;\n",
       "    }\n",
       "\n",
       "    .dataframe thead th {\n",
       "        text-align: right;\n",
       "    }\n",
       "</style>\n",
       "<table border=\"1\" class=\"dataframe\">\n",
       "  <thead>\n",
       "    <tr style=\"text-align: right;\">\n",
       "      <th></th>\n",
       "      <th>Order</th>\n",
       "      <th>Year</th>\n",
       "      <th>Frequency</th>\n",
       "    </tr>\n",
       "  </thead>\n",
       "  <tbody>\n",
       "    <tr>\n",
       "      <th>count</th>\n",
       "      <td>525.00000</td>\n",
       "      <td>525.000000</td>\n",
       "      <td>525.000000</td>\n",
       "    </tr>\n",
       "    <tr>\n",
       "      <th>mean</th>\n",
       "      <td>13.00000</td>\n",
       "      <td>2006.000000</td>\n",
       "      <td>101.045714</td>\n",
       "    </tr>\n",
       "    <tr>\n",
       "      <th>std</th>\n",
       "      <td>7.21798</td>\n",
       "      <td>6.061076</td>\n",
       "      <td>44.483312</td>\n",
       "    </tr>\n",
       "    <tr>\n",
       "      <th>min</th>\n",
       "      <td>1.00000</td>\n",
       "      <td>1996.000000</td>\n",
       "      <td>45.000000</td>\n",
       "    </tr>\n",
       "    <tr>\n",
       "      <th>25%</th>\n",
       "      <td>7.00000</td>\n",
       "      <td>2001.000000</td>\n",
       "      <td>66.000000</td>\n",
       "    </tr>\n",
       "    <tr>\n",
       "      <th>50%</th>\n",
       "      <td>13.00000</td>\n",
       "      <td>2006.000000</td>\n",
       "      <td>87.000000</td>\n",
       "    </tr>\n",
       "    <tr>\n",
       "      <th>75%</th>\n",
       "      <td>19.00000</td>\n",
       "      <td>2011.000000</td>\n",
       "      <td>125.000000</td>\n",
       "    </tr>\n",
       "    <tr>\n",
       "      <th>max</th>\n",
       "      <td>25.00000</td>\n",
       "      <td>2016.000000</td>\n",
       "      <td>299.000000</td>\n",
       "    </tr>\n",
       "  </tbody>\n",
       "</table>\n",
       "</div>"
      ],
      "text/plain": [
       "           Order         Year   Frequency\n",
       "count  525.00000   525.000000  525.000000\n",
       "mean    13.00000  2006.000000  101.045714\n",
       "std      7.21798     6.061076   44.483312\n",
       "min      1.00000  1996.000000   45.000000\n",
       "25%      7.00000  2001.000000   66.000000\n",
       "50%     13.00000  2006.000000   87.000000\n",
       "75%     19.00000  2011.000000  125.000000\n",
       "max     25.00000  2016.000000  299.000000"
      ]
     },
     "execution_count": 108,
     "metadata": {},
     "output_type": "execute_result"
    }
   ],
   "source": [
    "Female.describe()"
   ]
  },
  {
   "cell_type": "markdown",
   "metadata": {
    "cell_id": "00062-2ad74ed7-06ca-4d75-861c-5d77439f6bf1",
    "deepnote_cell_type": "markdown",
    "tags": []
   },
   "source": [
    "### 3.6.3 Analyse the given data set only for males"
   ]
  },
  {
   "cell_type": "code",
   "execution_count": 109,
   "metadata": {
    "cell_id": "00042-bb7b3fbe-f740-467c-8587-87ba63e0a3ca",
    "deepnote_cell_type": "code",
    "deepnote_to_be_reexecuted": false,
    "execution_millis": 11,
    "execution_start": 1623399310872,
    "source_hash": "8b1b7829",
    "tags": []
   },
   "outputs": [
    {
     "data": {
      "text/html": [
       "<div>\n",
       "<style scoped>\n",
       "    .dataframe tbody tr th:only-of-type {\n",
       "        vertical-align: middle;\n",
       "    }\n",
       "\n",
       "    .dataframe tbody tr th {\n",
       "        vertical-align: top;\n",
       "    }\n",
       "\n",
       "    .dataframe thead th {\n",
       "        text-align: right;\n",
       "    }\n",
       "</style>\n",
       "<table border=\"1\" class=\"dataframe\">\n",
       "  <thead>\n",
       "    <tr style=\"text-align: right;\">\n",
       "      <th></th>\n",
       "      <th>Order</th>\n",
       "      <th>Year</th>\n",
       "      <th>Frequency</th>\n",
       "    </tr>\n",
       "  </thead>\n",
       "  <tbody>\n",
       "    <tr>\n",
       "      <th>count</th>\n",
       "      <td>525.00000</td>\n",
       "      <td>525.000000</td>\n",
       "      <td>525.000000</td>\n",
       "    </tr>\n",
       "    <tr>\n",
       "      <th>mean</th>\n",
       "      <td>13.00000</td>\n",
       "      <td>2006.000000</td>\n",
       "      <td>102.264762</td>\n",
       "    </tr>\n",
       "    <tr>\n",
       "      <th>std</th>\n",
       "      <td>7.21798</td>\n",
       "      <td>6.061076</td>\n",
       "      <td>44.228333</td>\n",
       "    </tr>\n",
       "    <tr>\n",
       "      <th>min</th>\n",
       "      <td>1.00000</td>\n",
       "      <td>1996.000000</td>\n",
       "      <td>44.000000</td>\n",
       "    </tr>\n",
       "    <tr>\n",
       "      <th>25%</th>\n",
       "      <td>7.00000</td>\n",
       "      <td>2001.000000</td>\n",
       "      <td>73.000000</td>\n",
       "    </tr>\n",
       "    <tr>\n",
       "      <th>50%</th>\n",
       "      <td>13.00000</td>\n",
       "      <td>2006.000000</td>\n",
       "      <td>90.000000</td>\n",
       "    </tr>\n",
       "    <tr>\n",
       "      <th>75%</th>\n",
       "      <td>19.00000</td>\n",
       "      <td>2011.000000</td>\n",
       "      <td>118.000000</td>\n",
       "    </tr>\n",
       "    <tr>\n",
       "      <th>max</th>\n",
       "      <td>25.00000</td>\n",
       "      <td>2016.000000</td>\n",
       "      <td>348.000000</td>\n",
       "    </tr>\n",
       "  </tbody>\n",
       "</table>\n",
       "</div>"
      ],
      "text/plain": [
       "           Order         Year   Frequency\n",
       "count  525.00000   525.000000  525.000000\n",
       "mean    13.00000  2006.000000  102.264762\n",
       "std      7.21798     6.061076   44.228333\n",
       "min      1.00000  1996.000000   44.000000\n",
       "25%      7.00000  2001.000000   73.000000\n",
       "50%     13.00000  2006.000000   90.000000\n",
       "75%     19.00000  2011.000000  118.000000\n",
       "max     25.00000  2016.000000  348.000000"
      ]
     },
     "execution_count": 109,
     "metadata": {},
     "output_type": "execute_result"
    }
   ],
   "source": [
    "Male.describe()"
   ]
  },
  {
   "cell_type": "markdown",
   "metadata": {
    "cell_id": "00064-c90edd66-202b-48fd-a820-08d1e745e768",
    "deepnote_cell_type": "markdown",
    "tags": []
   },
   "source": []
  },
  {
   "cell_type": "markdown",
   "metadata": {
    "cell_id": "00066-e5409337-a2f5-4ed8-b0cc-03cc277e47a0",
    "deepnote_cell_type": "markdown",
    "tags": []
   },
   "source": [
    "[Go to the start of the page](#start_of_the_page)"
   ]
  },
  {
   "cell_type": "code",
   "execution_count": null,
   "metadata": {
    "cell_id": "00067-e6c64ab6-d51a-4135-a6f3-dbd615507536",
    "deepnote_cell_type": "code",
    "tags": []
   },
   "outputs": [],
   "source": []
  },
  {
   "cell_type": "markdown",
   "metadata": {
    "created_in_deepnote_cell": true,
    "deepnote_cell_type": "markdown",
    "tags": []
   },
   "source": [
    "<a style='text-decoration:none;line-height:16px;display:flex;color:#5B5B62;padding:10px;justify-content:end;' href='https://deepnote.com?utm_source=created-in-deepnote-cell&projectId=b6f24320-606f-4f9e-ad26-95b385f7688f' target=\"_blank\">\n",
    "<img alt='Created in deepnote.com' style='display:inline;max-height:16px;margin:0px;margin-right:7.5px;' src='data:image/svg+xml;base64,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' > </img>\n",
    "Created in <span style='font-weight:600;margin-left:4px;'>Deepnote</span></a>"
   ]
  }
 ],
 "metadata": {
  "deepnote": {
   "is_reactive": false
  },
  "deepnote_execution_queue": [],
  "deepnote_notebook_id": "bf2f09bb-5867-4180-8afe-e428a65a3715",
  "kernelspec": {
   "display_name": "Python 3",
   "language": "python",
   "name": "python3"
  },
  "language_info": {
   "codemirror_mode": {
    "name": "ipython",
    "version": 3
   },
   "file_extension": ".py",
   "mimetype": "text/x-python",
   "name": "python",
   "nbconvert_exporter": "python",
   "pygments_lexer": "ipython3",
   "version": "3.8.10"
  }
 },
 "nbformat": 4,
 "nbformat_minor": 2
}
