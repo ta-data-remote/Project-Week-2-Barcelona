{
 "cells": [
  {
   "cell_type": "code",
   "metadata": {
    "cell_id": "00000-8fe4a327-fc9a-4e67-8616-9ccb83f3e890",
    "deepnote_to_be_reexecuted": false,
    "source_hash": "f25bd425",
    "execution_start": 1623400991415,
    "execution_millis": 2,
    "deepnote_cell_type": "code"
   },
   "source": "import numpy as np\nimport pandas as pd\n",
   "execution_count": 4,
   "outputs": []
  },
  {
   "cell_type": "code",
   "source": "sights = pd.read_csv(r\"/work/datasets/Sights.csv\", sep=\";\")\nsights",
   "metadata": {
    "tags": [],
    "cell_id": "00003-37cdbc42-3273-4299-a369-fcb6f6300ce5",
    "deepnote_to_be_reexecuted": false,
    "source_hash": "c777da63",
    "execution_start": 1623400992846,
    "execution_millis": 58,
    "deepnote_cell_type": "code"
   },
   "outputs": [
    {
     "output_type": "execute_result",
     "execution_count": 5,
     "data": {
      "application/vnd.deepnote.dataframe.v2+json": {
       "row_count": 9,
       "column_count": 2,
       "columns": [
        {
         "name": "Sightseeings",
         "dtype": "object",
         "stats": {
          "unique_count": 9,
          "nan_count": 0,
          "categories": [
           {
            "name": "Sagrada Família",
            "count": 1
           },
           {
            "name": "Park Güell",
            "count": 1
           },
           {
            "name": "7 others",
            "count": 7
           }
          ]
         }
        },
        {
         "name": "District.Name",
         "dtype": "object",
         "stats": {
          "unique_count": 4,
          "nan_count": 0,
          "categories": [
           {
            "name": "Ciutat Vella",
            "count": 4
           },
           {
            "name": "Eixample",
            "count": 3
           },
           {
            "name": "2 others",
            "count": 2
           }
          ]
         }
        },
        {
         "name": "_deepnote_index_column",
         "dtype": "int64"
        }
       ],
       "rows_top": [
        {
         "Sightseeings": "Sagrada Família",
         "District.Name": "Eixample",
         "_deepnote_index_column": 0
        },
        {
         "Sightseeings": "Park Güell",
         "District.Name": "Gràcia",
         "_deepnote_index_column": 1
        },
        {
         "Sightseeings": "Casa Milà",
         "District.Name": "Eixample",
         "_deepnote_index_column": 2
        },
        {
         "Sightseeings": "Caso Batlló",
         "District.Name": "Eixample",
         "_deepnote_index_column": 3
        },
        {
         "Sightseeings": "La Rambla",
         "District.Name": "Ciutat Vella",
         "_deepnote_index_column": 4
        },
        {
         "Sightseeings": "Museu Picasso",
         "District.Name": "Ciutat Vella",
         "_deepnote_index_column": 5
        },
        {
         "Sightseeings": "La Catedral",
         "District.Name": "Ciutat Vella",
         "_deepnote_index_column": 6
        },
        {
         "Sightseeings": "Camp Nou",
         "District.Name": "Les Corts",
         "_deepnote_index_column": 7
        },
        {
         "Sightseeings": "Mercat de la Boqueria",
         "District.Name": "Ciutat Vella",
         "_deepnote_index_column": 8
        }
       ],
       "rows_bottom": null
      },
      "text/plain": "            Sightseeings District.Name\n0        Sagrada Família      Eixample\n1             Park Güell        Gràcia\n2              Casa Milà      Eixample\n3            Caso Batlló      Eixample\n4              La Rambla  Ciutat Vella\n5          Museu Picasso  Ciutat Vella\n6            La Catedral  Ciutat Vella\n7               Camp Nou     Les Corts\n8  Mercat de la Boqueria  Ciutat Vella",
      "text/html": "<div>\n<style scoped>\n    .dataframe tbody tr th:only-of-type {\n        vertical-align: middle;\n    }\n\n    .dataframe tbody tr th {\n        vertical-align: top;\n    }\n\n    .dataframe thead th {\n        text-align: right;\n    }\n</style>\n<table border=\"1\" class=\"dataframe\">\n  <thead>\n    <tr style=\"text-align: right;\">\n      <th></th>\n      <th>Sightseeings</th>\n      <th>District.Name</th>\n    </tr>\n  </thead>\n  <tbody>\n    <tr>\n      <th>0</th>\n      <td>Sagrada Família</td>\n      <td>Eixample</td>\n    </tr>\n    <tr>\n      <th>1</th>\n      <td>Park Güell</td>\n      <td>Gràcia</td>\n    </tr>\n    <tr>\n      <th>2</th>\n      <td>Casa Milà</td>\n      <td>Eixample</td>\n    </tr>\n    <tr>\n      <th>3</th>\n      <td>Caso Batlló</td>\n      <td>Eixample</td>\n    </tr>\n    <tr>\n      <th>4</th>\n      <td>La Rambla</td>\n      <td>Ciutat Vella</td>\n    </tr>\n    <tr>\n      <th>5</th>\n      <td>Museu Picasso</td>\n      <td>Ciutat Vella</td>\n    </tr>\n    <tr>\n      <th>6</th>\n      <td>La Catedral</td>\n      <td>Ciutat Vella</td>\n    </tr>\n    <tr>\n      <th>7</th>\n      <td>Camp Nou</td>\n      <td>Les Corts</td>\n    </tr>\n    <tr>\n      <th>8</th>\n      <td>Mercat de la Boqueria</td>\n      <td>Ciutat Vella</td>\n    </tr>\n  </tbody>\n</table>\n</div>"
     },
     "metadata": {}
    }
   ],
   "execution_count": 5
  },
  {
   "cell_type": "markdown",
   "source": "## Bus stops",
   "metadata": {
    "tags": [],
    "cell_id": "00001-01b73f65-f1fd-4ae2-a783-7e5156dc8e43",
    "deepnote_cell_type": "markdown"
   }
  },
  {
   "cell_type": "code",
   "metadata": {
    "tags": [],
    "cell_id": "00001-33ff420a-f9ec-4dff-9333-49f83f79b9d0",
    "deepnote_to_be_reexecuted": false,
    "source_hash": "6c2bef84",
    "execution_start": 1623400994806,
    "execution_millis": 86,
    "deepnote_cell_type": "code"
   },
   "source": "bus_stops = pd.read_csv(r\"/work/datasets/1.-Transportation/bus-stops.csv\")\nbus_stops",
   "execution_count": 6,
   "outputs": [
    {
     "output_type": "execute_result",
     "execution_count": 6,
     "data": {
      "application/vnd.deepnote.dataframe.v2+json": {
       "row_count": 3162,
       "column_count": 7,
       "columns": [
        {
         "name": "Code",
         "dtype": "object",
         "stats": {
          "unique_count": 4,
          "nan_count": 0,
          "categories": [
           {
            "name": "K014",
            "count": 2324
           },
           {
            "name": "K015",
            "count": 828
           },
           {
            "name": "2 others",
            "count": 10
           }
          ]
         }
        },
        {
         "name": "Transport",
         "dtype": "object",
         "stats": {
          "unique_count": 4,
          "nan_count": 0,
          "categories": [
           {
            "name": "Day bus stop",
            "count": 2324
           },
           {
            "name": "Night bus stop",
            "count": 828
           },
           {
            "name": "2 others",
            "count": 10
           }
          ]
         }
        },
        {
         "name": "Longitude",
         "dtype": "float64",
         "stats": {
          "unique_count": 2358,
          "nan_count": 0,
          "min": "2.055835",
          "max": "2.221753",
          "histogram": [
           {
            "bin_start": 2.055835,
            "bin_end": 2.0724268,
            "count": 2
           },
           {
            "bin_start": 2.0724268,
            "bin_end": 2.0890186,
            "count": 8
           },
           {
            "bin_start": 2.0890186,
            "bin_end": 2.1056104,
            "count": 102
           },
           {
            "bin_start": 2.1056104,
            "bin_end": 2.1222022000000003,
            "count": 186
           },
           {
            "bin_start": 2.1222022000000003,
            "bin_end": 2.138794,
            "count": 421
           },
           {
            "bin_start": 2.138794,
            "bin_end": 2.1553858,
            "count": 644
           },
           {
            "bin_start": 2.1553858,
            "bin_end": 2.1719776,
            "count": 639
           },
           {
            "bin_start": 2.1719776,
            "bin_end": 2.1885694,
            "count": 655
           },
           {
            "bin_start": 2.1885694,
            "bin_end": 2.2051612,
            "count": 371
           },
           {
            "bin_start": 2.2051612,
            "bin_end": 2.221753,
            "count": 134
           }
          ]
         }
        },
        {
         "name": "Latitude",
         "dtype": "float64",
         "stats": {
          "unique_count": 2343,
          "nan_count": 0,
          "min": "41.321643",
          "max": "41.467592",
          "histogram": [
           {
            "bin_start": 41.321643,
            "bin_end": 41.3362379,
            "count": 62
           },
           {
            "bin_start": 41.3362379,
            "bin_end": 41.3508328,
            "count": 33
           },
           {
            "bin_start": 41.3508328,
            "bin_end": 41.365427700000005,
            "count": 103
           },
           {
            "bin_start": 41.365427700000005,
            "bin_end": 41.380022600000004,
            "count": 348
           },
           {
            "bin_start": 41.380022600000004,
            "bin_end": 41.3946175,
            "count": 588
           },
           {
            "bin_start": 41.3946175,
            "bin_end": 41.4092124,
            "count": 566
           },
           {
            "bin_start": 41.4092124,
            "bin_end": 41.4238073,
            "count": 679
           },
           {
            "bin_start": 41.4238073,
            "bin_end": 41.438402200000006,
            "count": 424
           },
           {
            "bin_start": 41.438402200000006,
            "bin_end": 41.452997100000005,
            "count": 244
           },
           {
            "bin_start": 41.452997100000005,
            "bin_end": 41.467592,
            "count": 115
           }
          ]
         }
        },
        {
         "name": "Bus.Stop",
         "dtype": "object",
         "stats": {
          "unique_count": 711,
          "nan_count": 0,
          "categories": [
           {
            "name": "NITBUS -N4--",
            "count": 81
           },
           {
            "name": "NITBUS -N3--",
            "count": 71
           },
           {
            "name": "709 others",
            "count": 3010
           }
          ]
         }
        },
        {
         "name": "District.Name",
         "dtype": "object",
         "stats": {
          "unique_count": 10,
          "nan_count": 16,
          "categories": [
           {
            "name": "Sarrià-Sant Gervasi",
            "count": 439
           },
           {
            "name": "9 others",
            "count": 2707
           },
           {
            "name": "Missing",
            "count": 16
           }
          ]
         }
        },
        {
         "name": "Neighborhood.Name",
         "dtype": "object",
         "stats": {
          "unique_count": 73,
          "nan_count": 16,
          "categories": [
           {
            "name": "la Dreta de l'Eixample",
            "count": 137
           },
           {
            "name": "72 others",
            "count": 3009
           },
           {
            "name": "Missing",
            "count": 16
           }
          ]
         }
        },
        {
         "name": "_deepnote_index_column",
         "dtype": "int64"
        }
       ],
       "rows_top": [
        {
         "Code": "K014",
         "Transport": "Day bus stop",
         "Longitude": 2.171619,
         "Latitude": 41.413744,
         "Bus.Stop": "BUS -192--",
         "District.Name": "Horta-Guinardó",
         "Neighborhood.Name": "el Guinardó",
         "_deepnote_index_column": 0
        },
        {
         "Code": "K014",
         "Transport": "Day bus stop",
         "Longitude": 2.134902,
         "Latitude": 41.420222,
         "Bus.Stop": "BUS -124--",
         "District.Name": "Gràcia",
         "Neighborhood.Name": "Vallcarca i els Penitents",
         "_deepnote_index_column": 1
        },
        {
         "Code": "K014",
         "Transport": "Day bus stop",
         "Longitude": 2.162913,
         "Latitude": 41.423187,
         "Bus.Stop": "BUS -117--",
         "District.Name": "Horta-Guinardó",
         "Neighborhood.Name": "la Font d'en Fargues",
         "_deepnote_index_column": 2
        },
        {
         "Code": "K014",
         "Transport": "Day bus stop",
         "Longitude": 2.163667,
         "Latitude": 41.422899,
         "Bus.Stop": "BUS -117--",
         "District.Name": "Horta-Guinardó",
         "Neighborhood.Name": "la Font d'en Fargues",
         "_deepnote_index_column": 3
        },
        {
         "Code": "K014",
         "Transport": "Day bus stop",
         "Longitude": 2.120212,
         "Latitude": 41.397209,
         "Bus.Stop": "BUS -130--",
         "District.Name": "Sarrià-Sant Gervasi",
         "Neighborhood.Name": "Sarrià",
         "_deepnote_index_column": 4
        },
        {
         "Code": "K014",
         "Transport": "Day bus stop",
         "Longitude": 2.138941,
         "Latitude": 41.411079,
         "Bus.Stop": "BUS -131--",
         "District.Name": "Sarrià-Sant Gervasi",
         "Neighborhood.Name": "el Putxet i el Farró",
         "_deepnote_index_column": 5
        },
        {
         "Code": "K014",
         "Transport": "Day bus stop",
         "Longitude": 2.140984,
         "Latitude": 41.411505,
         "Bus.Stop": "BUS -131--",
         "District.Name": "Sarrià-Sant Gervasi",
         "Neighborhood.Name": "el Putxet i el Farró",
         "_deepnote_index_column": 6
        },
        {
         "Code": "K014",
         "Transport": "Day bus stop",
         "Longitude": 2.136365,
         "Latitude": 41.411343,
         "Bus.Stop": "BUS -196--",
         "District.Name": "Sarrià-Sant Gervasi",
         "Neighborhood.Name": "Sant Gervasi - la Bonanova",
         "_deepnote_index_column": 7
        },
        {
         "Code": "K014",
         "Transport": "Day bus stop",
         "Longitude": 2.209794,
         "Latitude": 41.408116,
         "Bus.Stop": "BUS -V29--",
         "District.Name": "Sant Martí",
         "Neighborhood.Name": "Diagonal Mar i el Front Marítim del Poblenou",
         "_deepnote_index_column": 8
        },
        {
         "Code": "K014",
         "Transport": "Day bus stop",
         "Longitude": 2.13297,
         "Latitude": 41.368237,
         "Bus.Stop": "BUS -115--",
         "District.Name": "Sants-Montjuïc",
         "Neighborhood.Name": "la Bordeta",
         "_deepnote_index_column": 9
        },
        {
         "Code": "K014",
         "Transport": "Day bus stop",
         "Longitude": 2.180286,
         "Latitude": 41.385247,
         "Bus.Stop": "BUS -120--",
         "District.Name": "Ciutat Vella",
         "Neighborhood.Name": "Sant Pere, Santa Caterina i la Ribera",
         "_deepnote_index_column": 10
        },
        {
         "Code": "K014",
         "Transport": "Day bus stop",
         "Longitude": 2.18556,
         "Latitude": 41.411736,
         "Bus.Stop": "BUS -192--",
         "District.Name": "Sant Martí",
         "Neighborhood.Name": "el Camp de l'Arpa del Clot",
         "_deepnote_index_column": 11
        },
        {
         "Code": "K014",
         "Transport": "Day bus stop",
         "Longitude": 2.144268,
         "Latitude": 41.421356,
         "Bus.Stop": "BUS -119--",
         "District.Name": "Horta-Guinardó",
         "Neighborhood.Name": "la Teixonera",
         "_deepnote_index_column": 12
        },
        {
         "Code": "K014",
         "Transport": "Day bus stop",
         "Longitude": 2.177296,
         "Latitude": 41.457757,
         "Bus.Stop": "BUS -83--",
         "District.Name": "Nou Barris",
         "Neighborhood.Name": "Torre Baró",
         "_deepnote_index_column": 13
        },
        {
         "Code": "K014",
         "Transport": "Day bus stop",
         "Longitude": 2.185879,
         "Latitude": 41.466136,
         "Bus.Stop": "BUS -83--",
         "District.Name": "Nou Barris",
         "Neighborhood.Name": "Vallbona",
         "_deepnote_index_column": 14
        },
        {
         "Code": "K014",
         "Transport": "Day bus stop",
         "Longitude": 2.180538,
         "Latitude": 41.465945,
         "Bus.Stop": "BUS -83--",
         "District.Name": "Nou Barris",
         "Neighborhood.Name": "Vallbona",
         "_deepnote_index_column": 15
        },
        {
         "Code": "K014",
         "Transport": "Day bus stop",
         "Longitude": 2.112207,
         "Latitude": 41.400887,
         "Bus.Stop": "BUS -130-V3--",
         "District.Name": "Sarrià-Sant Gervasi",
         "Neighborhood.Name": "Sarrià",
         "_deepnote_index_column": 16
        },
        {
         "Code": "K014",
         "Transport": "Day bus stop",
         "Longitude": 2.110323,
         "Latitude": 41.402203,
         "Bus.Stop": "BUS -130--",
         "District.Name": "Sarrià-Sant Gervasi",
         "Neighborhood.Name": "Sarrià",
         "_deepnote_index_column": 17
        },
        {
         "Code": "K014",
         "Transport": "Day bus stop",
         "Longitude": 2.178023,
         "Latitude": 41.416974,
         "Bus.Stop": "BUS -117--",
         "District.Name": "Horta-Guinardó",
         "Neighborhood.Name": "el Guinardó",
         "_deepnote_index_column": 18
        },
        {
         "Code": "K014",
         "Transport": "Day bus stop",
         "Longitude": 2.11423,
         "Latitude": 41.376834,
         "Bus.Stop": "BUS -D20--",
         "District.Name": "Les Corts",
         "Neighborhood.Name": "la Maternitat i Sant Ramon",
         "_deepnote_index_column": 19
        },
        {
         "Code": "K014",
         "Transport": "Day bus stop",
         "Longitude": 2.180181,
         "Latitude": 41.467054,
         "Bus.Stop": "BUS -83--",
         "District.Name": "Nou Barris",
         "Neighborhood.Name": "Vallbona",
         "_deepnote_index_column": 20
        },
        {
         "Code": "K014",
         "Transport": "Day bus stop",
         "Longitude": 2.186639,
         "Latitude": 41.453635,
         "Bus.Stop": "BUS -80-81--",
         "District.Name": "Nou Barris",
         "Neighborhood.Name": "la Trinitat Nova",
         "_deepnote_index_column": 21
        },
        {
         "Code": "K014",
         "Transport": "Day bus stop",
         "Longitude": 2.181365,
         "Latitude": 41.456531,
         "Bus.Stop": "BUS -80-81--",
         "District.Name": "Nou Barris",
         "Neighborhood.Name": "Torre Baró",
         "_deepnote_index_column": 22
        },
        {
         "Code": "K014",
         "Transport": "Day bus stop",
         "Longitude": 2.182146,
         "Latitude": 41.456345,
         "Bus.Stop": "BUS -80-81--",
         "District.Name": "Nou Barris",
         "Neighborhood.Name": "Torre Baró",
         "_deepnote_index_column": 23
        },
        {
         "Code": "K014",
         "Transport": "Day bus stop",
         "Longitude": 2.170389,
         "Latitude": 41.413549,
         "Bus.Stop": "BUS -H6--",
         "District.Name": "Horta-Guinardó",
         "Neighborhood.Name": "el Baix Guinardó",
         "_deepnote_index_column": 24
        },
        {
         "Code": "K015",
         "Transport": "Night bus stop",
         "Longitude": 2.150152,
         "Latitude": 41.375534,
         "Bus.Stop": "NITBUS -N1-N13-N14-N15-N16-N17-N2-N18-N28--",
         "District.Name": "Eixample",
         "Neighborhood.Name": "Sant Antoni",
         "_deepnote_index_column": 25
        },
        {
         "Code": "K014",
         "Transport": "Day bus stop",
         "Longitude": 2.189252,
         "Latitude": 41.451946,
         "Bus.Stop": "BUS -11-126-127-V31--",
         "District.Name": "Sant Andreu",
         "Neighborhood.Name": "la Trinitat Vella",
         "_deepnote_index_column": 26
        },
        {
         "Code": "K014",
         "Transport": "Day bus stop",
         "Longitude": 2.180542,
         "Latitude": 41.436852,
         "Bus.Stop": "BUS -11-132--",
         "District.Name": "Nou Barris",
         "Neighborhood.Name": "Porta",
         "_deepnote_index_column": 27
        },
        {
         "Code": "K015",
         "Transport": "Night bus stop",
         "Longitude": 2.135582,
         "Latitude": 41.401809,
         "Bus.Stop": "NITBUS -N8--",
         "District.Name": "Sarrià-Sant Gervasi",
         "Neighborhood.Name": "Sant Gervasi - la Bonanova",
         "_deepnote_index_column": 28
        },
        {
         "Code": "K015",
         "Transport": "Night bus stop",
         "Longitude": 2.198624,
         "Latitude": 41.406964,
         "Bus.Stop": "NITBUS -N11-N8--",
         "District.Name": "Sant Martí",
         "Neighborhood.Name": "Provençals del Poblenou",
         "_deepnote_index_column": 29
        },
        {
         "Code": "K015",
         "Transport": "Night bus stop",
         "Longitude": 2.145426,
         "Latitude": 41.432095,
         "Bus.Stop": "NITBUS -N4--",
         "District.Name": "Horta-Guinardó",
         "Neighborhood.Name": "Montbau",
         "_deepnote_index_column": 30
        },
        {
         "Code": "K014",
         "Transport": "Day bus stop",
         "Longitude": 2.218048,
         "Latitude": 41.409689,
         "Bus.Stop": "BUS -H16--",
         "District.Name": "Sant Martí",
         "Neighborhood.Name": "Diagonal Mar i el Front Marítim del Poblenou",
         "_deepnote_index_column": 31
        },
        {
         "Code": "K014",
         "Transport": "Day bus stop",
         "Longitude": 2.181799,
         "Latitude": 41.459707,
         "Bus.Stop": "BUS -80-83-81--",
         "District.Name": "Nou Barris",
         "Neighborhood.Name": "Torre Baró",
         "_deepnote_index_column": 32
        },
        {
         "Code": "K014",
         "Transport": "Day bus stop",
         "Longitude": 2.105861,
         "Latitude": 41.388524,
         "Bus.Stop": "BUS -113--",
         "District.Name": "Les Corts",
         "Neighborhood.Name": "Pedralbes",
         "_deepnote_index_column": 33
        },
        {
         "Code": "K014",
         "Transport": "Day bus stop",
         "Longitude": 2.204064,
         "Latitude": 41.411202,
         "Bus.Stop": "BUS -B25-H14--",
         "District.Name": "Sant Martí",
         "Neighborhood.Name": "Provençals del Poblenou",
         "_deepnote_index_column": 34
        },
        {
         "Code": "K014",
         "Transport": "Day bus stop",
         "Longitude": 2.189864,
         "Latitude": 41.393709,
         "Bus.Stop": "BUS -B25-B20-136--",
         "District.Name": "Sant Martí",
         "Neighborhood.Name": "el Parc i la Llacuna del Poblenou",
         "_deepnote_index_column": 35
        },
        {
         "Code": "K014",
         "Transport": "Day bus stop",
         "Longitude": 2.142116,
         "Latitude": 41.386193,
         "Bus.Stop": "BUS -V9--",
         "District.Name": "Les Corts",
         "Neighborhood.Name": "les Corts",
         "_deepnote_index_column": 36
        },
        {
         "Code": "K014",
         "Transport": "Day bus stop",
         "Longitude": 2.13775,
         "Latitude": 41.390315,
         "Bus.Stop": "BUS -V9--",
         "District.Name": "Les Corts",
         "Neighborhood.Name": "les Corts",
         "_deepnote_index_column": 37
        },
        {
         "Code": "K014",
         "Transport": "Day bus stop",
         "Longitude": 2.201949,
         "Latitude": 41.394125,
         "Bus.Stop": "BUS -59--",
         "District.Name": "Sant Martí",
         "Neighborhood.Name": "el Poblenou",
         "_deepnote_index_column": 38
        },
        {
         "Code": "K014",
         "Transport": "Day bus stop",
         "Longitude": 2.15331,
         "Latitude": 41.386259,
         "Bus.Stop": "BUS -V11--",
         "District.Name": "Eixample",
         "Neighborhood.Name": "l'Antiga Esquerra de l'Eixample",
         "_deepnote_index_column": 39
        },
        {
         "Code": "K014",
         "Transport": "Day bus stop",
         "Longitude": 2.179513,
         "Latitude": 41.407359,
         "Bus.Stop": "BUS -92-D50--",
         "District.Name": "Eixample",
         "Neighborhood.Name": "la Sagrada Família",
         "_deepnote_index_column": 40
        },
        {
         "Code": "K014",
         "Transport": "Day bus stop",
         "Longitude": 2.159207,
         "Latitude": 41.429537,
         "Bus.Stop": "BUS -87--",
         "District.Name": "Horta-Guinardó",
         "Neighborhood.Name": "Horta",
         "_deepnote_index_column": 41
        },
        {
         "Code": "K014",
         "Transport": "Day bus stop",
         "Longitude": 2.15262,
         "Latitude": 41.422432,
         "Bus.Stop": "BUS -87--",
         "District.Name": "Horta-Guinardó",
         "Neighborhood.Name": "el Carmel",
         "_deepnote_index_column": 42
        },
        {
         "Code": "K014",
         "Transport": "Day bus stop",
         "Longitude": 2.155351,
         "Latitude": 41.423954,
         "Bus.Stop": "BUS -86-87--",
         "District.Name": "Horta-Guinardó",
         "Neighborhood.Name": "el Carmel",
         "_deepnote_index_column": 43
        },
        {
         "Code": "K014",
         "Transport": "Day bus stop",
         "Longitude": 2.1761,
         "Latitude": 41.418407,
         "Bus.Stop": "BUS -H6--",
         "District.Name": "Horta-Guinardó",
         "Neighborhood.Name": "el Guinardó",
         "_deepnote_index_column": 44
        },
        {
         "Code": "K014",
         "Transport": "Day bus stop",
         "Longitude": 2.171062,
         "Latitude": 41.414273,
         "Bus.Stop": "BUS -H6--",
         "District.Name": "Horta-Guinardó",
         "Neighborhood.Name": "el Guinardó",
         "_deepnote_index_column": 45
        },
        {
         "Code": "K014",
         "Transport": "Day bus stop",
         "Longitude": 2.111963,
         "Latitude": 41.394049,
         "Bus.Stop": "BUS -V5--",
         "District.Name": "Les Corts",
         "Neighborhood.Name": "Pedralbes",
         "_deepnote_index_column": 46
        },
        {
         "Code": "K014",
         "Transport": "Day bus stop",
         "Longitude": 2.142764,
         "Latitude": 41.355291,
         "Bus.Stop": "BUS -V5--",
         "District.Name": "Sants-Montjuïc",
         "Neighborhood.Name": "la Marina de Port",
         "_deepnote_index_column": 47
        },
        {
         "Code": "K014",
         "Transport": "Day bus stop",
         "Longitude": 2.209979,
         "Latitude": 41.413834,
         "Bus.Stop": "BUS -B25-H14--",
         "District.Name": "Sant Martí",
         "Neighborhood.Name": "el Besòs i el Maresme",
         "_deepnote_index_column": 48
        },
        {
         "Code": "K014",
         "Transport": "Day bus stop",
         "Longitude": 2.202464,
         "Latitude": 41.408024,
         "Bus.Stop": "BUS -H14--",
         "District.Name": "Sant Martí",
         "Neighborhood.Name": "Provençals del Poblenou",
         "_deepnote_index_column": 49
        },
        {
         "Code": "K014",
         "Transport": "Day bus stop",
         "Longitude": 2.215793,
         "Latitude": 41.4179,
         "Bus.Stop": "BUS -H14-V33--",
         "District.Name": "Sant Martí",
         "Neighborhood.Name": "el Besòs i el Maresme",
         "_deepnote_index_column": 50
        },
        {
         "Code": "K015",
         "Transport": "Night bus stop",
         "Longitude": 2.215793,
         "Latitude": 41.4179,
         "Bus.Stop": "NITBUS -N6--",
         "District.Name": "Sant Martí",
         "Neighborhood.Name": "el Besòs i el Maresme",
         "_deepnote_index_column": 51
        },
        {
         "Code": "K014",
         "Transport": "Day bus stop",
         "Longitude": 2.140697,
         "Latitude": 41.321964,
         "Bus.Stop": "BUS -PR4-88--",
         "District.Name": "Sants-Montjuïc",
         "Neighborhood.Name": "la Marina del Prat Vermell",
         "_deepnote_index_column": 52
        },
        {
         "Code": "K014",
         "Transport": "Day bus stop",
         "Longitude": 2.171723,
         "Latitude": 41.389866,
         "Bus.Stop": "BUS -B24--",
         "District.Name": "Eixample",
         "Neighborhood.Name": "la Dreta de l'Eixample",
         "_deepnote_index_column": 53
        },
        {
         "Code": "K014",
         "Transport": "Day bus stop",
         "Longitude": 2.209706,
         "Latitude": 41.422479,
         "Bus.Stop": "BUS -60--",
         "District.Name": "Sant Martí",
         "Neighborhood.Name": "la Verneda i la Pau",
         "_deepnote_index_column": 54
        },
        {
         "Code": "K014",
         "Transport": "Day bus stop",
         "Longitude": 2.183843,
         "Latitude": 41.383499,
         "Bus.Stop": "BUS -H14--",
         "District.Name": "Ciutat Vella",
         "Neighborhood.Name": "Sant Pere, Santa Caterina i la Ribera",
         "_deepnote_index_column": 55
        },
        {
         "Code": "K014",
         "Transport": "Day bus stop",
         "Longitude": 2.193352,
         "Latitude": 41.442433,
         "Bus.Stop": "BUS -11--",
         "District.Name": "Sant Andreu",
         "Neighborhood.Name": "Sant Andreu",
         "_deepnote_index_column": 56
        },
        {
         "Code": "K015",
         "Transport": "Night bus stop",
         "Longitude": 2.153529,
         "Latitude": 41.435109,
         "Bus.Stop": "NITBUS -N4--",
         "District.Name": "Horta-Guinardó",
         "Neighborhood.Name": "Horta",
         "_deepnote_index_column": 57
        },
        {
         "Code": "K014",
         "Transport": "Day bus stop",
         "Longitude": 2.141578,
         "Latitude": 41.353451,
         "Bus.Stop": "BUS -125--",
         "District.Name": "Sants-Montjuïc",
         "Neighborhood.Name": "la Marina del Prat Vermell",
         "_deepnote_index_column": 58
        },
        {
         "Code": "K014",
         "Transport": "Day bus stop",
         "Longitude": 2.166014,
         "Latitude": 41.410972,
         "Bus.Stop": "BUS -92--",
         "District.Name": "Horta-Guinardó",
         "Neighborhood.Name": "el Baix Guinardó",
         "_deepnote_index_column": 59
        },
        {
         "Code": "K014",
         "Transport": "Day bus stop",
         "Longitude": 2.108961,
         "Latitude": 41.39321,
         "Bus.Stop": "BUS -113--",
         "District.Name": "Les Corts",
         "Neighborhood.Name": "Pedralbes",
         "_deepnote_index_column": 60
        },
        {
         "Code": "K016",
         "Transport": "Airport bus stop",
         "Longitude": 2.170821,
         "Latitude": 41.387362,
         "Bus.Stop": "AEROBUS -A2--",
         "District.Name": "Eixample",
         "Neighborhood.Name": "la Dreta de l'Eixample",
         "_deepnote_index_column": 61
        },
        {
         "Code": "K014",
         "Transport": "Day bus stop",
         "Longitude": 2.117741,
         "Latitude": 41.386012,
         "Bus.Stop": "BUS -L97--",
         "District.Name": "Les Corts",
         "Neighborhood.Name": "Pedralbes",
         "_deepnote_index_column": 62
        },
        {
         "Code": "K014",
         "Transport": "Day bus stop",
         "Longitude": 2.151898,
         "Latitude": 41.374869,
         "Bus.Stop": "BUS -L70--",
         "District.Name": "Sants-Montjuïc",
         "Neighborhood.Name": "el Poble-sec",
         "_deepnote_index_column": 63
        },
        {
         "Code": "K015",
         "Transport": "Night bus stop",
         "Longitude": 2.178263,
         "Latitude": 41.375823,
         "Bus.Stop": "NITBUS -N0--",
         "District.Name": "Ciutat Vella",
         "Neighborhood.Name": "el Barri Gòtic",
         "_deepnote_index_column": 64
        },
        {
         "Code": "K014",
         "Transport": "Day bus stop",
         "Longitude": 2.155499,
         "Latitude": 41.421604,
         "Bus.Stop": "BUS -86--",
         "District.Name": "Horta-Guinardó",
         "Neighborhood.Name": "el Carmel",
         "_deepnote_index_column": 65
        },
        {
         "Code": "K014",
         "Transport": "Day bus stop",
         "Longitude": 2.130148,
         "Latitude": 41.39033,
         "Bus.Stop": "BUS -L14--",
         "District.Name": "Les Corts",
         "Neighborhood.Name": "les Corts",
         "_deepnote_index_column": 66
        },
        {
         "Code": "K014",
         "Transport": "Day bus stop",
         "Longitude": 2.171317,
         "Latitude": 41.362381,
         "Bus.Stop": "BUS -88--",
         "District.Name": "Sants-Montjuïc",
         "Neighborhood.Name": "la Marina del Prat Vermell",
         "_deepnote_index_column": 67
        },
        {
         "Code": "K014",
         "Transport": "Day bus stop",
         "Longitude": 2.140981,
         "Latitude": 41.33326,
         "Bus.Stop": "BUS -88--",
         "District.Name": "Sants-Montjuïc",
         "Neighborhood.Name": "la Marina del Prat Vermell",
         "_deepnote_index_column": 68
        },
        {
         "Code": "K014",
         "Transport": "Day bus stop",
         "Longitude": 2.148483,
         "Latitude": 41.345573,
         "Bus.Stop": "BUS -88--",
         "District.Name": "Sants-Montjuïc",
         "Neighborhood.Name": "la Marina del Prat Vermell",
         "_deepnote_index_column": 69
        },
        {
         "Code": "K015",
         "Transport": "Night bus stop",
         "Longitude": 2.203954,
         "Latitude": 41.411347,
         "Bus.Stop": "NITBUS -N11--",
         "District.Name": "Sant Martí",
         "Neighborhood.Name": "Provençals del Poblenou",
         "_deepnote_index_column": 70
        }
       ],
       "rows_bottom": [
        {
         "Code": "K014",
         "Transport": "Day bus stop",
         "Longitude": 2.191211,
         "Latitude": 41.404202,
         "Bus.Stop": "BUS -7--",
         "District.Name": "Sant Martí",
         "Neighborhood.Name": "el Parc i la Llacuna del Poblenou",
         "_deepnote_index_column": 3091
        },
        {
         "Code": "K015",
         "Transport": "Night bus stop",
         "Longitude": 2.20957,
         "Latitude": 41.409196,
         "Bus.Stop": "NITBUS -N6-N7--",
         "District.Name": "Sant Martí",
         "Neighborhood.Name": "Diagonal Mar i el Front Marítim del Poblenou",
         "_deepnote_index_column": 3092
        },
        {
         "Code": "K015",
         "Transport": "Night bus stop",
         "Longitude": 2.192448,
         "Latitude": 41.433501,
         "Bus.Stop": "NITBUS -N9--",
         "District.Name": "Sant Andreu",
         "Neighborhood.Name": "Sant Andreu",
         "_deepnote_index_column": 3093
        },
        {
         "Code": "K014",
         "Transport": "Day bus stop",
         "Longitude": 2.169341,
         "Latitude": 41.387789,
         "Bus.Stop": "BUS -55-H16-D50--",
         "District.Name": "Eixample",
         "Neighborhood.Name": "la Dreta de l'Eixample",
         "_deepnote_index_column": 3094
        },
        {
         "Code": "K014",
         "Transport": "Day bus stop",
         "Longitude": 2.158825,
         "Latitude": 41.416824,
         "Bus.Stop": "BUS -24-92--",
         "District.Name": "Horta-Guinardó",
         "Neighborhood.Name": "el Carmel",
         "_deepnote_index_column": 3095
        },
        {
         "Code": "K015",
         "Transport": "Night bus stop",
         "Longitude": 2.176304,
         "Latitude": 41.395082,
         "Bus.Stop": "NITBUS -N2-N3-N9--",
         "District.Name": "Eixample",
         "Neighborhood.Name": "el Fort Pienc",
         "_deepnote_index_column": 3096
        },
        {
         "Code": "K014",
         "Transport": "Day bus stop",
         "Longitude": 2.201045,
         "Latitude": 41.400097,
         "Bus.Stop": "BUS -B25-B20-136--",
         "District.Name": "Sant Martí",
         "Neighborhood.Name": "el Poblenou",
         "_deepnote_index_column": 3097
        },
        {
         "Code": "K014",
         "Transport": "Day bus stop",
         "Longitude": 2.192247,
         "Latitude": 41.390944,
         "Bus.Stop": "BUS -V21-H16-136--",
         "District.Name": "Sant Martí",
         "Neighborhood.Name": "la Vila Olímpica del Poblenou",
         "_deepnote_index_column": 3098
        },
        {
         "Code": "K014",
         "Transport": "Day bus stop",
         "Longitude": 2.11673,
         "Latitude": 41.418891,
         "Bus.Stop": "BUS -111--",
         "District.Name": "Sarrià-Sant Gervasi",
         "Neighborhood.Name": "Vallvidrera, el Tibidabo i les Planes",
         "_deepnote_index_column": 3099
        },
        {
         "Code": "K014",
         "Transport": "Day bus stop",
         "Longitude": 2.193718,
         "Latitude": 41.388478,
         "Bus.Stop": "BUS -59-92-V21-V27-136--",
         "District.Name": "Sant Martí",
         "Neighborhood.Name": "la Vila Olímpica del Poblenou",
         "_deepnote_index_column": 3100
        },
        {
         "Code": "K014",
         "Transport": "Day bus stop",
         "Longitude": 2.166016,
         "Latitude": 41.399796,
         "Bus.Stop": "BUS -39-45-47-H8--",
         "District.Name": "Eixample",
         "Neighborhood.Name": "la Dreta de l'Eixample",
         "_deepnote_index_column": 3101
        },
        {
         "Code": "K014",
         "Transport": "Day bus stop",
         "Longitude": 2.136297,
         "Latitude": 41.401119,
         "Bus.Stop": "BUS -H6--",
         "District.Name": "Sarrià-Sant Gervasi",
         "Neighborhood.Name": "Sant Gervasi - Galvany",
         "_deepnote_index_column": 3102
        },
        {
         "Code": "K015",
         "Transport": "Night bus stop",
         "Longitude": 2.144808,
         "Latitude": 41.413297,
         "Bus.Stop": "NITBUS -N5--",
         "District.Name": "Gràcia",
         "Neighborhood.Name": "Vallcarca i els Penitents",
         "_deepnote_index_column": 3103
        },
        {
         "Code": "K014",
         "Transport": "Day bus stop",
         "Longitude": 2.160785,
         "Latitude": 41.413219,
         "Bus.Stop": "BUS -24-92-116--",
         "District.Name": "Gràcia",
         "Neighborhood.Name": "la Salut",
         "_deepnote_index_column": 3104
        },
        {
         "Code": "K014",
         "Transport": "Day bus stop",
         "Longitude": 2.189153,
         "Latitude": 41.444675,
         "Bus.Stop": "BUS -60-V31--",
         "District.Name": "Sant Andreu",
         "Neighborhood.Name": "Sant Andreu",
         "_deepnote_index_column": 3105
        },
        {
         "Code": "K015",
         "Transport": "Night bus stop",
         "Longitude": 2.174651,
         "Latitude": 41.444914,
         "Bus.Stop": "NITBUS -N6--",
         "District.Name": "Nou Barris",
         "Neighborhood.Name": "les Roquetes",
         "_deepnote_index_column": 3106
        },
        {
         "Code": "K014",
         "Transport": "Day bus stop",
         "Longitude": 2.184917,
         "Latitude": 41.407328,
         "Bus.Stop": "BUS -33-34-62-B24-H10--",
         "District.Name": "Sant Martí",
         "Neighborhood.Name": "el Camp de l'Arpa del Clot",
         "_deepnote_index_column": 3107
        },
        {
         "Code": "K015",
         "Transport": "Night bus stop",
         "Longitude": 2.194861,
         "Latitude": 41.409594,
         "Bus.Stop": "NITBUS -N2--",
         "District.Name": "Sant Martí",
         "Neighborhood.Name": "el Clot",
         "_deepnote_index_column": 3108
        },
        {
         "Code": "K015",
         "Transport": "Night bus stop",
         "Longitude": 2.174655,
         "Latitude": 41.374563,
         "Bus.Stop": "NITBUS -N0-N6--",
         "District.Name": "Sants-Montjuïc",
         "Neighborhood.Name": "el Poble-sec",
         "_deepnote_index_column": 3109
        },
        {
         "Code": "K015",
         "Transport": "Night bus stop",
         "Longitude": 2.169914,
         "Latitude": 41.416081,
         "Bus.Stop": "NITBUS -N6--",
         "District.Name": "Horta-Guinardó",
         "Neighborhood.Name": "el Guinardó",
         "_deepnote_index_column": 3110
        },
        {
         "Code": "K015",
         "Transport": "Night bus stop",
         "Longitude": 2.205261,
         "Latitude": 41.405262,
         "Bus.Stop": "NITBUS -N6--",
         "District.Name": "Sant Martí",
         "Neighborhood.Name": "el Poblenou",
         "_deepnote_index_column": 3111
        },
        {
         "Code": "K015",
         "Transport": "Night bus stop",
         "Longitude": 2.183824,
         "Latitude": 41.435659,
         "Bus.Stop": "NITBUS -N3--",
         "District.Name": "Nou Barris",
         "Neighborhood.Name": "Porta",
         "_deepnote_index_column": 3112
        },
        {
         "Code": "K014",
         "Transport": "Day bus stop",
         "Longitude": 2.155067,
         "Latitude": 41.39644,
         "Bus.Stop": "BUS -22-24-V17--",
         "District.Name": "Sarrià-Sant Gervasi",
         "Neighborhood.Name": "Sant Gervasi - Galvany",
         "_deepnote_index_column": 3113
        },
        {
         "Code": "K014",
         "Transport": "Day bus stop",
         "Longitude": 2.154047,
         "Latitude": 41.395806,
         "Bus.Stop": "BUS -V15--",
         "District.Name": "Sarrià-Sant Gervasi",
         "Neighborhood.Name": "Sant Gervasi - Galvany",
         "_deepnote_index_column": 3114
        },
        {
         "Code": "K014",
         "Transport": "Day bus stop",
         "Longitude": 2.16498,
         "Latitude": 41.423742,
         "Bus.Stop": "BUS -39-117--",
         "District.Name": "Horta-Guinardó",
         "Neighborhood.Name": "la Font d'en Fargues",
         "_deepnote_index_column": 3115
        },
        {
         "Code": "K014",
         "Transport": "Day bus stop",
         "Longitude": 2.139356,
         "Latitude": 41.360007,
         "Bus.Stop": "BUS -109-V3-H16--",
         "District.Name": "Sants-Montjuïc",
         "Neighborhood.Name": "la Marina de Port",
         "_deepnote_index_column": 3116
        },
        {
         "Code": "K014",
         "Transport": "Day bus stop",
         "Longitude": 2.156657,
         "Latitude": 41.410489,
         "Bus.Stop": "BUS -24-H6-D40--",
         "District.Name": "Gràcia",
         "Neighborhood.Name": "la Salut",
         "_deepnote_index_column": 3117
        },
        {
         "Code": "K014",
         "Transport": "Day bus stop",
         "Longitude": 2.157991,
         "Latitude": 41.382707,
         "Bus.Stop": "BUS -V11--",
         "District.Name": "Eixample",
         "Neighborhood.Name": "l'Antiga Esquerra de l'Eixample",
         "_deepnote_index_column": 3118
        },
        {
         "Code": "K015",
         "Transport": "Night bus stop",
         "Longitude": 2.175296,
         "Latitude": 41.395499,
         "Bus.Stop": "NITBUS -N1-N4--",
         "District.Name": "Eixample",
         "Neighborhood.Name": "la Dreta de l'Eixample",
         "_deepnote_index_column": 3119
        },
        {
         "Code": "K014",
         "Transport": "Day bus stop",
         "Longitude": 2.187573,
         "Latitude": 41.394185,
         "Bus.Stop": "BUS -V21--",
         "District.Name": "Sant Martí",
         "Neighborhood.Name": "el Parc i la Llacuna del Poblenou",
         "_deepnote_index_column": 3120
        },
        {
         "Code": "K015",
         "Transport": "Night bus stop",
         "Longitude": 2.140775,
         "Latitude": 41.358041,
         "Bus.Stop": "NITBUS -N1--",
         "District.Name": "Sants-Montjuïc",
         "Neighborhood.Name": "la Marina de Port",
         "_deepnote_index_column": 3121
        },
        {
         "Code": "K014",
         "Transport": "Day bus stop",
         "Longitude": 2.114389,
         "Latitude": 41.401867,
         "Bus.Stop": "BUS -60-130--",
         "District.Name": "Sarrià-Sant Gervasi",
         "Neighborhood.Name": "Sarrià",
         "_deepnote_index_column": 3122
        },
        {
         "Code": "K014",
         "Transport": "Day bus stop",
         "Longitude": 2.138042,
         "Latitude": 41.429186,
         "Bus.Stop": "BUS -76--",
         "District.Name": "Horta-Guinardó",
         "Neighborhood.Name": "Sant Genís dels Agudells",
         "_deepnote_index_column": 3123
        },
        {
         "Code": "K014",
         "Transport": "Day bus stop",
         "Longitude": 2.16852,
         "Latitude": 41.42867,
         "Bus.Stop": "BUS -122--",
         "District.Name": "Nou Barris",
         "Neighborhood.Name": "Vilapicina i la Torre Llobeta",
         "_deepnote_index_column": 3124
        },
        {
         "Code": "K014",
         "Transport": "Day bus stop",
         "Longitude": 2.126437,
         "Latitude": 41.403985,
         "Bus.Stop": "BUS -123--",
         "District.Name": "Sarrià-Sant Gervasi",
         "Neighborhood.Name": "Sant Gervasi - la Bonanova",
         "_deepnote_index_column": 3125
        },
        {
         "Code": "K014",
         "Transport": "Day bus stop",
         "Longitude": 2.112922,
         "Latitude": 41.384771,
         "Bus.Stop": "BUS -67-L97-L79-E43--",
         "District.Name": "Les Corts",
         "Neighborhood.Name": "Pedralbes",
         "_deepnote_index_column": 3126
        },
        {
         "Code": "K014",
         "Transport": "Day bus stop",
         "Longitude": 2.118883,
         "Latitude": 41.385858,
         "Bus.Stop": "BUS -7-33-67-75-L14--",
         "District.Name": "Les Corts",
         "Neighborhood.Name": "la Maternitat i Sant Ramon",
         "_deepnote_index_column": 3127
        },
        {
         "Code": "K014",
         "Transport": "Day bus stop",
         "Longitude": 2.118078,
         "Latitude": 41.378951,
         "Bus.Stop": "BUS -54--",
         "District.Name": "Les Corts",
         "Neighborhood.Name": "la Maternitat i Sant Ramon",
         "_deepnote_index_column": 3128
        },
        {
         "Code": "K014",
         "Transport": "Day bus stop",
         "Longitude": 2.156727,
         "Latitude": 41.362776,
         "Bus.Stop": "BUS -13--",
         "District.Name": "Sants-Montjuïc",
         "Neighborhood.Name": "el Poble-sec",
         "_deepnote_index_column": 3129
        },
        {
         "Code": "K014",
         "Transport": "Day bus stop",
         "Longitude": 2.200961,
         "Latitude": 41.43521,
         "Bus.Stop": "BUS -60--",
         "District.Name": "Sant Andreu",
         "Neighborhood.Name": "el Bon Pastor",
         "_deepnote_index_column": 3130
        },
        {
         "Code": "K014",
         "Transport": "Day bus stop",
         "Longitude": 2.196185,
         "Latitude": 41.436906,
         "Bus.Stop": "BUS -11-H4-M28--",
         "District.Name": "Sant Andreu",
         "Neighborhood.Name": "el Bon Pastor",
         "_deepnote_index_column": 3131
        },
        {
         "Code": "K014",
         "Transport": "Day bus stop",
         "Longitude": 2.090677,
         "Latitude": 41.423978,
         "Bus.Stop": "BUS -118--",
         "District.Name": "Sarrià-Sant Gervasi",
         "Neighborhood.Name": "Vallvidrera, el Tibidabo i les Planes",
         "_deepnote_index_column": 3132
        },
        {
         "Code": "K014",
         "Transport": "Day bus stop",
         "Longitude": 2.157268,
         "Latitude": 41.42902,
         "Bus.Stop": "BUS -39--",
         "District.Name": "Horta-Guinardó",
         "Neighborhood.Name": "el Carmel",
         "_deepnote_index_column": 3133
        },
        {
         "Code": "K014",
         "Transport": "Day bus stop",
         "Longitude": 2.158672,
         "Latitude": 41.423131,
         "Bus.Stop": "BUS -39--",
         "District.Name": "Horta-Guinardó",
         "Neighborhood.Name": "la Font d'en Fargues",
         "_deepnote_index_column": 3134
        },
        {
         "Code": "K014",
         "Transport": "Day bus stop",
         "Longitude": 2.195481,
         "Latitude": 41.40527,
         "Bus.Stop": "BUS -7--",
         "District.Name": "Sant Martí",
         "Neighborhood.Name": "el Poblenou",
         "_deepnote_index_column": 3135
        },
        {
         "Code": "K014",
         "Transport": "Day bus stop",
         "Longitude": 2.215347,
         "Latitude": 41.407061,
         "Bus.Stop": "BUS -H16--",
         "District.Name": "Sant Martí",
         "Neighborhood.Name": "Diagonal Mar i el Front Marítim del Poblenou",
         "_deepnote_index_column": 3136
        },
        {
         "Code": "K015",
         "Transport": "Night bus stop",
         "Longitude": 2.213026,
         "Latitude": 41.409137,
         "Bus.Stop": "NITBUS -N6--",
         "District.Name": "Sant Martí",
         "Neighborhood.Name": "Diagonal Mar i el Front Marítim del Poblenou",
         "_deepnote_index_column": 3137
        },
        {
         "Code": "K014",
         "Transport": "Day bus stop",
         "Longitude": 2.169648,
         "Latitude": 41.443004,
         "Bus.Stop": "BUS -27-47-60-122-127-V27--",
         "District.Name": "Nou Barris",
         "Neighborhood.Name": "Canyelles",
         "_deepnote_index_column": 3138
        },
        {
         "Code": "K014",
         "Transport": "Day bus stop",
         "Longitude": 2.168902,
         "Latitude": 41.367957,
         "Bus.Stop": "BUS -150--",
         "District.Name": "Sants-Montjuïc",
         "Neighborhood.Name": "el Poble-sec",
         "_deepnote_index_column": 3139
        },
        {
         "Code": "K014",
         "Transport": "Day bus stop",
         "Longitude": 2.180409,
         "Latitude": 41.461274,
         "Bus.Stop": "BUS -62-76-D50--",
         "District.Name": "Nou Barris",
         "Neighborhood.Name": "Ciutat Meridiana",
         "_deepnote_index_column": 3140
        },
        {
         "Code": "K014",
         "Transport": "Day bus stop",
         "Longitude": 2.178518,
         "Latitude": 41.461602,
         "Bus.Stop": "BUS -62-76-104-83-D50--",
         "District.Name": "Nou Barris",
         "Neighborhood.Name": "Ciutat Meridiana",
         "_deepnote_index_column": 3141
        },
        {
         "Code": "K014",
         "Transport": "Day bus stop",
         "Longitude": 2.153646,
         "Latitude": 41.425559,
         "Bus.Stop": "BUS -19--",
         "District.Name": "Horta-Guinardó",
         "Neighborhood.Name": "el Carmel",
         "_deepnote_index_column": 3142
        },
        {
         "Code": "K014",
         "Transport": "Day bus stop",
         "Longitude": 2.167085,
         "Latitude": 41.415711,
         "Bus.Stop": "BUS -114--",
         "District.Name": "Horta-Guinardó",
         "Neighborhood.Name": "Can Baró",
         "_deepnote_index_column": 3143
        },
        {
         "Code": "K014",
         "Transport": "Day bus stop",
         "Longitude": 2.16618,
         "Latitude": 41.416488,
         "Bus.Stop": "BUS -114--",
         "District.Name": "Horta-Guinardó",
         "Neighborhood.Name": "Can Baró",
         "_deepnote_index_column": 3144
        },
        {
         "Code": "K014",
         "Transport": "Day bus stop",
         "Longitude": 2.175908,
         "Latitude": 41.435067,
         "Bus.Stop": "BUS -132--",
         "District.Name": "Nou Barris",
         "Neighborhood.Name": "Porta",
         "_deepnote_index_column": 3145
        },
        {
         "Code": "K015",
         "Transport": "Night bus stop",
         "Longitude": 2.191098,
         "Latitude": 41.40013,
         "Bus.Stop": "NITBUS -N11-N8--",
         "District.Name": "Sant Martí",
         "Neighborhood.Name": "el Parc i la Llacuna del Poblenou",
         "_deepnote_index_column": 3146
        },
        {
         "Code": "K014",
         "Transport": "Day bus stop",
         "Longitude": 2.134963,
         "Latitude": 41.426764,
         "Bus.Stop": "BUS -112--",
         "District.Name": "Horta-Guinardó",
         "Neighborhood.Name": "Sant Genís dels Agudells",
         "_deepnote_index_column": 3147
        },
        {
         "Code": "K014",
         "Transport": "Day bus stop",
         "Longitude": 2.156861,
         "Latitude": 41.400682,
         "Bus.Stop": "BUS -114--",
         "District.Name": "Gràcia",
         "Neighborhood.Name": "la Vila de Gràcia",
         "_deepnote_index_column": 3148
        },
        {
         "Code": "K014",
         "Transport": "Day bus stop",
         "Longitude": 2.186186,
         "Latitude": 41.422917,
         "Bus.Stop": "BUS -126--",
         "District.Name": "Sant Andreu",
         "Neighborhood.Name": "la Sagrera",
         "_deepnote_index_column": 3149
        },
        {
         "Code": "K014",
         "Transport": "Day bus stop",
         "Longitude": 2.139204,
         "Latitude": 41.363957,
         "Bus.Stop": "BUS -125-V5--",
         "District.Name": "Sants-Montjuïc",
         "Neighborhood.Name": "la Marina de Port",
         "_deepnote_index_column": 3150
        },
        {
         "Code": "K014",
         "Transport": "Day bus stop",
         "Longitude": 2.136309,
         "Latitude": 41.359529,
         "Bus.Stop": "BUS -125--",
         "District.Name": "Sants-Montjuïc",
         "Neighborhood.Name": "la Marina de Port",
         "_deepnote_index_column": 3151
        },
        {
         "Code": "K015",
         "Transport": "Night bus stop",
         "Longitude": 2.209107,
         "Latitude": 41.408138,
         "Bus.Stop": "NITBUS -N6--",
         "District.Name": "Sant Martí",
         "Neighborhood.Name": "Diagonal Mar i el Front Marítim del Poblenou",
         "_deepnote_index_column": 3152
        },
        {
         "Code": "K014",
         "Transport": "Day bus stop",
         "Longitude": 2.098853,
         "Latitude": 41.428841,
         "Bus.Stop": "BUS -128--",
         "District.Name": "Sarrià-Sant Gervasi",
         "Neighborhood.Name": "Vallvidrera, el Tibidabo i les Planes",
         "_deepnote_index_column": 3153
        },
        {
         "Code": "K014",
         "Transport": "Day bus stop",
         "Longitude": 2.096273,
         "Latitude": 41.429401,
         "Bus.Stop": "BUS -128--",
         "District.Name": "Sarrià-Sant Gervasi",
         "Neighborhood.Name": "Vallvidrera, el Tibidabo i les Planes",
         "_deepnote_index_column": 3154
        },
        {
         "Code": "K014",
         "Transport": "Day bus stop",
         "Longitude": 2.145507,
         "Latitude": 41.363219,
         "Bus.Stop": "BUS -125--",
         "District.Name": "Sants-Montjuïc",
         "Neighborhood.Name": "la Marina de Port",
         "_deepnote_index_column": 3155
        },
        {
         "Code": "K014",
         "Transport": "Day bus stop",
         "Longitude": 2.118484,
         "Latitude": 41.398514,
         "Bus.Stop": "BUS -68-75-H4--",
         "District.Name": "Sarrià-Sant Gervasi",
         "Neighborhood.Name": "Sarrià",
         "_deepnote_index_column": 3156
        },
        {
         "Code": "K014",
         "Transport": "Day bus stop",
         "Longitude": 2.183887,
         "Latitude": 41.422024,
         "Bus.Stop": "BUS -191--",
         "District.Name": "Sant Andreu",
         "Neighborhood.Name": "el Congrés i els Indians",
         "_deepnote_index_column": 3157
        },
        {
         "Code": "K014",
         "Transport": "Day bus stop",
         "Longitude": 2.17671,
         "Latitude": 41.446419,
         "Bus.Stop": "BUS -127-81--",
         "District.Name": "Nou Barris",
         "Neighborhood.Name": "les Roquetes",
         "_deepnote_index_column": 3158
        },
        {
         "Code": "K015",
         "Transport": "Night bus stop",
         "Longitude": 2.144596,
         "Latitude": 41.411446,
         "Bus.Stop": "NITBUS -N4--",
         "District.Name": "Gràcia",
         "Neighborhood.Name": "Vallcarca i els Penitents",
         "_deepnote_index_column": 3159
        },
        {
         "Code": "K014",
         "Transport": "Day bus stop",
         "Longitude": 2.142256,
         "Latitude": 41.371176,
         "Bus.Stop": "BUS -91-115-V5--",
         "District.Name": "Sants-Montjuïc",
         "Neighborhood.Name": "la Bordeta",
         "_deepnote_index_column": 3160
        },
        {
         "Code": "K015",
         "Transport": "Night bus stop",
         "Longitude": 2.134932,
         "Latitude": 41.398495,
         "Bus.Stop": "NITBUS -N7--",
         "District.Name": "Sarrià-Sant Gervasi",
         "Neighborhood.Name": "Sant Gervasi - Galvany",
         "_deepnote_index_column": 3161
        }
       ]
      },
      "text/plain": "      Code       Transport  Longitude   Latitude          Bus.Stop  \\\n0     K014    Day bus stop   2.171619  41.413744        BUS -192--   \n1     K014    Day bus stop   2.134902  41.420222        BUS -124--   \n2     K014    Day bus stop   2.162913  41.423187        BUS -117--   \n3     K014    Day bus stop   2.163667  41.422899        BUS -117--   \n4     K014    Day bus stop   2.120212  41.397209        BUS -130--   \n...    ...             ...        ...        ...               ...   \n3157  K014    Day bus stop   2.183887  41.422024        BUS -191--   \n3158  K014    Day bus stop   2.176710  41.446419     BUS -127-81--   \n3159  K015  Night bus stop   2.144596  41.411446      NITBUS -N4--   \n3160  K014    Day bus stop   2.142256  41.371176  BUS -91-115-V5--   \n3161  K015  Night bus stop   2.134932  41.398495      NITBUS -N7--   \n\n            District.Name          Neighborhood.Name  \n0          Horta-Guinardó                el Guinardó  \n1                  Gràcia  Vallcarca i els Penitents  \n2          Horta-Guinardó       la Font d'en Fargues  \n3          Horta-Guinardó       la Font d'en Fargues  \n4     Sarrià-Sant Gervasi                     Sarrià  \n...                   ...                        ...  \n3157          Sant Andreu   el Congrés i els Indians  \n3158           Nou Barris               les Roquetes  \n3159               Gràcia  Vallcarca i els Penitents  \n3160       Sants-Montjuïc                 la Bordeta  \n3161  Sarrià-Sant Gervasi     Sant Gervasi - Galvany  \n\n[3162 rows x 7 columns]",
      "text/html": "<div>\n<style scoped>\n    .dataframe tbody tr th:only-of-type {\n        vertical-align: middle;\n    }\n\n    .dataframe tbody tr th {\n        vertical-align: top;\n    }\n\n    .dataframe thead th {\n        text-align: right;\n    }\n</style>\n<table border=\"1\" class=\"dataframe\">\n  <thead>\n    <tr style=\"text-align: right;\">\n      <th></th>\n      <th>Code</th>\n      <th>Transport</th>\n      <th>Longitude</th>\n      <th>Latitude</th>\n      <th>Bus.Stop</th>\n      <th>District.Name</th>\n      <th>Neighborhood.Name</th>\n    </tr>\n  </thead>\n  <tbody>\n    <tr>\n      <th>0</th>\n      <td>K014</td>\n      <td>Day bus stop</td>\n      <td>2.171619</td>\n      <td>41.413744</td>\n      <td>BUS -192--</td>\n      <td>Horta-Guinardó</td>\n      <td>el Guinardó</td>\n    </tr>\n    <tr>\n      <th>1</th>\n      <td>K014</td>\n      <td>Day bus stop</td>\n      <td>2.134902</td>\n      <td>41.420222</td>\n      <td>BUS -124--</td>\n      <td>Gràcia</td>\n      <td>Vallcarca i els Penitents</td>\n    </tr>\n    <tr>\n      <th>2</th>\n      <td>K014</td>\n      <td>Day bus stop</td>\n      <td>2.162913</td>\n      <td>41.423187</td>\n      <td>BUS -117--</td>\n      <td>Horta-Guinardó</td>\n      <td>la Font d'en Fargues</td>\n    </tr>\n    <tr>\n      <th>3</th>\n      <td>K014</td>\n      <td>Day bus stop</td>\n      <td>2.163667</td>\n      <td>41.422899</td>\n      <td>BUS -117--</td>\n      <td>Horta-Guinardó</td>\n      <td>la Font d'en Fargues</td>\n    </tr>\n    <tr>\n      <th>4</th>\n      <td>K014</td>\n      <td>Day bus stop</td>\n      <td>2.120212</td>\n      <td>41.397209</td>\n      <td>BUS -130--</td>\n      <td>Sarrià-Sant Gervasi</td>\n      <td>Sarrià</td>\n    </tr>\n    <tr>\n      <th>...</th>\n      <td>...</td>\n      <td>...</td>\n      <td>...</td>\n      <td>...</td>\n      <td>...</td>\n      <td>...</td>\n      <td>...</td>\n    </tr>\n    <tr>\n      <th>3157</th>\n      <td>K014</td>\n      <td>Day bus stop</td>\n      <td>2.183887</td>\n      <td>41.422024</td>\n      <td>BUS -191--</td>\n      <td>Sant Andreu</td>\n      <td>el Congrés i els Indians</td>\n    </tr>\n    <tr>\n      <th>3158</th>\n      <td>K014</td>\n      <td>Day bus stop</td>\n      <td>2.176710</td>\n      <td>41.446419</td>\n      <td>BUS -127-81--</td>\n      <td>Nou Barris</td>\n      <td>les Roquetes</td>\n    </tr>\n    <tr>\n      <th>3159</th>\n      <td>K015</td>\n      <td>Night bus stop</td>\n      <td>2.144596</td>\n      <td>41.411446</td>\n      <td>NITBUS -N4--</td>\n      <td>Gràcia</td>\n      <td>Vallcarca i els Penitents</td>\n    </tr>\n    <tr>\n      <th>3160</th>\n      <td>K014</td>\n      <td>Day bus stop</td>\n      <td>2.142256</td>\n      <td>41.371176</td>\n      <td>BUS -91-115-V5--</td>\n      <td>Sants-Montjuïc</td>\n      <td>la Bordeta</td>\n    </tr>\n    <tr>\n      <th>3161</th>\n      <td>K015</td>\n      <td>Night bus stop</td>\n      <td>2.134932</td>\n      <td>41.398495</td>\n      <td>NITBUS -N7--</td>\n      <td>Sarrià-Sant Gervasi</td>\n      <td>Sant Gervasi - Galvany</td>\n    </tr>\n  </tbody>\n</table>\n<p>3162 rows × 7 columns</p>\n</div>"
     },
     "metadata": {}
    }
   ]
  },
  {
   "cell_type": "code",
   "metadata": {
    "tags": [],
    "cell_id": "00005-3ba8d055-b4cb-4f53-8192-5a0e93997a81",
    "deepnote_to_be_reexecuted": false,
    "source_hash": "ecce50ca",
    "execution_start": 1623400997365,
    "execution_millis": 21,
    "deepnote_cell_type": "code"
   },
   "source": "bus_stops.info()",
   "execution_count": 7,
   "outputs": [
    {
     "name": "stdout",
     "text": "<class 'pandas.core.frame.DataFrame'>\nRangeIndex: 3162 entries, 0 to 3161\nData columns (total 7 columns):\n #   Column             Non-Null Count  Dtype  \n---  ------             --------------  -----  \n 0   Code               3162 non-null   object \n 1   Transport          3162 non-null   object \n 2   Longitude          3162 non-null   float64\n 3   Latitude           3162 non-null   float64\n 4   Bus.Stop           3162 non-null   object \n 5   District.Name      3146 non-null   object \n 6   Neighborhood.Name  3146 non-null   object \ndtypes: float64(2), object(5)\nmemory usage: 173.0+ KB\n",
     "output_type": "stream"
    }
   ]
  },
  {
   "cell_type": "code",
   "metadata": {
    "tags": [],
    "cell_id": "00006-fb560285-488f-4467-9fa2-c6223fc3f266",
    "deepnote_to_be_reexecuted": false,
    "source_hash": "3d0f66b4",
    "execution_start": 1623400999720,
    "execution_millis": 40,
    "deepnote_cell_type": "code"
   },
   "source": "bus_stops.describe()",
   "execution_count": 8,
   "outputs": [
    {
     "output_type": "execute_result",
     "execution_count": 8,
     "data": {
      "application/vnd.deepnote.dataframe.v2+json": {
       "row_count": 8,
       "column_count": 2,
       "columns": [
        {
         "name": "Longitude",
         "dtype": "float64",
         "stats": {
          "unique_count": 8,
          "nan_count": 0,
          "min": "0.02789827155749879",
          "max": "3162.0",
          "histogram": [
           {
            "bin_start": 0.02789827155749879,
            "bin_end": 316.2251084444017,
            "count": 7
           },
           {
            "bin_start": 316.2251084444017,
            "bin_end": 632.422318617246,
            "count": 0
           },
           {
            "bin_start": 632.422318617246,
            "bin_end": 948.6195287900902,
            "count": 0
           },
           {
            "bin_start": 948.6195287900902,
            "bin_end": 1264.8167389629343,
            "count": 0
           },
           {
            "bin_start": 1264.8167389629343,
            "bin_end": 1581.0139491357786,
            "count": 0
           },
           {
            "bin_start": 1581.0139491357786,
            "bin_end": 1897.2111593086227,
            "count": 0
           },
           {
            "bin_start": 1897.2111593086227,
            "bin_end": 2213.408369481467,
            "count": 0
           },
           {
            "bin_start": 2213.408369481467,
            "bin_end": 2529.6055796543114,
            "count": 0
           },
           {
            "bin_start": 2529.6055796543114,
            "bin_end": 2845.8027898271557,
            "count": 0
           },
           {
            "bin_start": 2845.8027898271557,
            "bin_end": 3162,
            "count": 1
           }
          ]
         }
        },
        {
         "name": "Latitude",
         "dtype": "float64",
         "stats": {
          "unique_count": 8,
          "nan_count": 0,
          "min": "0.027150064523682356",
          "max": "3162.0",
          "histogram": [
           {
            "bin_start": 0.027150064523682356,
            "bin_end": 316.2244350580714,
            "count": 7
           },
           {
            "bin_start": 316.2244350580714,
            "bin_end": 632.421720051619,
            "count": 0
           },
           {
            "bin_start": 632.421720051619,
            "bin_end": 948.6190050451667,
            "count": 0
           },
           {
            "bin_start": 948.6190050451667,
            "bin_end": 1264.8162900387144,
            "count": 0
           },
           {
            "bin_start": 1264.8162900387144,
            "bin_end": 1581.0135750322622,
            "count": 0
           },
           {
            "bin_start": 1581.0135750322622,
            "bin_end": 1897.2108600258098,
            "count": 0
           },
           {
            "bin_start": 1897.2108600258098,
            "bin_end": 2213.408145019357,
            "count": 0
           },
           {
            "bin_start": 2213.408145019357,
            "bin_end": 2529.605430012905,
            "count": 0
           },
           {
            "bin_start": 2529.605430012905,
            "bin_end": 2845.8027150064527,
            "count": 0
           },
           {
            "bin_start": 2845.8027150064527,
            "bin_end": 3162,
            "count": 1
           }
          ]
         }
        },
        {
         "name": "_deepnote_index_column",
         "dtype": "object"
        }
       ],
       "rows_top": [
        {
         "Longitude": 3162,
         "Latitude": 3162,
         "_deepnote_index_column": "count"
        },
        {
         "Longitude": 2.1598239696394685,
         "Latitude": 41.40500162333966,
         "_deepnote_index_column": "mean"
        },
        {
         "Longitude": 0.02789827155749879,
         "Latitude": 0.027150064523682356,
         "_deepnote_index_column": "std"
        },
        {
         "Longitude": 2.055835,
         "Latitude": 41.321643,
         "_deepnote_index_column": "min"
        },
        {
         "Longitude": 2.1406265,
         "Latitude": 41.386903,
         "_deepnote_index_column": "25%"
        },
        {
         "Longitude": 2.1611029999999998,
         "Latitude": 41.405734,
         "_deepnote_index_column": "50%"
        },
        {
         "Longitude": 2.180406,
         "Latitude": 41.423526499999994,
         "_deepnote_index_column": "75%"
        },
        {
         "Longitude": 2.221753,
         "Latitude": 41.467592,
         "_deepnote_index_column": "max"
        }
       ],
       "rows_bottom": null
      },
      "text/plain": "         Longitude     Latitude\ncount  3162.000000  3162.000000\nmean      2.159824    41.405002\nstd       0.027898     0.027150\nmin       2.055835    41.321643\n25%       2.140627    41.386903\n50%       2.161103    41.405734\n75%       2.180406    41.423526\nmax       2.221753    41.467592",
      "text/html": "<div>\n<style scoped>\n    .dataframe tbody tr th:only-of-type {\n        vertical-align: middle;\n    }\n\n    .dataframe tbody tr th {\n        vertical-align: top;\n    }\n\n    .dataframe thead th {\n        text-align: right;\n    }\n</style>\n<table border=\"1\" class=\"dataframe\">\n  <thead>\n    <tr style=\"text-align: right;\">\n      <th></th>\n      <th>Longitude</th>\n      <th>Latitude</th>\n    </tr>\n  </thead>\n  <tbody>\n    <tr>\n      <th>count</th>\n      <td>3162.000000</td>\n      <td>3162.000000</td>\n    </tr>\n    <tr>\n      <th>mean</th>\n      <td>2.159824</td>\n      <td>41.405002</td>\n    </tr>\n    <tr>\n      <th>std</th>\n      <td>0.027898</td>\n      <td>0.027150</td>\n    </tr>\n    <tr>\n      <th>min</th>\n      <td>2.055835</td>\n      <td>41.321643</td>\n    </tr>\n    <tr>\n      <th>25%</th>\n      <td>2.140627</td>\n      <td>41.386903</td>\n    </tr>\n    <tr>\n      <th>50%</th>\n      <td>2.161103</td>\n      <td>41.405734</td>\n    </tr>\n    <tr>\n      <th>75%</th>\n      <td>2.180406</td>\n      <td>41.423526</td>\n    </tr>\n    <tr>\n      <th>max</th>\n      <td>2.221753</td>\n      <td>41.467592</td>\n    </tr>\n  </tbody>\n</table>\n</div>"
     },
     "metadata": {}
    }
   ]
  },
  {
   "cell_type": "code",
   "metadata": {
    "tags": [],
    "cell_id": "00006-0a51955c-69a1-4ab4-9ad8-4e7c25479a0f",
    "deepnote_to_be_reexecuted": false,
    "source_hash": "771b59f5",
    "execution_start": 1623401003120,
    "execution_millis": 8,
    "deepnote_cell_type": "code"
   },
   "source": "# Number of bus stops in each district\nbus_stops['District.Name'].value_counts(dropna=False)",
   "execution_count": 10,
   "outputs": [
    {
     "output_type": "execute_result",
     "execution_count": 10,
     "data": {
      "text/plain": "Sarrià-Sant Gervasi    439\nSants-Montjuïc         415\nEixample               405\nHorta-Guinardó         389\nSant Martí             356\nNou Barris             330\nSant Andreu            228\nGràcia                 210\nLes Corts              207\nCiutat Vella           167\nNaN                     16\nName: District.Name, dtype: int64"
     },
     "metadata": {}
    }
   ]
  },
  {
   "cell_type": "code",
   "metadata": {
    "tags": [],
    "cell_id": "00009-a9a9fdaf-caf4-4cd6-abfb-3e44d099e66e",
    "deepnote_to_be_reexecuted": false,
    "source_hash": "b9022dc9",
    "execution_start": 1623401005370,
    "execution_millis": 9,
    "deepnote_cell_type": "code"
   },
   "source": "#Bus stops without a district value\nall_nulls_bus_stops = bus_stops.isnull().sum()\npd.DataFrame(all_nulls_bus_stops).transpose()",
   "execution_count": 11,
   "outputs": [
    {
     "output_type": "execute_result",
     "execution_count": 11,
     "data": {
      "application/vnd.deepnote.dataframe.v2+json": {
       "row_count": 1,
       "column_count": 7,
       "columns": [
        {
         "name": "Code",
         "dtype": "int64",
         "stats": {
          "unique_count": 1,
          "nan_count": 0,
          "min": "0",
          "max": "0",
          "histogram": [
           {
            "bin_start": -0.5,
            "bin_end": -0.4,
            "count": 0
           },
           {
            "bin_start": -0.4,
            "bin_end": -0.3,
            "count": 0
           },
           {
            "bin_start": -0.3,
            "bin_end": -0.19999999999999996,
            "count": 0
           },
           {
            "bin_start": -0.19999999999999996,
            "bin_end": -0.09999999999999998,
            "count": 0
           },
           {
            "bin_start": -0.09999999999999998,
            "bin_end": 0,
            "count": 0
           },
           {
            "bin_start": 0,
            "bin_end": 0.10000000000000009,
            "count": 1
           },
           {
            "bin_start": 0.10000000000000009,
            "bin_end": 0.20000000000000007,
            "count": 0
           },
           {
            "bin_start": 0.20000000000000007,
            "bin_end": 0.30000000000000004,
            "count": 0
           },
           {
            "bin_start": 0.30000000000000004,
            "bin_end": 0.4,
            "count": 0
           },
           {
            "bin_start": 0.4,
            "bin_end": 0.5,
            "count": 0
           }
          ]
         }
        },
        {
         "name": "Transport",
         "dtype": "int64",
         "stats": {
          "unique_count": 1,
          "nan_count": 0,
          "min": "0",
          "max": "0",
          "histogram": [
           {
            "bin_start": -0.5,
            "bin_end": -0.4,
            "count": 0
           },
           {
            "bin_start": -0.4,
            "bin_end": -0.3,
            "count": 0
           },
           {
            "bin_start": -0.3,
            "bin_end": -0.19999999999999996,
            "count": 0
           },
           {
            "bin_start": -0.19999999999999996,
            "bin_end": -0.09999999999999998,
            "count": 0
           },
           {
            "bin_start": -0.09999999999999998,
            "bin_end": 0,
            "count": 0
           },
           {
            "bin_start": 0,
            "bin_end": 0.10000000000000009,
            "count": 1
           },
           {
            "bin_start": 0.10000000000000009,
            "bin_end": 0.20000000000000007,
            "count": 0
           },
           {
            "bin_start": 0.20000000000000007,
            "bin_end": 0.30000000000000004,
            "count": 0
           },
           {
            "bin_start": 0.30000000000000004,
            "bin_end": 0.4,
            "count": 0
           },
           {
            "bin_start": 0.4,
            "bin_end": 0.5,
            "count": 0
           }
          ]
         }
        },
        {
         "name": "Longitude",
         "dtype": "int64",
         "stats": {
          "unique_count": 1,
          "nan_count": 0,
          "min": "0",
          "max": "0",
          "histogram": [
           {
            "bin_start": -0.5,
            "bin_end": -0.4,
            "count": 0
           },
           {
            "bin_start": -0.4,
            "bin_end": -0.3,
            "count": 0
           },
           {
            "bin_start": -0.3,
            "bin_end": -0.19999999999999996,
            "count": 0
           },
           {
            "bin_start": -0.19999999999999996,
            "bin_end": -0.09999999999999998,
            "count": 0
           },
           {
            "bin_start": -0.09999999999999998,
            "bin_end": 0,
            "count": 0
           },
           {
            "bin_start": 0,
            "bin_end": 0.10000000000000009,
            "count": 1
           },
           {
            "bin_start": 0.10000000000000009,
            "bin_end": 0.20000000000000007,
            "count": 0
           },
           {
            "bin_start": 0.20000000000000007,
            "bin_end": 0.30000000000000004,
            "count": 0
           },
           {
            "bin_start": 0.30000000000000004,
            "bin_end": 0.4,
            "count": 0
           },
           {
            "bin_start": 0.4,
            "bin_end": 0.5,
            "count": 0
           }
          ]
         }
        },
        {
         "name": "Latitude",
         "dtype": "int64",
         "stats": {
          "unique_count": 1,
          "nan_count": 0,
          "min": "0",
          "max": "0",
          "histogram": [
           {
            "bin_start": -0.5,
            "bin_end": -0.4,
            "count": 0
           },
           {
            "bin_start": -0.4,
            "bin_end": -0.3,
            "count": 0
           },
           {
            "bin_start": -0.3,
            "bin_end": -0.19999999999999996,
            "count": 0
           },
           {
            "bin_start": -0.19999999999999996,
            "bin_end": -0.09999999999999998,
            "count": 0
           },
           {
            "bin_start": -0.09999999999999998,
            "bin_end": 0,
            "count": 0
           },
           {
            "bin_start": 0,
            "bin_end": 0.10000000000000009,
            "count": 1
           },
           {
            "bin_start": 0.10000000000000009,
            "bin_end": 0.20000000000000007,
            "count": 0
           },
           {
            "bin_start": 0.20000000000000007,
            "bin_end": 0.30000000000000004,
            "count": 0
           },
           {
            "bin_start": 0.30000000000000004,
            "bin_end": 0.4,
            "count": 0
           },
           {
            "bin_start": 0.4,
            "bin_end": 0.5,
            "count": 0
           }
          ]
         }
        },
        {
         "name": "Bus.Stop",
         "dtype": "int64",
         "stats": {
          "unique_count": 1,
          "nan_count": 0,
          "min": "0",
          "max": "0",
          "histogram": [
           {
            "bin_start": -0.5,
            "bin_end": -0.4,
            "count": 0
           },
           {
            "bin_start": -0.4,
            "bin_end": -0.3,
            "count": 0
           },
           {
            "bin_start": -0.3,
            "bin_end": -0.19999999999999996,
            "count": 0
           },
           {
            "bin_start": -0.19999999999999996,
            "bin_end": -0.09999999999999998,
            "count": 0
           },
           {
            "bin_start": -0.09999999999999998,
            "bin_end": 0,
            "count": 0
           },
           {
            "bin_start": 0,
            "bin_end": 0.10000000000000009,
            "count": 1
           },
           {
            "bin_start": 0.10000000000000009,
            "bin_end": 0.20000000000000007,
            "count": 0
           },
           {
            "bin_start": 0.20000000000000007,
            "bin_end": 0.30000000000000004,
            "count": 0
           },
           {
            "bin_start": 0.30000000000000004,
            "bin_end": 0.4,
            "count": 0
           },
           {
            "bin_start": 0.4,
            "bin_end": 0.5,
            "count": 0
           }
          ]
         }
        },
        {
         "name": "District.Name",
         "dtype": "int64",
         "stats": {
          "unique_count": 1,
          "nan_count": 0,
          "min": "16",
          "max": "16",
          "histogram": [
           {
            "bin_start": 15.5,
            "bin_end": 15.6,
            "count": 0
           },
           {
            "bin_start": 15.6,
            "bin_end": 15.7,
            "count": 0
           },
           {
            "bin_start": 15.7,
            "bin_end": 15.8,
            "count": 0
           },
           {
            "bin_start": 15.8,
            "bin_end": 15.9,
            "count": 0
           },
           {
            "bin_start": 15.9,
            "bin_end": 16,
            "count": 0
           },
           {
            "bin_start": 16,
            "bin_end": 16.1,
            "count": 1
           },
           {
            "bin_start": 16.1,
            "bin_end": 16.2,
            "count": 0
           },
           {
            "bin_start": 16.2,
            "bin_end": 16.3,
            "count": 0
           },
           {
            "bin_start": 16.3,
            "bin_end": 16.4,
            "count": 0
           },
           {
            "bin_start": 16.4,
            "bin_end": 16.5,
            "count": 0
           }
          ]
         }
        },
        {
         "name": "Neighborhood.Name",
         "dtype": "int64",
         "stats": {
          "unique_count": 1,
          "nan_count": 0,
          "min": "16",
          "max": "16",
          "histogram": [
           {
            "bin_start": 15.5,
            "bin_end": 15.6,
            "count": 0
           },
           {
            "bin_start": 15.6,
            "bin_end": 15.7,
            "count": 0
           },
           {
            "bin_start": 15.7,
            "bin_end": 15.8,
            "count": 0
           },
           {
            "bin_start": 15.8,
            "bin_end": 15.9,
            "count": 0
           },
           {
            "bin_start": 15.9,
            "bin_end": 16,
            "count": 0
           },
           {
            "bin_start": 16,
            "bin_end": 16.1,
            "count": 1
           },
           {
            "bin_start": 16.1,
            "bin_end": 16.2,
            "count": 0
           },
           {
            "bin_start": 16.2,
            "bin_end": 16.3,
            "count": 0
           },
           {
            "bin_start": 16.3,
            "bin_end": 16.4,
            "count": 0
           },
           {
            "bin_start": 16.4,
            "bin_end": 16.5,
            "count": 0
           }
          ]
         }
        },
        {
         "name": "_deepnote_index_column",
         "dtype": "int64"
        }
       ],
       "rows_top": [
        {
         "Code": 0,
         "Transport": 0,
         "Longitude": 0,
         "Latitude": 0,
         "Bus.Stop": 0,
         "District.Name": 16,
         "Neighborhood.Name": 16,
         "_deepnote_index_column": 0
        }
       ],
       "rows_bottom": null
      },
      "text/plain": "   Code  Transport  Longitude  Latitude  Bus.Stop  District.Name  \\\n0     0          0          0         0         0             16   \n\n   Neighborhood.Name  \n0                 16  ",
      "text/html": "<div>\n<style scoped>\n    .dataframe tbody tr th:only-of-type {\n        vertical-align: middle;\n    }\n\n    .dataframe tbody tr th {\n        vertical-align: top;\n    }\n\n    .dataframe thead th {\n        text-align: right;\n    }\n</style>\n<table border=\"1\" class=\"dataframe\">\n  <thead>\n    <tr style=\"text-align: right;\">\n      <th></th>\n      <th>Code</th>\n      <th>Transport</th>\n      <th>Longitude</th>\n      <th>Latitude</th>\n      <th>Bus.Stop</th>\n      <th>District.Name</th>\n      <th>Neighborhood.Name</th>\n    </tr>\n  </thead>\n  <tbody>\n    <tr>\n      <th>0</th>\n      <td>0</td>\n      <td>0</td>\n      <td>0</td>\n      <td>0</td>\n      <td>0</td>\n      <td>16</td>\n      <td>16</td>\n    </tr>\n  </tbody>\n</table>\n</div>"
     },
     "metadata": {}
    }
   ]
  },
  {
   "cell_type": "code",
   "source": "# Type of bus stops - Frequency table\n\nbus_stops['Transport'].value_counts()",
   "metadata": {
    "tags": [],
    "cell_id": "00008-347118d9-fa59-40fc-8226-8a3cbe1f9bd6",
    "deepnote_to_be_reexecuted": false,
    "source_hash": "32a8f5e8",
    "execution_start": 1623401007930,
    "execution_millis": 11,
    "deepnote_cell_type": "code"
   },
   "outputs": [
    {
     "output_type": "execute_result",
     "execution_count": 12,
     "data": {
      "text/plain": "Day bus stop        2324\nNight bus stop       828\nAirport bus stop       7\nBus station            3\nName: Transport, dtype: int64"
     },
     "metadata": {}
    }
   ],
   "execution_count": 12
  },
  {
   "cell_type": "code",
   "source": "# Total bus stops\n\ntotal_of_bus_stops = sum(bus_stops['Transport'].value_counts(dropna=True))\n\n\n#public_transport_bus_merged\n\n",
   "metadata": {
    "tags": [],
    "cell_id": "00011-52769688-99cf-4e01-b1dc-5ebee6fe1b3c",
    "deepnote_to_be_reexecuted": false,
    "source_hash": "b4070693",
    "execution_start": 1623401024462,
    "execution_millis": 1,
    "deepnote_cell_type": "code"
   },
   "outputs": [],
   "execution_count": 14
  },
  {
   "cell_type": "code",
   "source": "percentage_bus_stops = (bus_stops['Transport'].value_counts()/total_of_bus_stops)*100\npercentage_bus_stops\n\n\npd.DataFrame(round(percentage_bus_stops.iloc[:], 2))",
   "metadata": {
    "tags": [],
    "cell_id": "00010-1d77ca1d-99b7-446b-8035-2845e9432ca4",
    "deepnote_to_be_reexecuted": false,
    "source_hash": "3a615a3c",
    "execution_start": 1623401027376,
    "execution_millis": 33,
    "deepnote_cell_type": "code"
   },
   "outputs": [
    {
     "output_type": "execute_result",
     "execution_count": 15,
     "data": {
      "application/vnd.deepnote.dataframe.v2+json": {
       "row_count": 4,
       "column_count": 1,
       "columns": [
        {
         "name": "Transport",
         "dtype": "float64",
         "stats": {
          "unique_count": 4,
          "nan_count": 0,
          "min": "0.09",
          "max": "73.5",
          "histogram": [
           {
            "bin_start": 0.09,
            "bin_end": 7.430999999999999,
            "count": 2
           },
           {
            "bin_start": 7.430999999999999,
            "bin_end": 14.771999999999998,
            "count": 0
           },
           {
            "bin_start": 14.771999999999998,
            "bin_end": 22.112999999999996,
            "count": 0
           },
           {
            "bin_start": 22.112999999999996,
            "bin_end": 29.453999999999997,
            "count": 1
           },
           {
            "bin_start": 29.453999999999997,
            "bin_end": 36.795,
            "count": 0
           },
           {
            "bin_start": 36.795,
            "bin_end": 44.135999999999996,
            "count": 0
           },
           {
            "bin_start": 44.135999999999996,
            "bin_end": 51.477,
            "count": 0
           },
           {
            "bin_start": 51.477,
            "bin_end": 58.818,
            "count": 0
           },
           {
            "bin_start": 58.818,
            "bin_end": 66.15899999999999,
            "count": 0
           },
           {
            "bin_start": 66.15899999999999,
            "bin_end": 73.5,
            "count": 1
           }
          ]
         }
        },
        {
         "name": "_deepnote_index_column",
         "dtype": "object"
        }
       ],
       "rows_top": [
        {
         "Transport": 73.5,
         "_deepnote_index_column": "Day bus stop"
        },
        {
         "Transport": 26.19,
         "_deepnote_index_column": "Night bus stop"
        },
        {
         "Transport": 0.22,
         "_deepnote_index_column": "Airport bus stop"
        },
        {
         "Transport": 0.09,
         "_deepnote_index_column": "Bus station"
        }
       ],
       "rows_bottom": null
      },
      "text/plain": "                  Transport\nDay bus stop          73.50\nNight bus stop        26.19\nAirport bus stop       0.22\nBus station            0.09",
      "text/html": "<div>\n<style scoped>\n    .dataframe tbody tr th:only-of-type {\n        vertical-align: middle;\n    }\n\n    .dataframe tbody tr th {\n        vertical-align: top;\n    }\n\n    .dataframe thead th {\n        text-align: right;\n    }\n</style>\n<table border=\"1\" class=\"dataframe\">\n  <thead>\n    <tr style=\"text-align: right;\">\n      <th></th>\n      <th>Transport</th>\n    </tr>\n  </thead>\n  <tbody>\n    <tr>\n      <th>Day bus stop</th>\n      <td>73.50</td>\n    </tr>\n    <tr>\n      <th>Night bus stop</th>\n      <td>26.19</td>\n    </tr>\n    <tr>\n      <th>Airport bus stop</th>\n      <td>0.22</td>\n    </tr>\n    <tr>\n      <th>Bus station</th>\n      <td>0.09</td>\n    </tr>\n  </tbody>\n</table>\n</div>"
     },
     "metadata": {}
    }
   ],
   "execution_count": 15
  },
  {
   "cell_type": "code",
   "metadata": {
    "tags": [],
    "cell_id": "00007-a9e259a7-2b16-4988-9908-c568a9065e39",
    "deepnote_to_be_reexecuted": false,
    "source_hash": "51e1b4de",
    "execution_start": 1623402403841,
    "execution_millis": 9,
    "deepnote_cell_type": "code"
   },
   "source": "#Number of bus stops in each neighborhood\nneigh_bus_stops = bus_stops['Neighborhood.Name'].value_counts()\n#neigh_bus_stops\n\n#Percentage of bus stops in each in neighborhood\npercentage_neigh_bus_stops = neigh_bus_stops/len(bus_stops['Neighborhood.Name'])\n\ndf_percentage_neigh_bus_stops = pd.DataFrame(round(percentage_neigh_bus_stops*100, 2))\ndf_percentage_neigh_bus_stops = df_percentage_neigh_bus_stops.reset_index()\ndf_percentage_neigh_bus_stops.columns  = ['Neighbourhood','Percentage']\n\n#Name of the neighborhood with the highest percentage\nour_index = df_percentage_neigh_bus_stops[ df_percentage_neigh_bus_stops['Percentage'] == \ndf_percentage_neigh_bus_stops['Percentage'].max() ].index\n\nmax_stops_neigh = df_percentage_neigh_bus_stops.iloc[our_index,0]\n#type(max_stops_neigh)\nprint('The neighborhood with the highest percentage of bus stops is: ',max_stops_neigh[0])\n",
   "execution_count": 47,
   "outputs": [
    {
     "name": "stdout",
     "text": "The neighborhood with the highest percentage of bus stops is:  la Dreta de l'Eixample\n",
     "output_type": "stream"
    }
   ]
  },
  {
   "cell_type": "code",
   "metadata": {
    "tags": [],
    "cell_id": "00008-96af0351-a242-4603-8caf-161ad99ae498",
    "deepnote_to_be_reexecuted": false,
    "source_hash": "d59023f9",
    "execution_start": 1623401031989,
    "execution_millis": 5,
    "deepnote_cell_type": "code"
   },
   "source": "#Percentage of bus stops in a given district (compared to the total total bus stops) DENSITY\n \n#Get the outliers of the number of bus stops per district (min and max)\n#Calculate the mean _with_ the outliers _then_ show how it changes _without_ the outliers (?)\n\nbus_stops_perDistrict = bus_stops['District.Name'].value_counts()/len(bus_stops['District.Name'])\n\n\npd.DataFrame(round(bus_stops_perDistrict.iloc[:]*100, 2))\n",
   "execution_count": 16,
   "outputs": [
    {
     "output_type": "execute_result",
     "execution_count": 16,
     "data": {
      "application/vnd.deepnote.dataframe.v2+json": {
       "row_count": 10,
       "column_count": 1,
       "columns": [
        {
         "name": "District.Name",
         "dtype": "float64",
         "stats": {
          "unique_count": 10,
          "nan_count": 0,
          "min": "5.28",
          "max": "13.88",
          "histogram": [
           {
            "bin_start": 5.28,
            "bin_end": 6.140000000000001,
            "count": 1
           },
           {
            "bin_start": 6.140000000000001,
            "bin_end": 7,
            "count": 2
           },
           {
            "bin_start": 7,
            "bin_end": 7.86,
            "count": 1
           },
           {
            "bin_start": 7.86,
            "bin_end": 8.72,
            "count": 0
           },
           {
            "bin_start": 8.72,
            "bin_end": 9.580000000000002,
            "count": 0
           },
           {
            "bin_start": 9.580000000000002,
            "bin_end": 10.440000000000001,
            "count": 1
           },
           {
            "bin_start": 10.440000000000001,
            "bin_end": 11.3,
            "count": 1
           },
           {
            "bin_start": 11.3,
            "bin_end": 12.16,
            "count": 0
           },
           {
            "bin_start": 12.16,
            "bin_end": 13.020000000000001,
            "count": 2
           },
           {
            "bin_start": 13.020000000000001,
            "bin_end": 13.88,
            "count": 2
           }
          ]
         }
        },
        {
         "name": "_deepnote_index_column",
         "dtype": "object"
        }
       ],
       "rows_top": [
        {
         "District.Name": 13.88,
         "_deepnote_index_column": "Sarrià-Sant Gervasi"
        },
        {
         "District.Name": 13.12,
         "_deepnote_index_column": "Sants-Montjuïc"
        },
        {
         "District.Name": 12.81,
         "_deepnote_index_column": "Eixample"
        },
        {
         "District.Name": 12.3,
         "_deepnote_index_column": "Horta-Guinardó"
        },
        {
         "District.Name": 11.26,
         "_deepnote_index_column": "Sant Martí"
        },
        {
         "District.Name": 10.44,
         "_deepnote_index_column": "Nou Barris"
        },
        {
         "District.Name": 7.21,
         "_deepnote_index_column": "Sant Andreu"
        },
        {
         "District.Name": 6.64,
         "_deepnote_index_column": "Gràcia"
        },
        {
         "District.Name": 6.55,
         "_deepnote_index_column": "Les Corts"
        },
        {
         "District.Name": 5.28,
         "_deepnote_index_column": "Ciutat Vella"
        }
       ],
       "rows_bottom": null
      },
      "text/plain": "                     District.Name\nSarrià-Sant Gervasi          13.88\nSants-Montjuïc               13.12\nEixample                     12.81\nHorta-Guinardó               12.30\nSant Martí                   11.26\nNou Barris                   10.44\nSant Andreu                   7.21\nGràcia                        6.64\nLes Corts                     6.55\nCiutat Vella                  5.28",
      "text/html": "<div>\n<style scoped>\n    .dataframe tbody tr th:only-of-type {\n        vertical-align: middle;\n    }\n\n    .dataframe tbody tr th {\n        vertical-align: top;\n    }\n\n    .dataframe thead th {\n        text-align: right;\n    }\n</style>\n<table border=\"1\" class=\"dataframe\">\n  <thead>\n    <tr style=\"text-align: right;\">\n      <th></th>\n      <th>District.Name</th>\n    </tr>\n  </thead>\n  <tbody>\n    <tr>\n      <th>Sarrià-Sant Gervasi</th>\n      <td>13.88</td>\n    </tr>\n    <tr>\n      <th>Sants-Montjuïc</th>\n      <td>13.12</td>\n    </tr>\n    <tr>\n      <th>Eixample</th>\n      <td>12.81</td>\n    </tr>\n    <tr>\n      <th>Horta-Guinardó</th>\n      <td>12.30</td>\n    </tr>\n    <tr>\n      <th>Sant Martí</th>\n      <td>11.26</td>\n    </tr>\n    <tr>\n      <th>Nou Barris</th>\n      <td>10.44</td>\n    </tr>\n    <tr>\n      <th>Sant Andreu</th>\n      <td>7.21</td>\n    </tr>\n    <tr>\n      <th>Gràcia</th>\n      <td>6.64</td>\n    </tr>\n    <tr>\n      <th>Les Corts</th>\n      <td>6.55</td>\n    </tr>\n    <tr>\n      <th>Ciutat Vella</th>\n      <td>5.28</td>\n    </tr>\n  </tbody>\n</table>\n</div>"
     },
     "metadata": {}
    }
   ]
  },
  {
   "cell_type": "markdown",
   "source": "------------------------------------",
   "metadata": {
    "tags": [],
    "cell_id": "00010-2aec3788-63be-4039-a470-143e71dae85f",
    "deepnote_cell_type": "markdown"
   }
  },
  {
   "cell_type": "markdown",
   "source": "## Public Transport",
   "metadata": {
    "tags": [],
    "cell_id": "00011-bddc218e-d60b-43d4-88b0-2e5d4a8975ee",
    "deepnote_cell_type": "markdown"
   }
  },
  {
   "cell_type": "code",
   "metadata": {
    "tags": [],
    "cell_id": "00002-8077ddf2-d00b-4bd8-bd0a-2367d38b600b",
    "deepnote_to_be_reexecuted": false,
    "source_hash": "b7bd1001",
    "execution_start": 1623401034482,
    "execution_millis": 75,
    "deepnote_cell_type": "code"
   },
   "source": "public_transport = pd.read_csv(r\"/work/datasets/1.-Transportation/public-transport.csv\")\npublic_transport",
   "execution_count": 17,
   "outputs": [
    {
     "output_type": "execute_result",
     "execution_count": 17,
     "data": {
      "application/vnd.deepnote.dataframe.v2+json": {
       "row_count": 651,
       "column_count": 7,
       "columns": [
        {
         "name": "Code",
         "dtype": "object",
         "stats": {
          "unique_count": 8,
          "nan_count": 0,
          "categories": [
           {
            "name": "K001",
            "count": 463
           },
           {
            "name": "K011",
            "count": 65
           },
           {
            "name": "6 others",
            "count": 123
           }
          ]
         }
        },
        {
         "name": "Transport",
         "dtype": "object",
         "stats": {
          "unique_count": 8,
          "nan_count": 0,
          "categories": [
           {
            "name": "Underground",
            "count": 463
           },
           {
            "name": "Tram",
            "count": 65
           },
           {
            "name": "6 others",
            "count": 123
           }
          ]
         }
        },
        {
         "name": "Longitude",
         "dtype": "float64",
         "stats": {
          "unique_count": 599,
          "nan_count": 0,
          "min": "2.00528",
          "max": "2.249093",
          "histogram": [
           {
            "bin_start": 2.00528,
            "bin_end": 2.0296613,
            "count": 4
           },
           {
            "bin_start": 2.0296613,
            "bin_end": 2.0540426,
            "count": 7
           },
           {
            "bin_start": 2.0540426,
            "bin_end": 2.0784238999999998,
            "count": 22
           },
           {
            "bin_start": 2.0784238999999998,
            "bin_end": 2.1028051999999997,
            "count": 28
           },
           {
            "bin_start": 2.1028051999999997,
            "bin_end": 2.1271864999999996,
            "count": 69
           },
           {
            "bin_start": 2.1271864999999996,
            "bin_end": 2.1515678,
            "count": 135
           },
           {
            "bin_start": 2.1515678,
            "bin_end": 2.1759491,
            "count": 170
           },
           {
            "bin_start": 2.1759491,
            "bin_end": 2.2003304,
            "count": 147
           },
           {
            "bin_start": 2.2003304,
            "bin_end": 2.2247117,
            "count": 50
           },
           {
            "bin_start": 2.2247117,
            "bin_end": 2.249093,
            "count": 19
           }
          ]
         }
        },
        {
         "name": "Latitude",
         "dtype": "float64",
         "stats": {
          "unique_count": 595,
          "nan_count": 0,
          "min": "41.304419",
          "max": "41.496321",
          "histogram": [
           {
            "bin_start": 41.304419,
            "bin_end": 41.3236092,
            "count": 2
           },
           {
            "bin_start": 41.3236092,
            "bin_end": 41.342799400000004,
            "count": 2
           },
           {
            "bin_start": 41.342799400000004,
            "bin_end": 41.3619896,
            "count": 48
           },
           {
            "bin_start": 41.3619896,
            "bin_end": 41.381179800000005,
            "count": 139
           },
           {
            "bin_start": 41.381179800000005,
            "bin_end": 41.40037,
            "count": 182
           },
           {
            "bin_start": 41.40037,
            "bin_end": 41.4195602,
            "count": 119
           },
           {
            "bin_start": 41.4195602,
            "bin_end": 41.4387504,
            "count": 92
           },
           {
            "bin_start": 41.4387504,
            "bin_end": 41.4579406,
            "count": 52
           },
           {
            "bin_start": 41.4579406,
            "bin_end": 41.477130800000005,
            "count": 10
           },
           {
            "bin_start": 41.477130800000005,
            "bin_end": 41.496321,
            "count": 5
           }
          ]
         }
        },
        {
         "name": "Station",
         "dtype": "object",
         "stats": {
          "unique_count": 540,
          "nan_count": 0,
          "categories": [
           {
            "name": "METRO (L1) - BELLVITGE-",
            "count": 5
           },
           {
            "name": "METRO (L1) - RAMBLA JUST OLIVERAS-",
            "count": 4
           },
           {
            "name": "538 others",
            "count": 642
           }
          ]
         }
        },
        {
         "name": "District.Name",
         "dtype": "object",
         "stats": {
          "unique_count": 10,
          "nan_count": 164,
          "categories": [
           {
            "name": "Eixample",
            "count": 120
           },
           {
            "name": "9 others",
            "count": 367
           },
           {
            "name": "Missing",
            "count": 164
           }
          ]
         }
        },
        {
         "name": "Neighborhood.Name",
         "dtype": "object",
         "stats": {
          "unique_count": 63,
          "nan_count": 164,
          "categories": [
           {
            "name": "la Dreta de l'Eixample",
            "count": 61
           },
           {
            "name": "62 others",
            "count": 426
           },
           {
            "name": "Missing",
            "count": 164
           }
          ]
         }
        },
        {
         "name": "_deepnote_index_column",
         "dtype": "int64"
        }
       ],
       "rows_top": [
        {
         "Code": "K001",
         "Transport": "Underground",
         "Longitude": 2.11937,
         "Latitude": 41.399203,
         "Station": "FGC (L6) - REINA ELISENDA (Sortida Duquesa d'Orleans)-",
         "District.Name": "Sarrià-Sant Gervasi",
         "Neighborhood.Name": "Sarrià",
         "_deepnote_index_column": 0
        },
        {
         "Code": "K001",
         "Transport": "Underground",
         "Longitude": 2.135427,
         "Latitude": 41.397791,
         "Station": "FGC (L6) - LA BONANOVA-",
         "District.Name": "Sarrià-Sant Gervasi",
         "Neighborhood.Name": "Sant Gervasi - Galvany",
         "_deepnote_index_column": 1
        },
        {
         "Code": "K001",
         "Transport": "Underground",
         "Longitude": 2.185391,
         "Latitude": 41.451492,
         "Station": "METRO (L11) - CASA DE L'AIGUA (C. Vila-Real)-",
         "District.Name": "Nou Barris",
         "Neighborhood.Name": "la Trinitat Nova",
         "_deepnote_index_column": 2
        },
        {
         "Code": "K001",
         "Transport": "Underground",
         "Longitude": 2.174473,
         "Latitude": 41.460889,
         "Station": "METRO (L11) - CIUTAT MERIDIANA (C. Pedraforca)-",
         "District.Name": "Nou Barris",
         "Neighborhood.Name": "Ciutat Meridiana",
         "_deepnote_index_column": 3
        },
        {
         "Code": "K001",
         "Transport": "Underground",
         "Longitude": 2.168588,
         "Latitude": 41.3872,
         "Station": "METRO (L1) - CATALUNYA (Rda. Universitat)-",
         "District.Name": "Eixample",
         "Neighborhood.Name": "la Dreta de l'Eixample",
         "_deepnote_index_column": 4
        },
        {
         "Code": "K001",
         "Transport": "Underground",
         "Longitude": 2.168507,
         "Latitude": 41.387706,
         "Station": "METRO (L1) - CATALUNYA (Rambla de Catalunya)-",
         "District.Name": "Eixample",
         "Neighborhood.Name": "la Dreta de l'Eixample",
         "_deepnote_index_column": 5
        },
        {
         "Code": "K001",
         "Transport": "Underground",
         "Longitude": 2.118998,
         "Latitude": 41.398967,
         "Station": "FGC (L6) - REINA ELISENDA-",
         "District.Name": "Sarrià-Sant Gervasi",
         "Neighborhood.Name": "Sarrià",
         "_deepnote_index_column": 6
        },
        {
         "Code": "K001",
         "Transport": "Underground",
         "Longitude": 2.083994,
         "Latitude": 41.362753,
         "Station": "METRO (L5) - SANT ILDEFONS-",
         "District.Name": "nan",
         "Neighborhood.Name": "nan",
         "_deepnote_index_column": 7
        },
        {
         "Code": "K001",
         "Transport": "Underground",
         "Longitude": 2.142987,
         "Latitude": 41.424923,
         "Station": "METRO (L3, L5) - VALL D'HEBRON (C. de les Basses d'Horta)-",
         "District.Name": "Horta-Guinardó",
         "Neighborhood.Name": "la Vall d'Hebron",
         "_deepnote_index_column": 8
        },
        {
         "Code": "K002",
         "Transport": "Railway (FGC)",
         "Longitude": 2.158326,
         "Latitude": 41.392331,
         "Station": "FGC - PROVENÇA (C. de Provença)-",
         "District.Name": "Eixample",
         "Neighborhood.Name": "l'Antiga Esquerra de l'Eixample",
         "_deepnote_index_column": 9
        },
        {
         "Code": "K001",
         "Transport": "Underground",
         "Longitude": 2.100302,
         "Latitude": 41.362977,
         "Station": "METRO (L1) - RAMBLA JUST OLIVERAS-",
         "District.Name": "nan",
         "Neighborhood.Name": "nan",
         "_deepnote_index_column": 10
        },
        {
         "Code": "K001",
         "Transport": "Underground",
         "Longitude": 2.179581,
         "Latitude": 41.40018,
         "Station": "METRO (L2) - MONUMENTAL (C. de la Marina)-",
         "District.Name": "Eixample",
         "Neighborhood.Name": "el Fort Pienc",
         "_deepnote_index_column": 11
        },
        {
         "Code": "K001",
         "Transport": "Underground",
         "Longitude": 2.153966,
         "Latitude": 41.37907,
         "Station": "METRO (L1) - ROCAFORT (C. de Rocafort)-",
         "District.Name": "Eixample",
         "Neighborhood.Name": "la Nova Esquerra de l'Eixample",
         "_deepnote_index_column": 12
        },
        {
         "Code": "K001",
         "Transport": "Underground",
         "Longitude": 2.168735,
         "Latitude": 41.389295,
         "Station": "METRO (L2) - PASSEIG DE GRÀCIA (Pg. de Gràcia)-",
         "District.Name": "Eixample",
         "Neighborhood.Name": "la Dreta de l'Eixample",
         "_deepnote_index_column": 13
        },
        {
         "Code": "K001",
         "Transport": "Underground",
         "Longitude": 2.161228,
         "Latitude": 41.430042,
         "Station": "METRO (L5) - HORTA (Pl. d'Eivissa)-",
         "District.Name": "Horta-Guinardó",
         "Neighborhood.Name": "Horta",
         "_deepnote_index_column": 14
        },
        {
         "Code": "K011",
         "Transport": "Tram",
         "Longitude": 2.098896,
         "Latitude": 41.376486,
         "Station": "TRAMVIA (T1,T2,T3) - CA N'OLIVERES-",
         "District.Name": "nan",
         "Neighborhood.Name": "nan",
         "_deepnote_index_column": 15
        },
        {
         "Code": "K001",
         "Transport": "Underground",
         "Longitude": 2.13319,
         "Latitude": 41.373293,
         "Station": "METRO (L1) - MERCAT NOU (C. d'Antoni de Capmany)-",
         "District.Name": "Sants-Montjuïc",
         "Neighborhood.Name": "Sants",
         "_deepnote_index_column": 16
        },
        {
         "Code": "K001",
         "Transport": "Underground",
         "Longitude": 2.145478,
         "Latitude": 41.378565,
         "Station": "METRO (L3) - TARRAGONA-",
         "District.Name": "Eixample",
         "Neighborhood.Name": "la Nova Esquerra de l'Eixample",
         "_deepnote_index_column": 17
        },
        {
         "Code": "K001",
         "Transport": "Underground",
         "Longitude": 2.147798,
         "Latitude": 41.434855,
         "Station": "METRO (L3) - MUNDET (Can Marcet)-",
         "District.Name": "Horta-Guinardó",
         "Neighborhood.Name": "la Vall d'Hebron",
         "_deepnote_index_column": 18
        },
        {
         "Code": "K001",
         "Transport": "Underground",
         "Longitude": 2.148557,
         "Latitude": 41.435325,
         "Station": "METRO (L3) - MUNDET (Can Marcet)-",
         "District.Name": "Horta-Guinardó",
         "Neighborhood.Name": "la Vall d'Hebron",
         "_deepnote_index_column": 19
        },
        {
         "Code": "K001",
         "Transport": "Underground",
         "Longitude": 2.215909,
         "Latitude": 41.41174,
         "Station": "METRO (L4) - EL MARESME-FÒRUM (C. del Maresme)-",
         "District.Name": "Sant Martí",
         "Neighborhood.Name": "el Besòs i el Maresme",
         "_deepnote_index_column": 20
        },
        {
         "Code": "K001",
         "Transport": "Underground",
         "Longitude": 2.163252,
         "Latitude": 41.385015,
         "Station": "METRO (L2) - UNIVERSITAT-",
         "District.Name": "Eixample",
         "Neighborhood.Name": "Sant Antoni",
         "_deepnote_index_column": 21
        },
        {
         "Code": "K011",
         "Transport": "Tram",
         "Longitude": 2.197653,
         "Latitude": 41.411242,
         "Station": "TRAMVIA (T5, T6) - ESPRONCEDA-",
         "District.Name": "Sant Martí",
         "Neighborhood.Name": "Provençals del Poblenou",
         "_deepnote_index_column": 22
        },
        {
         "Code": "K011",
         "Transport": "Tram",
         "Longitude": 2.115012,
         "Latitude": 41.38048,
         "Station": "TRAMVIA (T1,T2,T3) - AVINGUDA DE XILE-",
         "District.Name": "Les Corts",
         "Neighborhood.Name": "la Maternitat i Sant Ramon",
         "_deepnote_index_column": 23
        },
        {
         "Code": "K011",
         "Transport": "Tram",
         "Longitude": 2.106023,
         "Latitude": 41.376071,
         "Station": "TRAMVIA (T1,T2,T3) - CAN RIGAL-",
         "District.Name": "nan",
         "Neighborhood.Name": "nan",
         "_deepnote_index_column": 24
        },
        {
         "Code": "K011",
         "Transport": "Tram",
         "Longitude": 2.222916,
         "Latitude": 41.430456,
         "Station": "TRAMVIA (T5) - ENCANTS DE SANT ADRIÀ-",
         "District.Name": "nan",
         "Neighborhood.Name": "nan",
         "_deepnote_index_column": 25
        },
        {
         "Code": "K011",
         "Transport": "Tram",
         "Longitude": 2.219829,
         "Latitude": 41.411777,
         "Station": "TRAMVIA (T4) - FÒRUM-",
         "District.Name": "Sant Martí",
         "Neighborhood.Name": "el Besòs i el Maresme",
         "_deepnote_index_column": 26
        },
        {
         "Code": "K011",
         "Transport": "Tram",
         "Longitude": 2.230412,
         "Latitude": 41.423854,
         "Station": "TRAMVIA (T4, T6) - ESTACIÓ DE SANT ADRIÀ-",
         "District.Name": "nan",
         "Neighborhood.Name": "nan",
         "_deepnote_index_column": 27
        },
        {
         "Code": "K011",
         "Transport": "Tram",
         "Longitude": 2.062227,
         "Latitude": 41.360383,
         "Station": "TRAMVIA (T1,T2) - FONTSANTA-FATJÓ-",
         "District.Name": "nan",
         "Neighborhood.Name": "nan",
         "_deepnote_index_column": 28
        },
        {
         "Code": "K008",
         "Transport": "Maritime station",
         "Longitude": 2.182868,
         "Latitude": 41.370929,
         "Station": "Estació Marítima INTERNACIONAL-",
         "District.Name": "nan",
         "Neighborhood.Name": "nan",
         "_deepnote_index_column": 29
        },
        {
         "Code": "K001",
         "Transport": "Underground",
         "Longitude": 2.125369,
         "Latitude": 41.357005,
         "Station": "FGC (L8) - EUROPA / FIRA-",
         "District.Name": "nan",
         "Neighborhood.Name": "nan",
         "_deepnote_index_column": 30
        },
        {
         "Code": "K001",
         "Transport": "Underground",
         "Longitude": 2.178826,
         "Latitude": 41.444145,
         "Station": "METRO (L4) - VIA JÚLIA (Via Júlia - Joaquim Valls)-",
         "District.Name": "Nou Barris",
         "Neighborhood.Name": "la Prosperitat",
         "_deepnote_index_column": 31
        },
        {
         "Code": "K001",
         "Transport": "Underground",
         "Longitude": 2.141603,
         "Latitude": 41.380858,
         "Station": "METRO (L3) - SANTS ESTACIÓ (C. de Numància)-",
         "District.Name": "Sants-Montjuïc",
         "Neighborhood.Name": "Sants",
         "_deepnote_index_column": 32
        },
        {
         "Code": "K001",
         "Transport": "Underground",
         "Longitude": 2.171334,
         "Latitude": 41.394796,
         "Station": "METRO (L4) - GIRONA (C. de Girona)-",
         "District.Name": "Eixample",
         "Neighborhood.Name": "la Dreta de l'Eixample",
         "_deepnote_index_column": 33
        },
        {
         "Code": "K001",
         "Transport": "Underground",
         "Longitude": 2.172883,
         "Latitude": 41.436715,
         "Station": "METRO (L4) - LLUCMAJOR (Pg. del Verdum)-",
         "District.Name": "Nou Barris",
         "Neighborhood.Name": "la Guineueta",
         "_deepnote_index_column": 34
        },
        {
         "Code": "K001",
         "Transport": "Underground",
         "Longitude": 2.127313,
         "Latitude": 41.375605,
         "Station": "METRO (L5) - BADAL-",
         "District.Name": "Sants-Montjuïc",
         "Neighborhood.Name": "Sants - Badal",
         "_deepnote_index_column": 35
        },
        {
         "Code": "K001",
         "Transport": "Underground",
         "Longitude": 2.202855,
         "Latitude": 41.403481,
         "Station": "METRO (L4) - POBLENOU (C. de Pujades)-",
         "District.Name": "Sant Martí",
         "Neighborhood.Name": "el Poblenou",
         "_deepnote_index_column": 36
        },
        {
         "Code": "K001",
         "Transport": "Underground",
         "Longitude": 2.180781,
         "Latitude": 41.423505,
         "Station": "METRO (L5) - CONGRÉS (C. de Garcilaso)-",
         "District.Name": "Sant Andreu",
         "Neighborhood.Name": "el Congrés i els Indians",
         "_deepnote_index_column": 37
        },
        {
         "Code": "K001",
         "Transport": "Underground",
         "Longitude": 2.14909,
         "Latitude": 41.374291,
         "Station": "METRO (L3) - ESPANYA (Pl. d'Espanya)-",
         "District.Name": "Sants-Montjuïc",
         "Neighborhood.Name": "el Poble-sec",
         "_deepnote_index_column": 38
        },
        {
         "Code": "K003",
         "Transport": "RENFE",
         "Longitude": 2.181768,
         "Latitude": 41.496321,
         "Station": "RENFE - MONTCADA-RIPOLLET-",
         "District.Name": "nan",
         "Neighborhood.Name": "nan",
         "_deepnote_index_column": 39
        },
        {
         "Code": "K003",
         "Transport": "RENFE",
         "Longitude": 2.170436,
         "Latitude": 41.388108,
         "Station": "RENFE - CATALUNYA-",
         "District.Name": "Eixample",
         "Neighborhood.Name": "la Dreta de l'Eixample",
         "_deepnote_index_column": 40
        },
        {
         "Code": "K003",
         "Transport": "RENFE",
         "Longitude": 2.09108,
         "Latitude": 41.331201,
         "Station": "RENFE - EL PRAT DE LLOBREGAT-",
         "District.Name": "nan",
         "Neighborhood.Name": "nan",
         "_deepnote_index_column": 41
        },
        {
         "Code": "K011",
         "Transport": "Tram",
         "Longitude": 2.076889,
         "Latitude": 41.365513,
         "Station": "TRAMVIA (T1,T2) - EL PEDRÒ-",
         "District.Name": "nan",
         "Neighborhood.Name": "nan",
         "_deepnote_index_column": 42
        },
        {
         "Code": "K001",
         "Transport": "Underground",
         "Longitude": 2.127857,
         "Latitude": 41.388357,
         "Station": "METRO (L3) - MARIA CRISTINA (Pl. de la Reina Maria Cristina)-",
         "District.Name": "Les Corts",
         "Neighborhood.Name": "les Corts",
         "_deepnote_index_column": 43
        },
        {
         "Code": "K001",
         "Transport": "Underground",
         "Longitude": 2.163681,
         "Latitude": 41.384514,
         "Station": "METRO (L2) - UNIVERSITAT (Rda. de Sant Antoni)-",
         "District.Name": "Eixample",
         "Neighborhood.Name": "Sant Antoni",
         "_deepnote_index_column": 44
        },
        {
         "Code": "K001",
         "Transport": "Underground",
         "Longitude": 2.106775,
         "Latitude": 41.373558,
         "Station": "METRO (L5) - PUBILLA CASES-",
         "District.Name": "nan",
         "Neighborhood.Name": "nan",
         "_deepnote_index_column": 45
        },
        {
         "Code": "K001",
         "Transport": "Underground",
         "Longitude": 2.155013,
         "Latitude": 41.423558,
         "Station": "METRO (L5) - EL CARMEL (C. de Llobregós - Mercat)-",
         "District.Name": "Horta-Guinardó",
         "Neighborhood.Name": "el Carmel",
         "_deepnote_index_column": 46
        },
        {
         "Code": "K001",
         "Transport": "Underground",
         "Longitude": 2.084164,
         "Latitude": 41.363278,
         "Station": "METRO (L5) - SANT ILDEFONS-",
         "District.Name": "nan",
         "Neighborhood.Name": "nan",
         "_deepnote_index_column": 47
        },
        {
         "Code": "K001",
         "Transport": "Underground",
         "Longitude": 2.072672,
         "Latitude": 41.356107,
         "Station": "METRO (L5) - CORNELLÀ CENTRE-",
         "District.Name": "nan",
         "Neighborhood.Name": "nan",
         "_deepnote_index_column": 48
        },
        {
         "Code": "K001",
         "Transport": "Underground",
         "Longitude": 2.072404,
         "Latitude": 41.356151,
         "Station": "METRO (L5) - CORNELLÀ CENTRE-",
         "District.Name": "nan",
         "Neighborhood.Name": "nan",
         "_deepnote_index_column": 49
        },
        {
         "Code": "K001",
         "Transport": "Underground",
         "Longitude": 2.149504,
         "Latitude": 41.419877,
         "Station": "METRO (L5) - EL COLL / LA TEIXONERA (C. del Beat Almató)-",
         "District.Name": "Gràcia",
         "Neighborhood.Name": "el Coll",
         "_deepnote_index_column": 50
        },
        {
         "Code": "K001",
         "Transport": "Underground",
         "Longitude": 2.176315,
         "Latitude": 41.404257,
         "Station": "METRO (L2) - SAGRADA FAMÍLIA-",
         "District.Name": "Eixample",
         "Neighborhood.Name": "la Sagrada Família",
         "_deepnote_index_column": 51
        },
        {
         "Code": "K001",
         "Transport": "Underground",
         "Longitude": 2.16623,
         "Latitude": 41.412431,
         "Station": "METRO (L4) - ALFONS X (Parc de les Aigües)-",
         "District.Name": "Horta-Guinardó",
         "Neighborhood.Name": "el Baix Guinardó",
         "_deepnote_index_column": 52
        },
        {
         "Code": "K001",
         "Transport": "Underground",
         "Longitude": 2.165088,
         "Latitude": 41.412123,
         "Station": "METRO (L4) - ALFONS X (Pl. d'Alfons el Savi)-",
         "District.Name": "Horta-Guinardó",
         "Neighborhood.Name": "el Baix Guinardó",
         "_deepnote_index_column": 53
        },
        {
         "Code": "K001",
         "Transport": "Underground",
         "Longitude": 2.224024,
         "Latitude": 41.442346,
         "Station": "METRO (L10) - LA SALUT-",
         "District.Name": "nan",
         "Neighborhood.Name": "nan",
         "_deepnote_index_column": 54
        },
        {
         "Code": "K001",
         "Transport": "Underground",
         "Longitude": 2.180022,
         "Latitude": 41.400331,
         "Station": "METRO (L2) - MONUMENTAL (C. de la Diputació)-",
         "District.Name": "Eixample",
         "Neighborhood.Name": "el Fort Pienc",
         "_deepnote_index_column": 55
        },
        {
         "Code": "K001",
         "Transport": "Underground",
         "Longitude": 2.170433,
         "Latitude": 41.375177,
         "Station": "METRO (L3) - PARAL·LEL (C. Nou de la Rambla)-",
         "District.Name": "Ciutat Vella",
         "Neighborhood.Name": "el Raval",
         "_deepnote_index_column": 56
        },
        {
         "Code": "K002",
         "Transport": "Railway (FGC)",
         "Longitude": 2.135427,
         "Latitude": 41.397791,
         "Station": "FGC - BONANOVA-",
         "District.Name": "Sarrià-Sant Gervasi",
         "Neighborhood.Name": "Sant Gervasi - Galvany",
         "_deepnote_index_column": 57
        },
        {
         "Code": "K002",
         "Transport": "Railway (FGC)",
         "Longitude": 2.139248,
         "Latitude": 41.405731,
         "Station": "FGC - EL PUTXET-",
         "District.Name": "Sarrià-Sant Gervasi",
         "Neighborhood.Name": "el Putxet i el Farró",
         "_deepnote_index_column": 58
        },
        {
         "Code": "K011",
         "Transport": "Tram",
         "Longitude": 2.075814,
         "Latitude": 41.372339,
         "Station": "TRAMVIA (T3) - SANT MARTÍ DE L'ERM-",
         "District.Name": "nan",
         "Neighborhood.Name": "nan",
         "_deepnote_index_column": 59
        },
        {
         "Code": "K002",
         "Transport": "Railway (FGC)",
         "Longitude": 2.125112,
         "Latitude": 41.39896,
         "Station": "FGC - SARRIÀ-",
         "District.Name": "Sarrià-Sant Gervasi",
         "Neighborhood.Name": "les Tres Torres",
         "_deepnote_index_column": 60
        },
        {
         "Code": "K001",
         "Transport": "Underground",
         "Longitude": 2.207988,
         "Latitude": 41.451908,
         "Station": "METRO (L1) - SANTA COLOMA-",
         "District.Name": "nan",
         "Neighborhood.Name": "nan",
         "_deepnote_index_column": 61
        },
        {
         "Code": "K001",
         "Transport": "Underground",
         "Longitude": 2.20835,
         "Latitude": 41.451604,
         "Station": "METRO (L1) - SANTA COLOMA-",
         "District.Name": "nan",
         "Neighborhood.Name": "nan",
         "_deepnote_index_column": 62
        },
        {
         "Code": "K001",
         "Transport": "Underground",
         "Longitude": 2.186428,
         "Latitude": 41.39558,
         "Station": "METRO (L1) - MARINA (Av. Meridiana)-",
         "District.Name": "Eixample",
         "Neighborhood.Name": "el Fort Pienc",
         "_deepnote_index_column": 63
        },
        {
         "Code": "K004",
         "Transport": "Airport train",
         "Longitude": 2.189397,
         "Latitude": 41.410259,
         "Station": "Tren AEROPORT - CLOT-",
         "District.Name": "Sant Martí",
         "Neighborhood.Name": "el Clot",
         "_deepnote_index_column": 64
        },
        {
         "Code": "K001",
         "Transport": "Underground",
         "Longitude": 2.217787,
         "Latitude": 41.451728,
         "Station": "METRO (L1) - FONDO-",
         "District.Name": "nan",
         "Neighborhood.Name": "nan",
         "_deepnote_index_column": 65
        },
        {
         "Code": "K001",
         "Transport": "Underground",
         "Longitude": 2.110686,
         "Latitude": 41.351236,
         "Station": "METRO (L1) - BELLVITGE-",
         "District.Name": "nan",
         "Neighborhood.Name": "nan",
         "_deepnote_index_column": 66
        },
        {
         "Code": "K002",
         "Transport": "Railway (FGC)",
         "Longitude": 2.073187,
         "Latitude": 41.444795,
         "Station": "FGC - LA FLORESTA-",
         "District.Name": "nan",
         "Neighborhood.Name": "nan",
         "_deepnote_index_column": 67
        },
        {
         "Code": "K011",
         "Transport": "Tram",
         "Longitude": 2.134953,
         "Latitude": 41.412807,
         "Station": "TRAMVIA BLAU - AV. TIBIDABO (Bosch i Alsina-Josep Mª Florensa)-",
         "District.Name": "Sarrià-Sant Gervasi",
         "Neighborhood.Name": "Sant Gervasi - la Bonanova",
         "_deepnote_index_column": 68
        },
        {
         "Code": "K011",
         "Transport": "Tram",
         "Longitude": 2.075217,
         "Latitude": 41.378842,
         "Station": "TRAMVIA (T3) - RAMBLA DE SANT JUST-",
         "District.Name": "nan",
         "Neighborhood.Name": "nan",
         "_deepnote_index_column": 69
        },
        {
         "Code": "K011",
         "Transport": "Tram",
         "Longitude": 2.22618,
         "Latitude": 41.418903,
         "Station": "TRAMVIA (T4, T6) - PORT FÒRUM-",
         "District.Name": "nan",
         "Neighborhood.Name": "nan",
         "_deepnote_index_column": 70
        }
       ],
       "rows_bottom": [
        {
         "Code": "K001",
         "Transport": "Underground",
         "Longitude": 2.176285,
         "Latitude": 41.376817,
         "Station": "METRO (L3) - DRASSANES-",
         "District.Name": "Ciutat Vella",
         "Neighborhood.Name": "el Raval",
         "_deepnote_index_column": 580
        },
        {
         "Code": "K001",
         "Transport": "Underground",
         "Longitude": 2.175562,
         "Latitude": 41.403847,
         "Station": "METRO (L2) - SAGRADA FAMÍLIA (Pl. de Gaudí)-",
         "District.Name": "Eixample",
         "Neighborhood.Name": "la Sagrada Família",
         "_deepnote_index_column": 581
        },
        {
         "Code": "K001",
         "Transport": "Underground",
         "Longitude": 2.138845,
         "Latitude": 41.375468,
         "Station": "METRO (L1) - PLAÇA DE SANTS (C. de Sants)-",
         "District.Name": "Sants-Montjuïc",
         "Neighborhood.Name": "Sants",
         "_deepnote_index_column": 582
        },
        {
         "Code": "K001",
         "Transport": "Underground",
         "Longitude": 2.100304,
         "Latitude": 41.364232,
         "Station": "METRO (L1) - RAMBLA JUST OLIVERAS-",
         "District.Name": "nan",
         "Neighborhood.Name": "nan",
         "_deepnote_index_column": 583
        },
        {
         "Code": "K001",
         "Transport": "Underground",
         "Longitude": 2.135849,
         "Latitude": 41.375429,
         "Station": "METRO (L5) - PLAÇA DE SANTS (C. de Sants)-",
         "District.Name": "Sants-Montjuïc",
         "Neighborhood.Name": "Sants",
         "_deepnote_index_column": 584
        },
        {
         "Code": "K001",
         "Transport": "Underground",
         "Longitude": 2.175568,
         "Latitude": 41.429214,
         "Station": "METRO (L5) - VIRREI AMAT (C. de Felip II)-",
         "District.Name": "Nou Barris",
         "Neighborhood.Name": "Vilapicina i la Torre Llobeta",
         "_deepnote_index_column": 585
        },
        {
         "Code": "K001",
         "Transport": "Underground",
         "Longitude": 2.15916,
         "Latitude": 41.394887,
         "Station": "METRO (L5) - DIAGONAL-",
         "District.Name": "Eixample",
         "Neighborhood.Name": "la Dreta de l'Eixample",
         "_deepnote_index_column": 586
        },
        {
         "Code": "K001",
         "Transport": "Underground",
         "Longitude": 2.147016,
         "Latitude": 41.401372,
         "Station": "FGC (L6) - SANT GERVASI-",
         "District.Name": "Sarrià-Sant Gervasi",
         "Neighborhood.Name": "Sant Gervasi - Galvany",
         "_deepnote_index_column": 587
        },
        {
         "Code": "K001",
         "Transport": "Underground",
         "Longitude": 2.125112,
         "Latitude": 41.39896,
         "Station": "FGC (L6) - SARRIÀ-",
         "District.Name": "Sarrià-Sant Gervasi",
         "Neighborhood.Name": "les Tres Torres",
         "_deepnote_index_column": 588
        },
        {
         "Code": "K001",
         "Transport": "Underground",
         "Longitude": 2.19855,
         "Latitude": 41.457253,
         "Station": "METRO (L9) - CAN ZAM-",
         "District.Name": "nan",
         "Neighborhood.Name": "nan",
         "_deepnote_index_column": 589
        },
        {
         "Code": "K001",
         "Transport": "Underground",
         "Longitude": 2.169597,
         "Latitude": 41.388111,
         "Station": "METRO (L1) - CATALUNYA (Pg. de Gràcia)-",
         "District.Name": "Eixample",
         "Neighborhood.Name": "la Dreta de l'Eixample",
         "_deepnote_index_column": 590
        },
        {
         "Code": "K011",
         "Transport": "Tram",
         "Longitude": 2.114498,
         "Latitude": 41.384459,
         "Station": "TRAMVIA (T1,T2,T3) - ZONA UNIVERSITÀRIA-",
         "District.Name": "Les Corts",
         "Neighborhood.Name": "la Maternitat i Sant Ramon",
         "_deepnote_index_column": 591
        },
        {
         "Code": "K011",
         "Transport": "Tram",
         "Longitude": 2.067057,
         "Latitude": 41.379733,
         "Station": "TRAMVIA (T3) - WALDEN-",
         "District.Name": "nan",
         "Neighborhood.Name": "nan",
         "_deepnote_index_column": 592
        },
        {
         "Code": "K011",
         "Transport": "Tram",
         "Longitude": 2.222906,
         "Latitude": 41.415244,
         "Station": "TRAMVIA (T4) - CAN LLIMA-",
         "District.Name": "nan",
         "Neighborhood.Name": "nan",
         "_deepnote_index_column": 593
        },
        {
         "Code": "K011",
         "Transport": "Tram",
         "Longitude": 2.19139,
         "Latitude": 41.40443,
         "Station": "TRAMVIA (T4) - CA L'ARANYÓ-",
         "District.Name": "Sant Martí",
         "Neighborhood.Name": "el Parc i la Llacuna del Poblenou",
         "_deepnote_index_column": 594
        },
        {
         "Code": "K009",
         "Transport": "Funicular",
         "Longitude": 2.168493,
         "Latitude": 41.374747,
         "Station": "Funicular MONTJUÏC - inferior-",
         "District.Name": "Sants-Montjuïc",
         "Neighborhood.Name": "el Poble-sec",
         "_deepnote_index_column": 595
        },
        {
         "Code": "K001",
         "Transport": "Underground",
         "Longitude": 2.176252,
         "Latitude": 41.447394,
         "Station": "METRO (L3) - ROQUETES-",
         "District.Name": "Nou Barris",
         "Neighborhood.Name": "les Roquetes",
         "_deepnote_index_column": 596
        },
        {
         "Code": "K001",
         "Transport": "Underground",
         "Longitude": 2.17602,
         "Latitude": 41.446933,
         "Station": "METRO (L3) - ROQUETES (Pla de Fornells)-",
         "District.Name": "Nou Barris",
         "Neighborhood.Name": "les Roquetes",
         "_deepnote_index_column": 597
        },
        {
         "Code": "K001",
         "Transport": "Underground",
         "Longitude": 2.17353,
         "Latitude": 41.380666,
         "Station": "METRO (L3) - LICEU-",
         "District.Name": "Ciutat Vella",
         "Neighborhood.Name": "el Raval",
         "_deepnote_index_column": 598
        },
        {
         "Code": "K001",
         "Transport": "Underground",
         "Longitude": 2.18472,
         "Latitude": 41.4493,
         "Station": "METRO (L3) - TRINITAT NOVA (Parc)-",
         "District.Name": "Nou Barris",
         "Neighborhood.Name": "la Trinitat Nova",
         "_deepnote_index_column": 599
        },
        {
         "Code": "K001",
         "Transport": "Underground",
         "Longitude": 2.197247,
         "Latitude": 41.399257,
         "Station": "METRO (L4) - LLACUNA-",
         "District.Name": "Sant Martí",
         "Neighborhood.Name": "el Poblenou",
         "_deepnote_index_column": 600
        },
        {
         "Code": "K001",
         "Transport": "Underground",
         "Longitude": 2.178458,
         "Latitude": 41.443382,
         "Station": "METRO (L4) - VIA JÚLIA (Via Júlia - Batllori)-",
         "District.Name": "Nou Barris",
         "Neighborhood.Name": "la Prosperitat",
         "_deepnote_index_column": 601
        },
        {
         "Code": "K001",
         "Transport": "Underground",
         "Longitude": 2.178906,
         "Latitude": 41.443928,
         "Station": "METRO (L4) - VIA JÚLIA-",
         "District.Name": "Nou Barris",
         "Neighborhood.Name": "la Prosperitat",
         "_deepnote_index_column": 602
        },
        {
         "Code": "K001",
         "Transport": "Underground",
         "Longitude": 2.166162,
         "Latitude": 41.411775,
         "Station": "METRO (L4) - ALFONS X-",
         "District.Name": "Horta-Guinardó",
         "Neighborhood.Name": "el Baix Guinardó",
         "_deepnote_index_column": 603
        },
        {
         "Code": "K001",
         "Transport": "Underground",
         "Longitude": 2.128135,
         "Latitude": 41.375637,
         "Station": "METRO (L5) - BADAL (C. de Sants)-",
         "District.Name": "Sants-Montjuïc",
         "Neighborhood.Name": "Sants - Badal",
         "_deepnote_index_column": 604
        },
        {
         "Code": "K001",
         "Transport": "Underground",
         "Longitude": 2.147015,
         "Latitude": 41.435432,
         "Station": "METRO (L3) - MUNDET (Llars Mundet - Velòdrom)-",
         "District.Name": "Horta-Guinardó",
         "Neighborhood.Name": "Montbau",
         "_deepnote_index_column": 605
        },
        {
         "Code": "K001",
         "Transport": "Underground",
         "Longitude": 2.120678,
         "Latitude": 41.375948,
         "Station": "METRO (L5) - COLLBLANC-",
         "District.Name": "nan",
         "Neighborhood.Name": "nan",
         "_deepnote_index_column": 606
        },
        {
         "Code": "K003",
         "Transport": "RENFE",
         "Longitude": 2.06998,
         "Latitude": 41.357914,
         "Station": "RENFE - CORNELLÀ-",
         "District.Name": "nan",
         "Neighborhood.Name": "nan",
         "_deepnote_index_column": 607
        },
        {
         "Code": "K003",
         "Transport": "RENFE",
         "Longitude": 2.230523,
         "Latitude": 41.424408,
         "Station": "RENFE - SANT ADRIÀ DEL BESÒS-",
         "District.Name": "nan",
         "Neighborhood.Name": "nan",
         "_deepnote_index_column": 608
        },
        {
         "Code": "K003",
         "Transport": "RENFE",
         "Longitude": 2.115466,
         "Latitude": 41.354367,
         "Station": "RENFE - BELLVITGE-",
         "District.Name": "nan",
         "Neighborhood.Name": "nan",
         "_deepnote_index_column": 609
        },
        {
         "Code": "K011",
         "Transport": "Tram",
         "Longitude": 2.09287,
         "Latitude": 41.376929,
         "Station": "TRAMVIA (T1,T2,T3) - CAN CLOTA-",
         "District.Name": "nan",
         "Neighborhood.Name": "nan",
         "_deepnote_index_column": 610
        },
        {
         "Code": "K011",
         "Transport": "Tram",
         "Longitude": 2.080799,
         "Latitude": 41.369445,
         "Station": "TRAMVIA (T1,T2,T3) - MONTESA-",
         "District.Name": "nan",
         "Neighborhood.Name": "nan",
         "_deepnote_index_column": 611
        },
        {
         "Code": "K011",
         "Transport": "Tram",
         "Longitude": 2.142997,
         "Latitude": 41.392183,
         "Station": "TRAMVIA (T1,T2,T3) - FRANCESC MACIÀ-",
         "District.Name": "Les Corts",
         "Neighborhood.Name": "les Corts",
         "_deepnote_index_column": 612
        },
        {
         "Code": "K011",
         "Transport": "Tram",
         "Longitude": 2.126641,
         "Latitude": 41.388002,
         "Station": "TRAMVIA (T1,T2,T3) - Mª CRISTINA-",
         "District.Name": "Les Corts",
         "Neighborhood.Name": "la Maternitat i Sant Ramon",
         "_deepnote_index_column": 613
        },
        {
         "Code": "K001",
         "Transport": "Underground",
         "Longitude": 2.178343,
         "Latitude": 41.384137,
         "Station": "METRO (L4) - JAUME I (Pl. l'Àngel)-",
         "District.Name": "Ciutat Vella",
         "Neighborhood.Name": "el Barri Gòtic",
         "_deepnote_index_column": 614
        },
        {
         "Code": "K001",
         "Transport": "Underground",
         "Longitude": 2.179204,
         "Latitude": 41.383774,
         "Station": "METRO (L4) - JAUME I (Via Laietana)-",
         "District.Name": "Ciutat Vella",
         "Neighborhood.Name": "Sant Pere, Santa Caterina i la Ribera",
         "_deepnote_index_column": 615
        },
        {
         "Code": "K001",
         "Transport": "Underground",
         "Longitude": 2.179125,
         "Latitude": 41.383984,
         "Station": "METRO (L4) - JAUME I-",
         "District.Name": "Ciutat Vella",
         "Neighborhood.Name": "Sant Pere, Santa Caterina i la Ribera",
         "_deepnote_index_column": 616
        },
        {
         "Code": "K001",
         "Transport": "Underground",
         "Longitude": 2.164802,
         "Latitude": 41.391905,
         "Station": "METRO (L3) - PASSEIG DE GRÀCIA (C. d'Aragó)-",
         "District.Name": "Eixample",
         "Neighborhood.Name": "la Dreta de l'Eixample",
         "_deepnote_index_column": 617
        },
        {
         "Code": "K001",
         "Transport": "Underground",
         "Longitude": 2.173357,
         "Latitude": 41.403512,
         "Station": "METRO (L5) - SAGRADA FAMÍLIA (C. de Provença)-",
         "District.Name": "Eixample",
         "Neighborhood.Name": "la Sagrada Família",
         "_deepnote_index_column": 618
        },
        {
         "Code": "K001",
         "Transport": "Underground",
         "Longitude": 2.158487,
         "Latitude": 41.394451,
         "Station": "METRO (L5) - DIAGONAL (Rambla de Catalunya)-",
         "District.Name": "Eixample",
         "Neighborhood.Name": "la Dreta de l'Eixample",
         "_deepnote_index_column": 619
        },
        {
         "Code": "K001",
         "Transport": "Underground",
         "Longitude": 2.175393,
         "Latitude": 41.410166,
         "Station": "METRO (L5) - SANT PAU-DOS DE MAIG (C. de Cartagena)-",
         "District.Name": "Eixample",
         "Neighborhood.Name": "la Sagrada Família",
         "_deepnote_index_column": 620
        },
        {
         "Code": "K001",
         "Transport": "Underground",
         "Longitude": 2.160499,
         "Latitude": 41.395422,
         "Station": "METRO (L3) - DIAGONAL (Pg. de Gràcia)-",
         "District.Name": "Eixample",
         "Neighborhood.Name": "la Dreta de l'Eixample",
         "_deepnote_index_column": 621
        },
        {
         "Code": "K001",
         "Transport": "Underground",
         "Longitude": 2.186242,
         "Latitude": 41.42096,
         "Station": "METRO (L9, L10) - LA SAGRERA-",
         "District.Name": "Sant Andreu",
         "Neighborhood.Name": "la Sagrera",
         "_deepnote_index_column": 622
        },
        {
         "Code": "K001",
         "Transport": "Underground",
         "Longitude": 2.155126,
         "Latitude": 41.424597,
         "Station": "METRO (L5) - EL CARMEL-",
         "District.Name": "Horta-Guinardó",
         "Neighborhood.Name": "el Carmel",
         "_deepnote_index_column": 623
        },
        {
         "Code": "K001",
         "Transport": "Underground",
         "Longitude": 2.182557,
         "Latitude": 41.407338,
         "Station": "METRO (L2) - ENCANTS-",
         "District.Name": "Sant Martí",
         "Neighborhood.Name": "el Camp de l'Arpa del Clot",
         "_deepnote_index_column": 624
        },
        {
         "Code": "K001",
         "Transport": "Underground",
         "Longitude": 2.117108,
         "Latitude": 41.368594,
         "Station": "METRO (L1) - TORRASSA-",
         "District.Name": "nan",
         "Neighborhood.Name": "nan",
         "_deepnote_index_column": 625
        },
        {
         "Code": "K001",
         "Transport": "Underground",
         "Longitude": 2.175019,
         "Latitude": 41.390021,
         "Station": "METRO (L1) - URQUINAONA (C. Bruc)-",
         "District.Name": "Eixample",
         "Neighborhood.Name": "la Dreta de l'Eixample",
         "_deepnote_index_column": 626
        },
        {
         "Code": "K001",
         "Transport": "Underground",
         "Longitude": 2.103931,
         "Latitude": 41.368184,
         "Station": "METRO (L1) - CAN SERRA-",
         "District.Name": "nan",
         "Neighborhood.Name": "nan",
         "_deepnote_index_column": 627
        },
        {
         "Code": "K001",
         "Transport": "Underground",
         "Longitude": 2.199663,
         "Latitude": 41.449896,
         "Station": "METRO (L1) - BARÓ DE VIVER-",
         "District.Name": "Sant Andreu",
         "Neighborhood.Name": "la Trinitat Vella",
         "_deepnote_index_column": 628
        },
        {
         "Code": "K001",
         "Transport": "Underground",
         "Longitude": 2.158936,
         "Latitude": 41.37487,
         "Station": "METRO (L3) - POBLE SEC (Av. del Paral.lel)-",
         "District.Name": "Sants-Montjuïc",
         "Neighborhood.Name": "el Poble-sec",
         "_deepnote_index_column": 629
        },
        {
         "Code": "K001",
         "Transport": "Underground",
         "Longitude": 2.136549,
         "Latitude": 41.382673,
         "Station": "METRO (L3) - PLAÇA DEL CENTRE-",
         "District.Name": "Les Corts",
         "Neighborhood.Name": "les Corts",
         "_deepnote_index_column": 630
        },
        {
         "Code": "K001",
         "Transport": "Underground",
         "Longitude": 2.140979,
         "Latitude": 41.417205,
         "Station": "METRO (L3) - PENITENTS (C. d'Anna Piferrer)-",
         "District.Name": "Gràcia",
         "Neighborhood.Name": "Vallcarca i els Penitents",
         "_deepnote_index_column": 631
        },
        {
         "Code": "K002",
         "Transport": "Railway (FGC)",
         "Longitude": 2.034689,
         "Latitude": 41.357711,
         "Station": "FGC - MOLÍ NOU-CIUTAT COOPERATIVA-",
         "District.Name": "nan",
         "Neighborhood.Name": "nan",
         "_deepnote_index_column": 632
        },
        {
         "Code": "K002",
         "Transport": "Railway (FGC)",
         "Longitude": 2.068427,
         "Latitude": 41.351845,
         "Station": "FGC - CORNELLÀ-RIERA-",
         "District.Name": "nan",
         "Neighborhood.Name": "nan",
         "_deepnote_index_column": 633
        },
        {
         "Code": "K002",
         "Transport": "Railway (FGC)",
         "Longitude": 2.012394,
         "Latitude": 41.388104,
         "Station": "FGC - SANT VICENÇ DELS HORTS-",
         "District.Name": "nan",
         "Neighborhood.Name": "nan",
         "_deepnote_index_column": 634
        },
        {
         "Code": "K011",
         "Transport": "Tram",
         "Longitude": 2.069961,
         "Latitude": 41.36843,
         "Station": "TRAMVIA (T2) - CENTRE MIQUEL MARTÍ I POL-",
         "District.Name": "nan",
         "Neighborhood.Name": "nan",
         "_deepnote_index_column": 635
        },
        {
         "Code": "K001",
         "Transport": "Underground",
         "Longitude": 2.158998,
         "Latitude": 41.382457,
         "Station": "METRO (L1) - URGELL-",
         "District.Name": "Eixample",
         "Neighborhood.Name": "Sant Antoni",
         "_deepnote_index_column": 636
        },
        {
         "Code": "K001",
         "Transport": "Underground",
         "Longitude": 2.187227,
         "Latitude": 41.421981,
         "Station": "METRO (L1) - LA SAGRERA (Av. Meridiana)-",
         "District.Name": "Sant Andreu",
         "Neighborhood.Name": "la Sagrera",
         "_deepnote_index_column": 637
        },
        {
         "Code": "K001",
         "Transport": "Underground",
         "Longitude": 2.106409,
         "Latitude": 41.34472,
         "Station": "METRO (L1) - HOSPITAL DE BELLVITGE-",
         "District.Name": "nan",
         "Neighborhood.Name": "nan",
         "_deepnote_index_column": 638
        },
        {
         "Code": "K001",
         "Transport": "Underground",
         "Longitude": 2.128698,
         "Latitude": 41.368443,
         "Station": "METRO (L1) - SANTA EULÀLIA-",
         "District.Name": "nan",
         "Neighborhood.Name": "nan",
         "_deepnote_index_column": 639
        },
        {
         "Code": "K001",
         "Transport": "Underground",
         "Longitude": 2.134031,
         "Latitude": 41.373543,
         "Station": "METRO (L1) - MERCAT NOU-",
         "District.Name": "Sants-Montjuïc",
         "Neighborhood.Name": "Sants",
         "_deepnote_index_column": 640
        },
        {
         "Code": "K004",
         "Transport": "Airport train",
         "Longitude": 2.193312,
         "Latitude": 41.435959,
         "Station": "Tren AEROPORT - SANT ANDREU COMTAL-",
         "District.Name": "Sant Andreu",
         "Neighborhood.Name": "Sant Andreu",
         "_deepnote_index_column": 641
        },
        {
         "Code": "K001",
         "Transport": "Underground",
         "Longitude": 2.157956,
         "Latitude": 41.392909,
         "Station": "FGC (L6,L7) - PROVENÇA-",
         "District.Name": "Eixample",
         "Neighborhood.Name": "l'Antiga Esquerra de l'Eixample",
         "_deepnote_index_column": 642
        },
        {
         "Code": "K001",
         "Transport": "Underground",
         "Longitude": 2.187148,
         "Latitude": 41.409242,
         "Station": "METRO (L1) - CLOT (C. Aragó)-",
         "District.Name": "Sant Martí",
         "Neighborhood.Name": "el Clot",
         "_deepnote_index_column": 643
        },
        {
         "Code": "K001",
         "Transport": "Underground",
         "Longitude": 2.133647,
         "Latitude": 41.372953,
         "Station": "METRO (L1) - MERCAT NOU (C. de la Riera de Tena)-",
         "District.Name": "Sants-Montjuïc",
         "Neighborhood.Name": "Sants",
         "_deepnote_index_column": 644
        },
        {
         "Code": "K001",
         "Transport": "Underground",
         "Longitude": 2.154913,
         "Latitude": 41.379656,
         "Station": "METRO (L1) - ROCAFORT (Gv. Corts Catalanes)-",
         "District.Name": "Eixample",
         "Neighborhood.Name": "la Nova Esquerra de l'Eixample",
         "_deepnote_index_column": 645
        },
        {
         "Code": "K002",
         "Transport": "Railway (FGC)",
         "Longitude": 2.118998,
         "Latitude": 41.398967,
         "Station": "FGC - REINA ELISENDA-",
         "District.Name": "Sarrià-Sant Gervasi",
         "Neighborhood.Name": "Sarrià",
         "_deepnote_index_column": 646
        },
        {
         "Code": "K008",
         "Transport": "Maritime station",
         "Longitude": 2.175248,
         "Latitude": 41.352808,
         "Station": "Terminal Marítima E *Creuers",
         "District.Name": "Sants-Montjuïc",
         "Neighborhood.Name": "la Marina del Prat Vermell",
         "_deepnote_index_column": 647
        },
        {
         "Code": "K008",
         "Transport": "Maritime station",
         "Longitude": 2.174767,
         "Latitude": 41.350955,
         "Station": "Terminal Marítima D *Creuers",
         "District.Name": "Sants-Montjuïc",
         "Neighborhood.Name": "la Marina del Prat Vermell",
         "_deepnote_index_column": 648
        },
        {
         "Code": "K002",
         "Transport": "Railway (FGC)",
         "Longitude": 2.131188,
         "Latitude": 41.397617,
         "Station": "FGC - LES TRES TORRES<center>-",
         "District.Name": "Sarrià-Sant Gervasi",
         "Neighborhood.Name": "les Tres Torres",
         "_deepnote_index_column": 649
        },
        {
         "Code": "K001",
         "Transport": "Underground",
         "Longitude": 2.158822,
         "Latitude": 41.37522,
         "Station": "METRO (L3) - POBLE SEC (C. de Manso)-",
         "District.Name": "Eixample",
         "Neighborhood.Name": "Sant Antoni",
         "_deepnote_index_column": 650
        }
       ]
      },
      "text/plain": "     Code         Transport  Longitude   Latitude  \\\n0    K001       Underground   2.119370  41.399203   \n1    K001       Underground   2.135427  41.397791   \n2    K001       Underground   2.185391  41.451492   \n3    K001       Underground   2.174473  41.460889   \n4    K001       Underground   2.168588  41.387200   \n..    ...               ...        ...        ...   \n646  K002     Railway (FGC)   2.118998  41.398967   \n647  K008  Maritime station   2.175248  41.352808   \n648  K008  Maritime station   2.174767  41.350955   \n649  K002     Railway (FGC)   2.131188  41.397617   \n650  K001       Underground   2.158822  41.375220   \n\n                                               Station        District.Name  \\\n0    FGC (L6) - REINA ELISENDA (Sortida Duquesa d'O...  Sarrià-Sant Gervasi   \n1                              FGC (L6) - LA BONANOVA-  Sarrià-Sant Gervasi   \n2        METRO (L11) - CASA DE L'AIGUA (C. Vila-Real)-           Nou Barris   \n3      METRO (L11) - CIUTAT MERIDIANA (C. Pedraforca)-           Nou Barris   \n4           METRO (L1) - CATALUNYA (Rda. Universitat)-             Eixample   \n..                                                 ...                  ...   \n646                              FGC - REINA ELISENDA-  Sarrià-Sant Gervasi   \n647                       Terminal Marítima E *Creuers       Sants-Montjuïc   \n648                       Terminal Marítima D *Creuers       Sants-Montjuïc   \n649                     FGC - LES TRES TORRES<center>-  Sarrià-Sant Gervasi   \n650              METRO (L3) - POBLE SEC (C. de Manso)-             Eixample   \n\n              Neighborhood.Name  \n0                        Sarrià  \n1        Sant Gervasi - Galvany  \n2              la Trinitat Nova  \n3              Ciutat Meridiana  \n4        la Dreta de l'Eixample  \n..                          ...  \n646                      Sarrià  \n647  la Marina del Prat Vermell  \n648  la Marina del Prat Vermell  \n649             les Tres Torres  \n650                 Sant Antoni  \n\n[651 rows x 7 columns]",
      "text/html": "<div>\n<style scoped>\n    .dataframe tbody tr th:only-of-type {\n        vertical-align: middle;\n    }\n\n    .dataframe tbody tr th {\n        vertical-align: top;\n    }\n\n    .dataframe thead th {\n        text-align: right;\n    }\n</style>\n<table border=\"1\" class=\"dataframe\">\n  <thead>\n    <tr style=\"text-align: right;\">\n      <th></th>\n      <th>Code</th>\n      <th>Transport</th>\n      <th>Longitude</th>\n      <th>Latitude</th>\n      <th>Station</th>\n      <th>District.Name</th>\n      <th>Neighborhood.Name</th>\n    </tr>\n  </thead>\n  <tbody>\n    <tr>\n      <th>0</th>\n      <td>K001</td>\n      <td>Underground</td>\n      <td>2.119370</td>\n      <td>41.399203</td>\n      <td>FGC (L6) - REINA ELISENDA (Sortida Duquesa d'O...</td>\n      <td>Sarrià-Sant Gervasi</td>\n      <td>Sarrià</td>\n    </tr>\n    <tr>\n      <th>1</th>\n      <td>K001</td>\n      <td>Underground</td>\n      <td>2.135427</td>\n      <td>41.397791</td>\n      <td>FGC (L6) - LA BONANOVA-</td>\n      <td>Sarrià-Sant Gervasi</td>\n      <td>Sant Gervasi - Galvany</td>\n    </tr>\n    <tr>\n      <th>2</th>\n      <td>K001</td>\n      <td>Underground</td>\n      <td>2.185391</td>\n      <td>41.451492</td>\n      <td>METRO (L11) - CASA DE L'AIGUA (C. Vila-Real)-</td>\n      <td>Nou Barris</td>\n      <td>la Trinitat Nova</td>\n    </tr>\n    <tr>\n      <th>3</th>\n      <td>K001</td>\n      <td>Underground</td>\n      <td>2.174473</td>\n      <td>41.460889</td>\n      <td>METRO (L11) - CIUTAT MERIDIANA (C. Pedraforca)-</td>\n      <td>Nou Barris</td>\n      <td>Ciutat Meridiana</td>\n    </tr>\n    <tr>\n      <th>4</th>\n      <td>K001</td>\n      <td>Underground</td>\n      <td>2.168588</td>\n      <td>41.387200</td>\n      <td>METRO (L1) - CATALUNYA (Rda. Universitat)-</td>\n      <td>Eixample</td>\n      <td>la Dreta de l'Eixample</td>\n    </tr>\n    <tr>\n      <th>...</th>\n      <td>...</td>\n      <td>...</td>\n      <td>...</td>\n      <td>...</td>\n      <td>...</td>\n      <td>...</td>\n      <td>...</td>\n    </tr>\n    <tr>\n      <th>646</th>\n      <td>K002</td>\n      <td>Railway (FGC)</td>\n      <td>2.118998</td>\n      <td>41.398967</td>\n      <td>FGC - REINA ELISENDA-</td>\n      <td>Sarrià-Sant Gervasi</td>\n      <td>Sarrià</td>\n    </tr>\n    <tr>\n      <th>647</th>\n      <td>K008</td>\n      <td>Maritime station</td>\n      <td>2.175248</td>\n      <td>41.352808</td>\n      <td>Terminal Marítima E *Creuers</td>\n      <td>Sants-Montjuïc</td>\n      <td>la Marina del Prat Vermell</td>\n    </tr>\n    <tr>\n      <th>648</th>\n      <td>K008</td>\n      <td>Maritime station</td>\n      <td>2.174767</td>\n      <td>41.350955</td>\n      <td>Terminal Marítima D *Creuers</td>\n      <td>Sants-Montjuïc</td>\n      <td>la Marina del Prat Vermell</td>\n    </tr>\n    <tr>\n      <th>649</th>\n      <td>K002</td>\n      <td>Railway (FGC)</td>\n      <td>2.131188</td>\n      <td>41.397617</td>\n      <td>FGC - LES TRES TORRES&lt;center&gt;-</td>\n      <td>Sarrià-Sant Gervasi</td>\n      <td>les Tres Torres</td>\n    </tr>\n    <tr>\n      <th>650</th>\n      <td>K001</td>\n      <td>Underground</td>\n      <td>2.158822</td>\n      <td>41.375220</td>\n      <td>METRO (L3) - POBLE SEC (C. de Manso)-</td>\n      <td>Eixample</td>\n      <td>Sant Antoni</td>\n    </tr>\n  </tbody>\n</table>\n<p>651 rows × 7 columns</p>\n</div>"
     },
     "metadata": {}
    }
   ]
  },
  {
   "cell_type": "markdown",
   "source": "----------",
   "metadata": {
    "tags": [],
    "cell_id": "00013-bc21d7ea-9735-4898-ba5f-7d0026a18dde",
    "deepnote_cell_type": "markdown"
   }
  },
  {
   "cell_type": "markdown",
   "source": "## Merged Data",
   "metadata": {
    "tags": [],
    "cell_id": "00014-82bc0629-e7d3-4839-a41f-b2bccf4c04db",
    "deepnote_cell_type": "markdown"
   }
  },
  {
   "cell_type": "code",
   "source": "public_transport_bus_merged = public_transport.merge(bus_stops, how='outer')\npublic_transport_bus_merged",
   "metadata": {
    "tags": [],
    "cell_id": "00004-2d67d77e-31f7-446b-baa4-520b53de91cf",
    "deepnote_to_be_reexecuted": false,
    "source_hash": "6742ef46",
    "execution_start": 1623401037310,
    "execution_millis": 109,
    "deepnote_cell_type": "code"
   },
   "outputs": [
    {
     "output_type": "execute_result",
     "execution_count": 18,
     "data": {
      "application/vnd.deepnote.dataframe.v2+json": {
       "row_count": 3813,
       "column_count": 8,
       "columns": [
        {
         "name": "Code",
         "dtype": "object",
         "stats": {
          "unique_count": 12,
          "nan_count": 0,
          "categories": [
           {
            "name": "K014",
            "count": 2324
           },
           {
            "name": "K015",
            "count": 828
           },
           {
            "name": "10 others",
            "count": 661
           }
          ]
         }
        },
        {
         "name": "Transport",
         "dtype": "object",
         "stats": {
          "unique_count": 12,
          "nan_count": 0,
          "categories": [
           {
            "name": "Day bus stop",
            "count": 2324
           },
           {
            "name": "Night bus stop",
            "count": 828
           },
           {
            "name": "10 others",
            "count": 661
           }
          ]
         }
        },
        {
         "name": "Longitude",
         "dtype": "float64",
         "stats": {
          "unique_count": 2944,
          "nan_count": 0,
          "min": "2.00528",
          "max": "2.249093",
          "histogram": [
           {
            "bin_start": 2.00528,
            "bin_end": 2.0296613,
            "count": 4
           },
           {
            "bin_start": 2.0296613,
            "bin_end": 2.0540426,
            "count": 7
           },
           {
            "bin_start": 2.0540426,
            "bin_end": 2.0784238999999998,
            "count": 24
           },
           {
            "bin_start": 2.0784238999999998,
            "bin_end": 2.1028051999999997,
            "count": 119
           },
           {
            "bin_start": 2.1028051999999997,
            "bin_end": 2.1271864999999996,
            "count": 362
           },
           {
            "bin_start": 2.1271864999999996,
            "bin_end": 2.1515678,
            "count": 970
           },
           {
            "bin_start": 2.1515678,
            "bin_end": 2.1759491,
            "count": 1128
           },
           {
            "bin_start": 2.1759491,
            "bin_end": 2.2003304,
            "count": 899
           },
           {
            "bin_start": 2.2003304,
            "bin_end": 2.2247117,
            "count": 281
           },
           {
            "bin_start": 2.2247117,
            "bin_end": 2.249093,
            "count": 19
           }
          ]
         }
        },
        {
         "name": "Latitude",
         "dtype": "float64",
         "stats": {
          "unique_count": 2925,
          "nan_count": 0,
          "min": "41.304419",
          "max": "41.496321",
          "histogram": [
           {
            "bin_start": 41.304419,
            "bin_end": 41.3236092,
            "count": 12
           },
           {
            "bin_start": 41.3236092,
            "bin_end": 41.342799400000004,
            "count": 70
           },
           {
            "bin_start": 41.342799400000004,
            "bin_end": 41.3619896,
            "count": 137
           },
           {
            "bin_start": 41.3619896,
            "bin_end": 41.381179800000005,
            "count": 556
           },
           {
            "bin_start": 41.381179800000005,
            "bin_end": 41.40037,
            "count": 950
           },
           {
            "bin_start": 41.40037,
            "bin_end": 41.4195602,
            "count": 962
           },
           {
            "bin_start": 41.4195602,
            "bin_end": 41.4387504,
            "count": 707
           },
           {
            "bin_start": 41.4387504,
            "bin_end": 41.4579406,
            "count": 318
           },
           {
            "bin_start": 41.4579406,
            "bin_end": 41.477130800000005,
            "count": 96
           },
           {
            "bin_start": 41.477130800000005,
            "bin_end": 41.496321,
            "count": 5
           }
          ]
         }
        },
        {
         "name": "Station",
         "dtype": "object",
         "stats": {
          "unique_count": 540,
          "nan_count": 3162,
          "categories": [
           {
            "name": "METRO (L1) - BELLVITGE-",
            "count": 5
           },
           {
            "name": "539 others",
            "count": 646
           },
           {
            "name": "Missing",
            "count": 3162
           }
          ]
         }
        },
        {
         "name": "District.Name",
         "dtype": "object",
         "stats": {
          "unique_count": 10,
          "nan_count": 180,
          "categories": [
           {
            "name": "Eixample",
            "count": 525
           },
           {
            "name": "9 others",
            "count": 3108
           },
           {
            "name": "Missing",
            "count": 180
           }
          ]
         }
        },
        {
         "name": "Neighborhood.Name",
         "dtype": "object",
         "stats": {
          "unique_count": 73,
          "nan_count": 180,
          "categories": [
           {
            "name": "la Dreta de l'Eixample",
            "count": 198
           },
           {
            "name": "72 others",
            "count": 3435
           },
           {
            "name": "Missing",
            "count": 180
           }
          ]
         }
        },
        {
         "name": "Bus.Stop",
         "dtype": "object",
         "stats": {
          "unique_count": 711,
          "nan_count": 651,
          "categories": [
           {
            "name": "NITBUS -N4--",
            "count": 81
           },
           {
            "name": "710 others",
            "count": 3081
           },
           {
            "name": "Missing",
            "count": 651
           }
          ]
         }
        },
        {
         "name": "_deepnote_index_column",
         "dtype": "int64"
        }
       ],
       "rows_top": [
        {
         "Code": "K001",
         "Transport": "Underground",
         "Longitude": 2.11937,
         "Latitude": 41.399203,
         "Station": "FGC (L6) - REINA ELISENDA (Sortida Duquesa d'Orleans)-",
         "District.Name": "Sarrià-Sant Gervasi",
         "Neighborhood.Name": "Sarrià",
         "Bus.Stop": "nan",
         "_deepnote_index_column": 0
        },
        {
         "Code": "K001",
         "Transport": "Underground",
         "Longitude": 2.135427,
         "Latitude": 41.397791,
         "Station": "FGC (L6) - LA BONANOVA-",
         "District.Name": "Sarrià-Sant Gervasi",
         "Neighborhood.Name": "Sant Gervasi - Galvany",
         "Bus.Stop": "nan",
         "_deepnote_index_column": 1
        },
        {
         "Code": "K001",
         "Transport": "Underground",
         "Longitude": 2.185391,
         "Latitude": 41.451492,
         "Station": "METRO (L11) - CASA DE L'AIGUA (C. Vila-Real)-",
         "District.Name": "Nou Barris",
         "Neighborhood.Name": "la Trinitat Nova",
         "Bus.Stop": "nan",
         "_deepnote_index_column": 2
        },
        {
         "Code": "K001",
         "Transport": "Underground",
         "Longitude": 2.174473,
         "Latitude": 41.460889,
         "Station": "METRO (L11) - CIUTAT MERIDIANA (C. Pedraforca)-",
         "District.Name": "Nou Barris",
         "Neighborhood.Name": "Ciutat Meridiana",
         "Bus.Stop": "nan",
         "_deepnote_index_column": 3
        },
        {
         "Code": "K001",
         "Transport": "Underground",
         "Longitude": 2.168588,
         "Latitude": 41.3872,
         "Station": "METRO (L1) - CATALUNYA (Rda. Universitat)-",
         "District.Name": "Eixample",
         "Neighborhood.Name": "la Dreta de l'Eixample",
         "Bus.Stop": "nan",
         "_deepnote_index_column": 4
        },
        {
         "Code": "K001",
         "Transport": "Underground",
         "Longitude": 2.168507,
         "Latitude": 41.387706,
         "Station": "METRO (L1) - CATALUNYA (Rambla de Catalunya)-",
         "District.Name": "Eixample",
         "Neighborhood.Name": "la Dreta de l'Eixample",
         "Bus.Stop": "nan",
         "_deepnote_index_column": 5
        },
        {
         "Code": "K001",
         "Transport": "Underground",
         "Longitude": 2.118998,
         "Latitude": 41.398967,
         "Station": "FGC (L6) - REINA ELISENDA-",
         "District.Name": "Sarrià-Sant Gervasi",
         "Neighborhood.Name": "Sarrià",
         "Bus.Stop": "nan",
         "_deepnote_index_column": 6
        },
        {
         "Code": "K001",
         "Transport": "Underground",
         "Longitude": 2.083994,
         "Latitude": 41.362753,
         "Station": "METRO (L5) - SANT ILDEFONS-",
         "District.Name": "nan",
         "Neighborhood.Name": "nan",
         "Bus.Stop": "nan",
         "_deepnote_index_column": 7
        },
        {
         "Code": "K001",
         "Transport": "Underground",
         "Longitude": 2.142987,
         "Latitude": 41.424923,
         "Station": "METRO (L3, L5) - VALL D'HEBRON (C. de les Basses d'Horta)-",
         "District.Name": "Horta-Guinardó",
         "Neighborhood.Name": "la Vall d'Hebron",
         "Bus.Stop": "nan",
         "_deepnote_index_column": 8
        },
        {
         "Code": "K002",
         "Transport": "Railway (FGC)",
         "Longitude": 2.158326,
         "Latitude": 41.392331,
         "Station": "FGC - PROVENÇA (C. de Provença)-",
         "District.Name": "Eixample",
         "Neighborhood.Name": "l'Antiga Esquerra de l'Eixample",
         "Bus.Stop": "nan",
         "_deepnote_index_column": 9
        },
        {
         "Code": "K001",
         "Transport": "Underground",
         "Longitude": 2.100302,
         "Latitude": 41.362977,
         "Station": "METRO (L1) - RAMBLA JUST OLIVERAS-",
         "District.Name": "nan",
         "Neighborhood.Name": "nan",
         "Bus.Stop": "nan",
         "_deepnote_index_column": 10
        },
        {
         "Code": "K001",
         "Transport": "Underground",
         "Longitude": 2.179581,
         "Latitude": 41.40018,
         "Station": "METRO (L2) - MONUMENTAL (C. de la Marina)-",
         "District.Name": "Eixample",
         "Neighborhood.Name": "el Fort Pienc",
         "Bus.Stop": "nan",
         "_deepnote_index_column": 11
        },
        {
         "Code": "K001",
         "Transport": "Underground",
         "Longitude": 2.153966,
         "Latitude": 41.37907,
         "Station": "METRO (L1) - ROCAFORT (C. de Rocafort)-",
         "District.Name": "Eixample",
         "Neighborhood.Name": "la Nova Esquerra de l'Eixample",
         "Bus.Stop": "nan",
         "_deepnote_index_column": 12
        },
        {
         "Code": "K001",
         "Transport": "Underground",
         "Longitude": 2.168735,
         "Latitude": 41.389295,
         "Station": "METRO (L2) - PASSEIG DE GRÀCIA (Pg. de Gràcia)-",
         "District.Name": "Eixample",
         "Neighborhood.Name": "la Dreta de l'Eixample",
         "Bus.Stop": "nan",
         "_deepnote_index_column": 13
        },
        {
         "Code": "K001",
         "Transport": "Underground",
         "Longitude": 2.161228,
         "Latitude": 41.430042,
         "Station": "METRO (L5) - HORTA (Pl. d'Eivissa)-",
         "District.Name": "Horta-Guinardó",
         "Neighborhood.Name": "Horta",
         "Bus.Stop": "nan",
         "_deepnote_index_column": 14
        },
        {
         "Code": "K011",
         "Transport": "Tram",
         "Longitude": 2.098896,
         "Latitude": 41.376486,
         "Station": "TRAMVIA (T1,T2,T3) - CA N'OLIVERES-",
         "District.Name": "nan",
         "Neighborhood.Name": "nan",
         "Bus.Stop": "nan",
         "_deepnote_index_column": 15
        },
        {
         "Code": "K001",
         "Transport": "Underground",
         "Longitude": 2.13319,
         "Latitude": 41.373293,
         "Station": "METRO (L1) - MERCAT NOU (C. d'Antoni de Capmany)-",
         "District.Name": "Sants-Montjuïc",
         "Neighborhood.Name": "Sants",
         "Bus.Stop": "nan",
         "_deepnote_index_column": 16
        },
        {
         "Code": "K001",
         "Transport": "Underground",
         "Longitude": 2.145478,
         "Latitude": 41.378565,
         "Station": "METRO (L3) - TARRAGONA-",
         "District.Name": "Eixample",
         "Neighborhood.Name": "la Nova Esquerra de l'Eixample",
         "Bus.Stop": "nan",
         "_deepnote_index_column": 17
        },
        {
         "Code": "K001",
         "Transport": "Underground",
         "Longitude": 2.147798,
         "Latitude": 41.434855,
         "Station": "METRO (L3) - MUNDET (Can Marcet)-",
         "District.Name": "Horta-Guinardó",
         "Neighborhood.Name": "la Vall d'Hebron",
         "Bus.Stop": "nan",
         "_deepnote_index_column": 18
        },
        {
         "Code": "K001",
         "Transport": "Underground",
         "Longitude": 2.148557,
         "Latitude": 41.435325,
         "Station": "METRO (L3) - MUNDET (Can Marcet)-",
         "District.Name": "Horta-Guinardó",
         "Neighborhood.Name": "la Vall d'Hebron",
         "Bus.Stop": "nan",
         "_deepnote_index_column": 19
        },
        {
         "Code": "K001",
         "Transport": "Underground",
         "Longitude": 2.215909,
         "Latitude": 41.41174,
         "Station": "METRO (L4) - EL MARESME-FÒRUM (C. del Maresme)-",
         "District.Name": "Sant Martí",
         "Neighborhood.Name": "el Besòs i el Maresme",
         "Bus.Stop": "nan",
         "_deepnote_index_column": 20
        },
        {
         "Code": "K001",
         "Transport": "Underground",
         "Longitude": 2.163252,
         "Latitude": 41.385015,
         "Station": "METRO (L2) - UNIVERSITAT-",
         "District.Name": "Eixample",
         "Neighborhood.Name": "Sant Antoni",
         "Bus.Stop": "nan",
         "_deepnote_index_column": 21
        },
        {
         "Code": "K011",
         "Transport": "Tram",
         "Longitude": 2.197653,
         "Latitude": 41.411242,
         "Station": "TRAMVIA (T5, T6) - ESPRONCEDA-",
         "District.Name": "Sant Martí",
         "Neighborhood.Name": "Provençals del Poblenou",
         "Bus.Stop": "nan",
         "_deepnote_index_column": 22
        },
        {
         "Code": "K011",
         "Transport": "Tram",
         "Longitude": 2.115012,
         "Latitude": 41.38048,
         "Station": "TRAMVIA (T1,T2,T3) - AVINGUDA DE XILE-",
         "District.Name": "Les Corts",
         "Neighborhood.Name": "la Maternitat i Sant Ramon",
         "Bus.Stop": "nan",
         "_deepnote_index_column": 23
        },
        {
         "Code": "K011",
         "Transport": "Tram",
         "Longitude": 2.106023,
         "Latitude": 41.376071,
         "Station": "TRAMVIA (T1,T2,T3) - CAN RIGAL-",
         "District.Name": "nan",
         "Neighborhood.Name": "nan",
         "Bus.Stop": "nan",
         "_deepnote_index_column": 24
        },
        {
         "Code": "K011",
         "Transport": "Tram",
         "Longitude": 2.222916,
         "Latitude": 41.430456,
         "Station": "TRAMVIA (T5) - ENCANTS DE SANT ADRIÀ-",
         "District.Name": "nan",
         "Neighborhood.Name": "nan",
         "Bus.Stop": "nan",
         "_deepnote_index_column": 25
        },
        {
         "Code": "K011",
         "Transport": "Tram",
         "Longitude": 2.219829,
         "Latitude": 41.411777,
         "Station": "TRAMVIA (T4) - FÒRUM-",
         "District.Name": "Sant Martí",
         "Neighborhood.Name": "el Besòs i el Maresme",
         "Bus.Stop": "nan",
         "_deepnote_index_column": 26
        },
        {
         "Code": "K011",
         "Transport": "Tram",
         "Longitude": 2.230412,
         "Latitude": 41.423854,
         "Station": "TRAMVIA (T4, T6) - ESTACIÓ DE SANT ADRIÀ-",
         "District.Name": "nan",
         "Neighborhood.Name": "nan",
         "Bus.Stop": "nan",
         "_deepnote_index_column": 27
        },
        {
         "Code": "K011",
         "Transport": "Tram",
         "Longitude": 2.062227,
         "Latitude": 41.360383,
         "Station": "TRAMVIA (T1,T2) - FONTSANTA-FATJÓ-",
         "District.Name": "nan",
         "Neighborhood.Name": "nan",
         "Bus.Stop": "nan",
         "_deepnote_index_column": 28
        },
        {
         "Code": "K008",
         "Transport": "Maritime station",
         "Longitude": 2.182868,
         "Latitude": 41.370929,
         "Station": "Estació Marítima INTERNACIONAL-",
         "District.Name": "nan",
         "Neighborhood.Name": "nan",
         "Bus.Stop": "nan",
         "_deepnote_index_column": 29
        },
        {
         "Code": "K001",
         "Transport": "Underground",
         "Longitude": 2.125369,
         "Latitude": 41.357005,
         "Station": "FGC (L8) - EUROPA / FIRA-",
         "District.Name": "nan",
         "Neighborhood.Name": "nan",
         "Bus.Stop": "nan",
         "_deepnote_index_column": 30
        },
        {
         "Code": "K001",
         "Transport": "Underground",
         "Longitude": 2.178826,
         "Latitude": 41.444145,
         "Station": "METRO (L4) - VIA JÚLIA (Via Júlia - Joaquim Valls)-",
         "District.Name": "Nou Barris",
         "Neighborhood.Name": "la Prosperitat",
         "Bus.Stop": "nan",
         "_deepnote_index_column": 31
        },
        {
         "Code": "K001",
         "Transport": "Underground",
         "Longitude": 2.141603,
         "Latitude": 41.380858,
         "Station": "METRO (L3) - SANTS ESTACIÓ (C. de Numància)-",
         "District.Name": "Sants-Montjuïc",
         "Neighborhood.Name": "Sants",
         "Bus.Stop": "nan",
         "_deepnote_index_column": 32
        },
        {
         "Code": "K001",
         "Transport": "Underground",
         "Longitude": 2.171334,
         "Latitude": 41.394796,
         "Station": "METRO (L4) - GIRONA (C. de Girona)-",
         "District.Name": "Eixample",
         "Neighborhood.Name": "la Dreta de l'Eixample",
         "Bus.Stop": "nan",
         "_deepnote_index_column": 33
        },
        {
         "Code": "K001",
         "Transport": "Underground",
         "Longitude": 2.172883,
         "Latitude": 41.436715,
         "Station": "METRO (L4) - LLUCMAJOR (Pg. del Verdum)-",
         "District.Name": "Nou Barris",
         "Neighborhood.Name": "la Guineueta",
         "Bus.Stop": "nan",
         "_deepnote_index_column": 34
        },
        {
         "Code": "K001",
         "Transport": "Underground",
         "Longitude": 2.127313,
         "Latitude": 41.375605,
         "Station": "METRO (L5) - BADAL-",
         "District.Name": "Sants-Montjuïc",
         "Neighborhood.Name": "Sants - Badal",
         "Bus.Stop": "nan",
         "_deepnote_index_column": 35
        },
        {
         "Code": "K001",
         "Transport": "Underground",
         "Longitude": 2.202855,
         "Latitude": 41.403481,
         "Station": "METRO (L4) - POBLENOU (C. de Pujades)-",
         "District.Name": "Sant Martí",
         "Neighborhood.Name": "el Poblenou",
         "Bus.Stop": "nan",
         "_deepnote_index_column": 36
        },
        {
         "Code": "K001",
         "Transport": "Underground",
         "Longitude": 2.180781,
         "Latitude": 41.423505,
         "Station": "METRO (L5) - CONGRÉS (C. de Garcilaso)-",
         "District.Name": "Sant Andreu",
         "Neighborhood.Name": "el Congrés i els Indians",
         "Bus.Stop": "nan",
         "_deepnote_index_column": 37
        },
        {
         "Code": "K001",
         "Transport": "Underground",
         "Longitude": 2.14909,
         "Latitude": 41.374291,
         "Station": "METRO (L3) - ESPANYA (Pl. d'Espanya)-",
         "District.Name": "Sants-Montjuïc",
         "Neighborhood.Name": "el Poble-sec",
         "Bus.Stop": "nan",
         "_deepnote_index_column": 38
        },
        {
         "Code": "K003",
         "Transport": "RENFE",
         "Longitude": 2.181768,
         "Latitude": 41.496321,
         "Station": "RENFE - MONTCADA-RIPOLLET-",
         "District.Name": "nan",
         "Neighborhood.Name": "nan",
         "Bus.Stop": "nan",
         "_deepnote_index_column": 39
        },
        {
         "Code": "K003",
         "Transport": "RENFE",
         "Longitude": 2.170436,
         "Latitude": 41.388108,
         "Station": "RENFE - CATALUNYA-",
         "District.Name": "Eixample",
         "Neighborhood.Name": "la Dreta de l'Eixample",
         "Bus.Stop": "nan",
         "_deepnote_index_column": 40
        },
        {
         "Code": "K003",
         "Transport": "RENFE",
         "Longitude": 2.09108,
         "Latitude": 41.331201,
         "Station": "RENFE - EL PRAT DE LLOBREGAT-",
         "District.Name": "nan",
         "Neighborhood.Name": "nan",
         "Bus.Stop": "nan",
         "_deepnote_index_column": 41
        },
        {
         "Code": "K011",
         "Transport": "Tram",
         "Longitude": 2.076889,
         "Latitude": 41.365513,
         "Station": "TRAMVIA (T1,T2) - EL PEDRÒ-",
         "District.Name": "nan",
         "Neighborhood.Name": "nan",
         "Bus.Stop": "nan",
         "_deepnote_index_column": 42
        },
        {
         "Code": "K001",
         "Transport": "Underground",
         "Longitude": 2.127857,
         "Latitude": 41.388357,
         "Station": "METRO (L3) - MARIA CRISTINA (Pl. de la Reina Maria Cristina)-",
         "District.Name": "Les Corts",
         "Neighborhood.Name": "les Corts",
         "Bus.Stop": "nan",
         "_deepnote_index_column": 43
        },
        {
         "Code": "K001",
         "Transport": "Underground",
         "Longitude": 2.163681,
         "Latitude": 41.384514,
         "Station": "METRO (L2) - UNIVERSITAT (Rda. de Sant Antoni)-",
         "District.Name": "Eixample",
         "Neighborhood.Name": "Sant Antoni",
         "Bus.Stop": "nan",
         "_deepnote_index_column": 44
        },
        {
         "Code": "K001",
         "Transport": "Underground",
         "Longitude": 2.106775,
         "Latitude": 41.373558,
         "Station": "METRO (L5) - PUBILLA CASES-",
         "District.Name": "nan",
         "Neighborhood.Name": "nan",
         "Bus.Stop": "nan",
         "_deepnote_index_column": 45
        },
        {
         "Code": "K001",
         "Transport": "Underground",
         "Longitude": 2.155013,
         "Latitude": 41.423558,
         "Station": "METRO (L5) - EL CARMEL (C. de Llobregós - Mercat)-",
         "District.Name": "Horta-Guinardó",
         "Neighborhood.Name": "el Carmel",
         "Bus.Stop": "nan",
         "_deepnote_index_column": 46
        },
        {
         "Code": "K001",
         "Transport": "Underground",
         "Longitude": 2.084164,
         "Latitude": 41.363278,
         "Station": "METRO (L5) - SANT ILDEFONS-",
         "District.Name": "nan",
         "Neighborhood.Name": "nan",
         "Bus.Stop": "nan",
         "_deepnote_index_column": 47
        },
        {
         "Code": "K001",
         "Transport": "Underground",
         "Longitude": 2.072672,
         "Latitude": 41.356107,
         "Station": "METRO (L5) - CORNELLÀ CENTRE-",
         "District.Name": "nan",
         "Neighborhood.Name": "nan",
         "Bus.Stop": "nan",
         "_deepnote_index_column": 48
        },
        {
         "Code": "K001",
         "Transport": "Underground",
         "Longitude": 2.072404,
         "Latitude": 41.356151,
         "Station": "METRO (L5) - CORNELLÀ CENTRE-",
         "District.Name": "nan",
         "Neighborhood.Name": "nan",
         "Bus.Stop": "nan",
         "_deepnote_index_column": 49
        },
        {
         "Code": "K001",
         "Transport": "Underground",
         "Longitude": 2.149504,
         "Latitude": 41.419877,
         "Station": "METRO (L5) - EL COLL / LA TEIXONERA (C. del Beat Almató)-",
         "District.Name": "Gràcia",
         "Neighborhood.Name": "el Coll",
         "Bus.Stop": "nan",
         "_deepnote_index_column": 50
        },
        {
         "Code": "K001",
         "Transport": "Underground",
         "Longitude": 2.176315,
         "Latitude": 41.404257,
         "Station": "METRO (L2) - SAGRADA FAMÍLIA-",
         "District.Name": "Eixample",
         "Neighborhood.Name": "la Sagrada Família",
         "Bus.Stop": "nan",
         "_deepnote_index_column": 51
        },
        {
         "Code": "K001",
         "Transport": "Underground",
         "Longitude": 2.16623,
         "Latitude": 41.412431,
         "Station": "METRO (L4) - ALFONS X (Parc de les Aigües)-",
         "District.Name": "Horta-Guinardó",
         "Neighborhood.Name": "el Baix Guinardó",
         "Bus.Stop": "nan",
         "_deepnote_index_column": 52
        },
        {
         "Code": "K001",
         "Transport": "Underground",
         "Longitude": 2.165088,
         "Latitude": 41.412123,
         "Station": "METRO (L4) - ALFONS X (Pl. d'Alfons el Savi)-",
         "District.Name": "Horta-Guinardó",
         "Neighborhood.Name": "el Baix Guinardó",
         "Bus.Stop": "nan",
         "_deepnote_index_column": 53
        },
        {
         "Code": "K001",
         "Transport": "Underground",
         "Longitude": 2.224024,
         "Latitude": 41.442346,
         "Station": "METRO (L10) - LA SALUT-",
         "District.Name": "nan",
         "Neighborhood.Name": "nan",
         "Bus.Stop": "nan",
         "_deepnote_index_column": 54
        },
        {
         "Code": "K001",
         "Transport": "Underground",
         "Longitude": 2.180022,
         "Latitude": 41.400331,
         "Station": "METRO (L2) - MONUMENTAL (C. de la Diputació)-",
         "District.Name": "Eixample",
         "Neighborhood.Name": "el Fort Pienc",
         "Bus.Stop": "nan",
         "_deepnote_index_column": 55
        },
        {
         "Code": "K001",
         "Transport": "Underground",
         "Longitude": 2.170433,
         "Latitude": 41.375177,
         "Station": "METRO (L3) - PARAL·LEL (C. Nou de la Rambla)-",
         "District.Name": "Ciutat Vella",
         "Neighborhood.Name": "el Raval",
         "Bus.Stop": "nan",
         "_deepnote_index_column": 56
        },
        {
         "Code": "K002",
         "Transport": "Railway (FGC)",
         "Longitude": 2.135427,
         "Latitude": 41.397791,
         "Station": "FGC - BONANOVA-",
         "District.Name": "Sarrià-Sant Gervasi",
         "Neighborhood.Name": "Sant Gervasi - Galvany",
         "Bus.Stop": "nan",
         "_deepnote_index_column": 57
        },
        {
         "Code": "K002",
         "Transport": "Railway (FGC)",
         "Longitude": 2.139248,
         "Latitude": 41.405731,
         "Station": "FGC - EL PUTXET-",
         "District.Name": "Sarrià-Sant Gervasi",
         "Neighborhood.Name": "el Putxet i el Farró",
         "Bus.Stop": "nan",
         "_deepnote_index_column": 58
        },
        {
         "Code": "K011",
         "Transport": "Tram",
         "Longitude": 2.075814,
         "Latitude": 41.372339,
         "Station": "TRAMVIA (T3) - SANT MARTÍ DE L'ERM-",
         "District.Name": "nan",
         "Neighborhood.Name": "nan",
         "Bus.Stop": "nan",
         "_deepnote_index_column": 59
        },
        {
         "Code": "K002",
         "Transport": "Railway (FGC)",
         "Longitude": 2.125112,
         "Latitude": 41.39896,
         "Station": "FGC - SARRIÀ-",
         "District.Name": "Sarrià-Sant Gervasi",
         "Neighborhood.Name": "les Tres Torres",
         "Bus.Stop": "nan",
         "_deepnote_index_column": 60
        },
        {
         "Code": "K001",
         "Transport": "Underground",
         "Longitude": 2.207988,
         "Latitude": 41.451908,
         "Station": "METRO (L1) - SANTA COLOMA-",
         "District.Name": "nan",
         "Neighborhood.Name": "nan",
         "Bus.Stop": "nan",
         "_deepnote_index_column": 61
        }
       ],
       "rows_bottom": [
        {
         "Code": "K014",
         "Transport": "Day bus stop",
         "Longitude": 2.11673,
         "Latitude": 41.418891,
         "Station": "nan",
         "District.Name": "Sarrià-Sant Gervasi",
         "Neighborhood.Name": "Vallvidrera, el Tibidabo i les Planes",
         "Bus.Stop": "BUS -111--",
         "_deepnote_index_column": 3750
        },
        {
         "Code": "K014",
         "Transport": "Day bus stop",
         "Longitude": 2.193718,
         "Latitude": 41.388478,
         "Station": "nan",
         "District.Name": "Sant Martí",
         "Neighborhood.Name": "la Vila Olímpica del Poblenou",
         "Bus.Stop": "BUS -59-92-V21-V27-136--",
         "_deepnote_index_column": 3751
        },
        {
         "Code": "K014",
         "Transport": "Day bus stop",
         "Longitude": 2.166016,
         "Latitude": 41.399796,
         "Station": "nan",
         "District.Name": "Eixample",
         "Neighborhood.Name": "la Dreta de l'Eixample",
         "Bus.Stop": "BUS -39-45-47-H8--",
         "_deepnote_index_column": 3752
        },
        {
         "Code": "K014",
         "Transport": "Day bus stop",
         "Longitude": 2.136297,
         "Latitude": 41.401119,
         "Station": "nan",
         "District.Name": "Sarrià-Sant Gervasi",
         "Neighborhood.Name": "Sant Gervasi - Galvany",
         "Bus.Stop": "BUS -H6--",
         "_deepnote_index_column": 3753
        },
        {
         "Code": "K015",
         "Transport": "Night bus stop",
         "Longitude": 2.144808,
         "Latitude": 41.413297,
         "Station": "nan",
         "District.Name": "Gràcia",
         "Neighborhood.Name": "Vallcarca i els Penitents",
         "Bus.Stop": "NITBUS -N5--",
         "_deepnote_index_column": 3754
        },
        {
         "Code": "K014",
         "Transport": "Day bus stop",
         "Longitude": 2.160785,
         "Latitude": 41.413219,
         "Station": "nan",
         "District.Name": "Gràcia",
         "Neighborhood.Name": "la Salut",
         "Bus.Stop": "BUS -24-92-116--",
         "_deepnote_index_column": 3755
        },
        {
         "Code": "K014",
         "Transport": "Day bus stop",
         "Longitude": 2.189153,
         "Latitude": 41.444675,
         "Station": "nan",
         "District.Name": "Sant Andreu",
         "Neighborhood.Name": "Sant Andreu",
         "Bus.Stop": "BUS -60-V31--",
         "_deepnote_index_column": 3756
        },
        {
         "Code": "K015",
         "Transport": "Night bus stop",
         "Longitude": 2.174651,
         "Latitude": 41.444914,
         "Station": "nan",
         "District.Name": "Nou Barris",
         "Neighborhood.Name": "les Roquetes",
         "Bus.Stop": "NITBUS -N6--",
         "_deepnote_index_column": 3757
        },
        {
         "Code": "K014",
         "Transport": "Day bus stop",
         "Longitude": 2.184917,
         "Latitude": 41.407328,
         "Station": "nan",
         "District.Name": "Sant Martí",
         "Neighborhood.Name": "el Camp de l'Arpa del Clot",
         "Bus.Stop": "BUS -33-34-62-B24-H10--",
         "_deepnote_index_column": 3758
        },
        {
         "Code": "K015",
         "Transport": "Night bus stop",
         "Longitude": 2.194861,
         "Latitude": 41.409594,
         "Station": "nan",
         "District.Name": "Sant Martí",
         "Neighborhood.Name": "el Clot",
         "Bus.Stop": "NITBUS -N2--",
         "_deepnote_index_column": 3759
        },
        {
         "Code": "K015",
         "Transport": "Night bus stop",
         "Longitude": 2.174655,
         "Latitude": 41.374563,
         "Station": "nan",
         "District.Name": "Sants-Montjuïc",
         "Neighborhood.Name": "el Poble-sec",
         "Bus.Stop": "NITBUS -N0-N6--",
         "_deepnote_index_column": 3760
        },
        {
         "Code": "K015",
         "Transport": "Night bus stop",
         "Longitude": 2.169914,
         "Latitude": 41.416081,
         "Station": "nan",
         "District.Name": "Horta-Guinardó",
         "Neighborhood.Name": "el Guinardó",
         "Bus.Stop": "NITBUS -N6--",
         "_deepnote_index_column": 3761
        },
        {
         "Code": "K015",
         "Transport": "Night bus stop",
         "Longitude": 2.205261,
         "Latitude": 41.405262,
         "Station": "nan",
         "District.Name": "Sant Martí",
         "Neighborhood.Name": "el Poblenou",
         "Bus.Stop": "NITBUS -N6--",
         "_deepnote_index_column": 3762
        },
        {
         "Code": "K015",
         "Transport": "Night bus stop",
         "Longitude": 2.183824,
         "Latitude": 41.435659,
         "Station": "nan",
         "District.Name": "Nou Barris",
         "Neighborhood.Name": "Porta",
         "Bus.Stop": "NITBUS -N3--",
         "_deepnote_index_column": 3763
        },
        {
         "Code": "K014",
         "Transport": "Day bus stop",
         "Longitude": 2.155067,
         "Latitude": 41.39644,
         "Station": "nan",
         "District.Name": "Sarrià-Sant Gervasi",
         "Neighborhood.Name": "Sant Gervasi - Galvany",
         "Bus.Stop": "BUS -22-24-V17--",
         "_deepnote_index_column": 3764
        },
        {
         "Code": "K014",
         "Transport": "Day bus stop",
         "Longitude": 2.154047,
         "Latitude": 41.395806,
         "Station": "nan",
         "District.Name": "Sarrià-Sant Gervasi",
         "Neighborhood.Name": "Sant Gervasi - Galvany",
         "Bus.Stop": "BUS -V15--",
         "_deepnote_index_column": 3765
        },
        {
         "Code": "K014",
         "Transport": "Day bus stop",
         "Longitude": 2.16498,
         "Latitude": 41.423742,
         "Station": "nan",
         "District.Name": "Horta-Guinardó",
         "Neighborhood.Name": "la Font d'en Fargues",
         "Bus.Stop": "BUS -39-117--",
         "_deepnote_index_column": 3766
        },
        {
         "Code": "K014",
         "Transport": "Day bus stop",
         "Longitude": 2.139356,
         "Latitude": 41.360007,
         "Station": "nan",
         "District.Name": "Sants-Montjuïc",
         "Neighborhood.Name": "la Marina de Port",
         "Bus.Stop": "BUS -109-V3-H16--",
         "_deepnote_index_column": 3767
        },
        {
         "Code": "K014",
         "Transport": "Day bus stop",
         "Longitude": 2.156657,
         "Latitude": 41.410489,
         "Station": "nan",
         "District.Name": "Gràcia",
         "Neighborhood.Name": "la Salut",
         "Bus.Stop": "BUS -24-H6-D40--",
         "_deepnote_index_column": 3768
        },
        {
         "Code": "K014",
         "Transport": "Day bus stop",
         "Longitude": 2.157991,
         "Latitude": 41.382707,
         "Station": "nan",
         "District.Name": "Eixample",
         "Neighborhood.Name": "l'Antiga Esquerra de l'Eixample",
         "Bus.Stop": "BUS -V11--",
         "_deepnote_index_column": 3769
        },
        {
         "Code": "K015",
         "Transport": "Night bus stop",
         "Longitude": 2.175296,
         "Latitude": 41.395499,
         "Station": "nan",
         "District.Name": "Eixample",
         "Neighborhood.Name": "la Dreta de l'Eixample",
         "Bus.Stop": "NITBUS -N1-N4--",
         "_deepnote_index_column": 3770
        },
        {
         "Code": "K014",
         "Transport": "Day bus stop",
         "Longitude": 2.187573,
         "Latitude": 41.394185,
         "Station": "nan",
         "District.Name": "Sant Martí",
         "Neighborhood.Name": "el Parc i la Llacuna del Poblenou",
         "Bus.Stop": "BUS -V21--",
         "_deepnote_index_column": 3771
        },
        {
         "Code": "K015",
         "Transport": "Night bus stop",
         "Longitude": 2.140775,
         "Latitude": 41.358041,
         "Station": "nan",
         "District.Name": "Sants-Montjuïc",
         "Neighborhood.Name": "la Marina de Port",
         "Bus.Stop": "NITBUS -N1--",
         "_deepnote_index_column": 3772
        },
        {
         "Code": "K014",
         "Transport": "Day bus stop",
         "Longitude": 2.114389,
         "Latitude": 41.401867,
         "Station": "nan",
         "District.Name": "Sarrià-Sant Gervasi",
         "Neighborhood.Name": "Sarrià",
         "Bus.Stop": "BUS -60-130--",
         "_deepnote_index_column": 3773
        },
        {
         "Code": "K014",
         "Transport": "Day bus stop",
         "Longitude": 2.138042,
         "Latitude": 41.429186,
         "Station": "nan",
         "District.Name": "Horta-Guinardó",
         "Neighborhood.Name": "Sant Genís dels Agudells",
         "Bus.Stop": "BUS -76--",
         "_deepnote_index_column": 3774
        },
        {
         "Code": "K014",
         "Transport": "Day bus stop",
         "Longitude": 2.16852,
         "Latitude": 41.42867,
         "Station": "nan",
         "District.Name": "Nou Barris",
         "Neighborhood.Name": "Vilapicina i la Torre Llobeta",
         "Bus.Stop": "BUS -122--",
         "_deepnote_index_column": 3775
        },
        {
         "Code": "K014",
         "Transport": "Day bus stop",
         "Longitude": 2.126437,
         "Latitude": 41.403985,
         "Station": "nan",
         "District.Name": "Sarrià-Sant Gervasi",
         "Neighborhood.Name": "Sant Gervasi - la Bonanova",
         "Bus.Stop": "BUS -123--",
         "_deepnote_index_column": 3776
        },
        {
         "Code": "K014",
         "Transport": "Day bus stop",
         "Longitude": 2.112922,
         "Latitude": 41.384771,
         "Station": "nan",
         "District.Name": "Les Corts",
         "Neighborhood.Name": "Pedralbes",
         "Bus.Stop": "BUS -67-L97-L79-E43--",
         "_deepnote_index_column": 3777
        },
        {
         "Code": "K014",
         "Transport": "Day bus stop",
         "Longitude": 2.118883,
         "Latitude": 41.385858,
         "Station": "nan",
         "District.Name": "Les Corts",
         "Neighborhood.Name": "la Maternitat i Sant Ramon",
         "Bus.Stop": "BUS -7-33-67-75-L14--",
         "_deepnote_index_column": 3778
        },
        {
         "Code": "K014",
         "Transport": "Day bus stop",
         "Longitude": 2.118078,
         "Latitude": 41.378951,
         "Station": "nan",
         "District.Name": "Les Corts",
         "Neighborhood.Name": "la Maternitat i Sant Ramon",
         "Bus.Stop": "BUS -54--",
         "_deepnote_index_column": 3779
        },
        {
         "Code": "K014",
         "Transport": "Day bus stop",
         "Longitude": 2.156727,
         "Latitude": 41.362776,
         "Station": "nan",
         "District.Name": "Sants-Montjuïc",
         "Neighborhood.Name": "el Poble-sec",
         "Bus.Stop": "BUS -13--",
         "_deepnote_index_column": 3780
        },
        {
         "Code": "K014",
         "Transport": "Day bus stop",
         "Longitude": 2.200961,
         "Latitude": 41.43521,
         "Station": "nan",
         "District.Name": "Sant Andreu",
         "Neighborhood.Name": "el Bon Pastor",
         "Bus.Stop": "BUS -60--",
         "_deepnote_index_column": 3781
        },
        {
         "Code": "K014",
         "Transport": "Day bus stop",
         "Longitude": 2.196185,
         "Latitude": 41.436906,
         "Station": "nan",
         "District.Name": "Sant Andreu",
         "Neighborhood.Name": "el Bon Pastor",
         "Bus.Stop": "BUS -11-H4-M28--",
         "_deepnote_index_column": 3782
        },
        {
         "Code": "K014",
         "Transport": "Day bus stop",
         "Longitude": 2.090677,
         "Latitude": 41.423978,
         "Station": "nan",
         "District.Name": "Sarrià-Sant Gervasi",
         "Neighborhood.Name": "Vallvidrera, el Tibidabo i les Planes",
         "Bus.Stop": "BUS -118--",
         "_deepnote_index_column": 3783
        },
        {
         "Code": "K014",
         "Transport": "Day bus stop",
         "Longitude": 2.157268,
         "Latitude": 41.42902,
         "Station": "nan",
         "District.Name": "Horta-Guinardó",
         "Neighborhood.Name": "el Carmel",
         "Bus.Stop": "BUS -39--",
         "_deepnote_index_column": 3784
        },
        {
         "Code": "K014",
         "Transport": "Day bus stop",
         "Longitude": 2.158672,
         "Latitude": 41.423131,
         "Station": "nan",
         "District.Name": "Horta-Guinardó",
         "Neighborhood.Name": "la Font d'en Fargues",
         "Bus.Stop": "BUS -39--",
         "_deepnote_index_column": 3785
        },
        {
         "Code": "K014",
         "Transport": "Day bus stop",
         "Longitude": 2.195481,
         "Latitude": 41.40527,
         "Station": "nan",
         "District.Name": "Sant Martí",
         "Neighborhood.Name": "el Poblenou",
         "Bus.Stop": "BUS -7--",
         "_deepnote_index_column": 3786
        },
        {
         "Code": "K014",
         "Transport": "Day bus stop",
         "Longitude": 2.215347,
         "Latitude": 41.407061,
         "Station": "nan",
         "District.Name": "Sant Martí",
         "Neighborhood.Name": "Diagonal Mar i el Front Marítim del Poblenou",
         "Bus.Stop": "BUS -H16--",
         "_deepnote_index_column": 3787
        },
        {
         "Code": "K015",
         "Transport": "Night bus stop",
         "Longitude": 2.213026,
         "Latitude": 41.409137,
         "Station": "nan",
         "District.Name": "Sant Martí",
         "Neighborhood.Name": "Diagonal Mar i el Front Marítim del Poblenou",
         "Bus.Stop": "NITBUS -N6--",
         "_deepnote_index_column": 3788
        },
        {
         "Code": "K014",
         "Transport": "Day bus stop",
         "Longitude": 2.169648,
         "Latitude": 41.443004,
         "Station": "nan",
         "District.Name": "Nou Barris",
         "Neighborhood.Name": "Canyelles",
         "Bus.Stop": "BUS -27-47-60-122-127-V27--",
         "_deepnote_index_column": 3789
        },
        {
         "Code": "K014",
         "Transport": "Day bus stop",
         "Longitude": 2.168902,
         "Latitude": 41.367957,
         "Station": "nan",
         "District.Name": "Sants-Montjuïc",
         "Neighborhood.Name": "el Poble-sec",
         "Bus.Stop": "BUS -150--",
         "_deepnote_index_column": 3790
        },
        {
         "Code": "K014",
         "Transport": "Day bus stop",
         "Longitude": 2.180409,
         "Latitude": 41.461274,
         "Station": "nan",
         "District.Name": "Nou Barris",
         "Neighborhood.Name": "Ciutat Meridiana",
         "Bus.Stop": "BUS -62-76-D50--",
         "_deepnote_index_column": 3791
        },
        {
         "Code": "K014",
         "Transport": "Day bus stop",
         "Longitude": 2.178518,
         "Latitude": 41.461602,
         "Station": "nan",
         "District.Name": "Nou Barris",
         "Neighborhood.Name": "Ciutat Meridiana",
         "Bus.Stop": "BUS -62-76-104-83-D50--",
         "_deepnote_index_column": 3792
        },
        {
         "Code": "K014",
         "Transport": "Day bus stop",
         "Longitude": 2.153646,
         "Latitude": 41.425559,
         "Station": "nan",
         "District.Name": "Horta-Guinardó",
         "Neighborhood.Name": "el Carmel",
         "Bus.Stop": "BUS -19--",
         "_deepnote_index_column": 3793
        },
        {
         "Code": "K014",
         "Transport": "Day bus stop",
         "Longitude": 2.167085,
         "Latitude": 41.415711,
         "Station": "nan",
         "District.Name": "Horta-Guinardó",
         "Neighborhood.Name": "Can Baró",
         "Bus.Stop": "BUS -114--",
         "_deepnote_index_column": 3794
        },
        {
         "Code": "K014",
         "Transport": "Day bus stop",
         "Longitude": 2.16618,
         "Latitude": 41.416488,
         "Station": "nan",
         "District.Name": "Horta-Guinardó",
         "Neighborhood.Name": "Can Baró",
         "Bus.Stop": "BUS -114--",
         "_deepnote_index_column": 3795
        },
        {
         "Code": "K014",
         "Transport": "Day bus stop",
         "Longitude": 2.175908,
         "Latitude": 41.435067,
         "Station": "nan",
         "District.Name": "Nou Barris",
         "Neighborhood.Name": "Porta",
         "Bus.Stop": "BUS -132--",
         "_deepnote_index_column": 3796
        },
        {
         "Code": "K015",
         "Transport": "Night bus stop",
         "Longitude": 2.191098,
         "Latitude": 41.40013,
         "Station": "nan",
         "District.Name": "Sant Martí",
         "Neighborhood.Name": "el Parc i la Llacuna del Poblenou",
         "Bus.Stop": "NITBUS -N11-N8--",
         "_deepnote_index_column": 3797
        },
        {
         "Code": "K014",
         "Transport": "Day bus stop",
         "Longitude": 2.134963,
         "Latitude": 41.426764,
         "Station": "nan",
         "District.Name": "Horta-Guinardó",
         "Neighborhood.Name": "Sant Genís dels Agudells",
         "Bus.Stop": "BUS -112--",
         "_deepnote_index_column": 3798
        },
        {
         "Code": "K014",
         "Transport": "Day bus stop",
         "Longitude": 2.156861,
         "Latitude": 41.400682,
         "Station": "nan",
         "District.Name": "Gràcia",
         "Neighborhood.Name": "la Vila de Gràcia",
         "Bus.Stop": "BUS -114--",
         "_deepnote_index_column": 3799
        },
        {
         "Code": "K014",
         "Transport": "Day bus stop",
         "Longitude": 2.186186,
         "Latitude": 41.422917,
         "Station": "nan",
         "District.Name": "Sant Andreu",
         "Neighborhood.Name": "la Sagrera",
         "Bus.Stop": "BUS -126--",
         "_deepnote_index_column": 3800
        },
        {
         "Code": "K014",
         "Transport": "Day bus stop",
         "Longitude": 2.139204,
         "Latitude": 41.363957,
         "Station": "nan",
         "District.Name": "Sants-Montjuïc",
         "Neighborhood.Name": "la Marina de Port",
         "Bus.Stop": "BUS -125-V5--",
         "_deepnote_index_column": 3801
        },
        {
         "Code": "K014",
         "Transport": "Day bus stop",
         "Longitude": 2.136309,
         "Latitude": 41.359529,
         "Station": "nan",
         "District.Name": "Sants-Montjuïc",
         "Neighborhood.Name": "la Marina de Port",
         "Bus.Stop": "BUS -125--",
         "_deepnote_index_column": 3802
        },
        {
         "Code": "K015",
         "Transport": "Night bus stop",
         "Longitude": 2.209107,
         "Latitude": 41.408138,
         "Station": "nan",
         "District.Name": "Sant Martí",
         "Neighborhood.Name": "Diagonal Mar i el Front Marítim del Poblenou",
         "Bus.Stop": "NITBUS -N6--",
         "_deepnote_index_column": 3803
        },
        {
         "Code": "K014",
         "Transport": "Day bus stop",
         "Longitude": 2.098853,
         "Latitude": 41.428841,
         "Station": "nan",
         "District.Name": "Sarrià-Sant Gervasi",
         "Neighborhood.Name": "Vallvidrera, el Tibidabo i les Planes",
         "Bus.Stop": "BUS -128--",
         "_deepnote_index_column": 3804
        },
        {
         "Code": "K014",
         "Transport": "Day bus stop",
         "Longitude": 2.096273,
         "Latitude": 41.429401,
         "Station": "nan",
         "District.Name": "Sarrià-Sant Gervasi",
         "Neighborhood.Name": "Vallvidrera, el Tibidabo i les Planes",
         "Bus.Stop": "BUS -128--",
         "_deepnote_index_column": 3805
        },
        {
         "Code": "K014",
         "Transport": "Day bus stop",
         "Longitude": 2.145507,
         "Latitude": 41.363219,
         "Station": "nan",
         "District.Name": "Sants-Montjuïc",
         "Neighborhood.Name": "la Marina de Port",
         "Bus.Stop": "BUS -125--",
         "_deepnote_index_column": 3806
        },
        {
         "Code": "K014",
         "Transport": "Day bus stop",
         "Longitude": 2.118484,
         "Latitude": 41.398514,
         "Station": "nan",
         "District.Name": "Sarrià-Sant Gervasi",
         "Neighborhood.Name": "Sarrià",
         "Bus.Stop": "BUS -68-75-H4--",
         "_deepnote_index_column": 3807
        },
        {
         "Code": "K014",
         "Transport": "Day bus stop",
         "Longitude": 2.183887,
         "Latitude": 41.422024,
         "Station": "nan",
         "District.Name": "Sant Andreu",
         "Neighborhood.Name": "el Congrés i els Indians",
         "Bus.Stop": "BUS -191--",
         "_deepnote_index_column": 3808
        },
        {
         "Code": "K014",
         "Transport": "Day bus stop",
         "Longitude": 2.17671,
         "Latitude": 41.446419,
         "Station": "nan",
         "District.Name": "Nou Barris",
         "Neighborhood.Name": "les Roquetes",
         "Bus.Stop": "BUS -127-81--",
         "_deepnote_index_column": 3809
        },
        {
         "Code": "K015",
         "Transport": "Night bus stop",
         "Longitude": 2.144596,
         "Latitude": 41.411446,
         "Station": "nan",
         "District.Name": "Gràcia",
         "Neighborhood.Name": "Vallcarca i els Penitents",
         "Bus.Stop": "NITBUS -N4--",
         "_deepnote_index_column": 3810
        },
        {
         "Code": "K014",
         "Transport": "Day bus stop",
         "Longitude": 2.142256,
         "Latitude": 41.371176,
         "Station": "nan",
         "District.Name": "Sants-Montjuïc",
         "Neighborhood.Name": "la Bordeta",
         "Bus.Stop": "BUS -91-115-V5--",
         "_deepnote_index_column": 3811
        },
        {
         "Code": "K015",
         "Transport": "Night bus stop",
         "Longitude": 2.134932,
         "Latitude": 41.398495,
         "Station": "nan",
         "District.Name": "Sarrià-Sant Gervasi",
         "Neighborhood.Name": "Sant Gervasi - Galvany",
         "Bus.Stop": "NITBUS -N7--",
         "_deepnote_index_column": 3812
        }
       ]
      },
      "text/plain": "      Code       Transport  Longitude   Latitude  \\\n0     K001     Underground   2.119370  41.399203   \n1     K001     Underground   2.135427  41.397791   \n2     K001     Underground   2.185391  41.451492   \n3     K001     Underground   2.174473  41.460889   \n4     K001     Underground   2.168588  41.387200   \n...    ...             ...        ...        ...   \n3808  K014    Day bus stop   2.183887  41.422024   \n3809  K014    Day bus stop   2.176710  41.446419   \n3810  K015  Night bus stop   2.144596  41.411446   \n3811  K014    Day bus stop   2.142256  41.371176   \n3812  K015  Night bus stop   2.134932  41.398495   \n\n                                                Station        District.Name  \\\n0     FGC (L6) - REINA ELISENDA (Sortida Duquesa d'O...  Sarrià-Sant Gervasi   \n1                               FGC (L6) - LA BONANOVA-  Sarrià-Sant Gervasi   \n2         METRO (L11) - CASA DE L'AIGUA (C. Vila-Real)-           Nou Barris   \n3       METRO (L11) - CIUTAT MERIDIANA (C. Pedraforca)-           Nou Barris   \n4            METRO (L1) - CATALUNYA (Rda. Universitat)-             Eixample   \n...                                                 ...                  ...   \n3808                                                NaN          Sant Andreu   \n3809                                                NaN           Nou Barris   \n3810                                                NaN               Gràcia   \n3811                                                NaN       Sants-Montjuïc   \n3812                                                NaN  Sarrià-Sant Gervasi   \n\n              Neighborhood.Name          Bus.Stop  \n0                        Sarrià               NaN  \n1        Sant Gervasi - Galvany               NaN  \n2              la Trinitat Nova               NaN  \n3              Ciutat Meridiana               NaN  \n4        la Dreta de l'Eixample               NaN  \n...                         ...               ...  \n3808   el Congrés i els Indians        BUS -191--  \n3809               les Roquetes     BUS -127-81--  \n3810  Vallcarca i els Penitents      NITBUS -N4--  \n3811                 la Bordeta  BUS -91-115-V5--  \n3812     Sant Gervasi - Galvany      NITBUS -N7--  \n\n[3813 rows x 8 columns]",
      "text/html": "<div>\n<style scoped>\n    .dataframe tbody tr th:only-of-type {\n        vertical-align: middle;\n    }\n\n    .dataframe tbody tr th {\n        vertical-align: top;\n    }\n\n    .dataframe thead th {\n        text-align: right;\n    }\n</style>\n<table border=\"1\" class=\"dataframe\">\n  <thead>\n    <tr style=\"text-align: right;\">\n      <th></th>\n      <th>Code</th>\n      <th>Transport</th>\n      <th>Longitude</th>\n      <th>Latitude</th>\n      <th>Station</th>\n      <th>District.Name</th>\n      <th>Neighborhood.Name</th>\n      <th>Bus.Stop</th>\n    </tr>\n  </thead>\n  <tbody>\n    <tr>\n      <th>0</th>\n      <td>K001</td>\n      <td>Underground</td>\n      <td>2.119370</td>\n      <td>41.399203</td>\n      <td>FGC (L6) - REINA ELISENDA (Sortida Duquesa d'O...</td>\n      <td>Sarrià-Sant Gervasi</td>\n      <td>Sarrià</td>\n      <td>NaN</td>\n    </tr>\n    <tr>\n      <th>1</th>\n      <td>K001</td>\n      <td>Underground</td>\n      <td>2.135427</td>\n      <td>41.397791</td>\n      <td>FGC (L6) - LA BONANOVA-</td>\n      <td>Sarrià-Sant Gervasi</td>\n      <td>Sant Gervasi - Galvany</td>\n      <td>NaN</td>\n    </tr>\n    <tr>\n      <th>2</th>\n      <td>K001</td>\n      <td>Underground</td>\n      <td>2.185391</td>\n      <td>41.451492</td>\n      <td>METRO (L11) - CASA DE L'AIGUA (C. Vila-Real)-</td>\n      <td>Nou Barris</td>\n      <td>la Trinitat Nova</td>\n      <td>NaN</td>\n    </tr>\n    <tr>\n      <th>3</th>\n      <td>K001</td>\n      <td>Underground</td>\n      <td>2.174473</td>\n      <td>41.460889</td>\n      <td>METRO (L11) - CIUTAT MERIDIANA (C. Pedraforca)-</td>\n      <td>Nou Barris</td>\n      <td>Ciutat Meridiana</td>\n      <td>NaN</td>\n    </tr>\n    <tr>\n      <th>4</th>\n      <td>K001</td>\n      <td>Underground</td>\n      <td>2.168588</td>\n      <td>41.387200</td>\n      <td>METRO (L1) - CATALUNYA (Rda. Universitat)-</td>\n      <td>Eixample</td>\n      <td>la Dreta de l'Eixample</td>\n      <td>NaN</td>\n    </tr>\n    <tr>\n      <th>...</th>\n      <td>...</td>\n      <td>...</td>\n      <td>...</td>\n      <td>...</td>\n      <td>...</td>\n      <td>...</td>\n      <td>...</td>\n      <td>...</td>\n    </tr>\n    <tr>\n      <th>3808</th>\n      <td>K014</td>\n      <td>Day bus stop</td>\n      <td>2.183887</td>\n      <td>41.422024</td>\n      <td>NaN</td>\n      <td>Sant Andreu</td>\n      <td>el Congrés i els Indians</td>\n      <td>BUS -191--</td>\n    </tr>\n    <tr>\n      <th>3809</th>\n      <td>K014</td>\n      <td>Day bus stop</td>\n      <td>2.176710</td>\n      <td>41.446419</td>\n      <td>NaN</td>\n      <td>Nou Barris</td>\n      <td>les Roquetes</td>\n      <td>BUS -127-81--</td>\n    </tr>\n    <tr>\n      <th>3810</th>\n      <td>K015</td>\n      <td>Night bus stop</td>\n      <td>2.144596</td>\n      <td>41.411446</td>\n      <td>NaN</td>\n      <td>Gràcia</td>\n      <td>Vallcarca i els Penitents</td>\n      <td>NITBUS -N4--</td>\n    </tr>\n    <tr>\n      <th>3811</th>\n      <td>K014</td>\n      <td>Day bus stop</td>\n      <td>2.142256</td>\n      <td>41.371176</td>\n      <td>NaN</td>\n      <td>Sants-Montjuïc</td>\n      <td>la Bordeta</td>\n      <td>BUS -91-115-V5--</td>\n    </tr>\n    <tr>\n      <th>3812</th>\n      <td>K015</td>\n      <td>Night bus stop</td>\n      <td>2.134932</td>\n      <td>41.398495</td>\n      <td>NaN</td>\n      <td>Sarrià-Sant Gervasi</td>\n      <td>Sant Gervasi - Galvany</td>\n      <td>NITBUS -N7--</td>\n    </tr>\n  </tbody>\n</table>\n<p>3813 rows × 8 columns</p>\n</div>"
     },
     "metadata": {}
    }
   ],
   "execution_count": 18
  },
  {
   "cell_type": "code",
   "source": "# Number of stops in each district\n\nstops_district = public_transport_bus_merged['District.Name'].value_counts(dropna=False)\n\npercentage_stops_perRegion = stops_district/len(public_transport_bus_merged)*100\npd.DataFrame(round(percentage_stops_perRegion.iloc[:], 2))",
   "metadata": {
    "tags": [],
    "cell_id": "00010-64ee7396-3c01-4626-8afb-e6691e14ac69",
    "deepnote_to_be_reexecuted": false,
    "source_hash": "498351e4",
    "execution_start": 1623401039622,
    "execution_millis": 11,
    "deepnote_cell_type": "code"
   },
   "outputs": [
    {
     "output_type": "execute_result",
     "execution_count": 19,
     "data": {
      "application/vnd.deepnote.dataframe.v2+json": {
       "row_count": 11,
       "column_count": 1,
       "columns": [
        {
         "name": "District.Name",
         "dtype": "float64",
         "stats": {
          "unique_count": 11,
          "nan_count": 0,
          "min": "4.72",
          "max": "13.77",
          "histogram": [
           {
            "bin_start": 4.72,
            "bin_end": 5.625,
            "count": 2
           },
           {
            "bin_start": 5.625,
            "bin_end": 6.529999999999999,
            "count": 2
           },
           {
            "bin_start": 6.529999999999999,
            "bin_end": 7.435,
            "count": 1
           },
           {
            "bin_start": 7.435,
            "bin_end": 8.34,
            "count": 0
           },
           {
            "bin_start": 8.34,
            "bin_end": 9.245000000000001,
            "count": 0
           },
           {
            "bin_start": 9.245000000000001,
            "bin_end": 10.149999999999999,
            "count": 1
           },
           {
            "bin_start": 10.149999999999999,
            "bin_end": 11.055,
            "count": 1
           },
           {
            "bin_start": 11.055,
            "bin_end": 11.96,
            "count": 1
           },
           {
            "bin_start": 11.96,
            "bin_end": 12.864999999999998,
            "count": 1
           },
           {
            "bin_start": 12.864999999999998,
            "bin_end": 13.77,
            "count": 2
           }
          ]
         }
        },
        {
         "name": "_deepnote_index_column",
         "dtype": "object"
        }
       ],
       "rows_top": [
        {
         "District.Name": 13.77,
         "_deepnote_index_column": "Eixample"
        },
        {
         "District.Name": 13.24,
         "_deepnote_index_column": "Sarrià-Sant Gervasi"
        },
        {
         "District.Name": 12.27,
         "_deepnote_index_column": "Sants-Montjuïc"
        },
        {
         "District.Name": 11.17,
         "_deepnote_index_column": "Sant Martí"
        },
        {
         "District.Name": 11.01,
         "_deepnote_index_column": "Horta-Guinardó"
        },
        {
         "District.Name": 9.68,
         "_deepnote_index_column": "Nou Barris"
        },
        {
         "District.Name": 7.03,
         "_deepnote_index_column": "Sant Andreu"
        },
        {
         "District.Name": 6.06,
         "_deepnote_index_column": "Les Corts"
        },
        {
         "District.Name": 5.95,
         "_deepnote_index_column": "Gràcia"
        },
        {
         "District.Name": 5.09,
         "_deepnote_index_column": "Ciutat Vella"
        },
        {
         "District.Name": 4.72,
         "_deepnote_index_column": "nan"
        }
       ],
       "rows_bottom": null
      },
      "text/plain": "                     District.Name\nEixample                     13.77\nSarrià-Sant Gervasi          13.24\nSants-Montjuïc               12.27\nSant Martí                   11.17\nHorta-Guinardó               11.01\nNou Barris                    9.68\nSant Andreu                   7.03\nLes Corts                     6.06\nGràcia                        5.95\nCiutat Vella                  5.09\nNaN                           4.72",
      "text/html": "<div>\n<style scoped>\n    .dataframe tbody tr th:only-of-type {\n        vertical-align: middle;\n    }\n\n    .dataframe tbody tr th {\n        vertical-align: top;\n    }\n\n    .dataframe thead th {\n        text-align: right;\n    }\n</style>\n<table border=\"1\" class=\"dataframe\">\n  <thead>\n    <tr style=\"text-align: right;\">\n      <th></th>\n      <th>District.Name</th>\n    </tr>\n  </thead>\n  <tbody>\n    <tr>\n      <th>Eixample</th>\n      <td>13.77</td>\n    </tr>\n    <tr>\n      <th>Sarrià-Sant Gervasi</th>\n      <td>13.24</td>\n    </tr>\n    <tr>\n      <th>Sants-Montjuïc</th>\n      <td>12.27</td>\n    </tr>\n    <tr>\n      <th>Sant Martí</th>\n      <td>11.17</td>\n    </tr>\n    <tr>\n      <th>Horta-Guinardó</th>\n      <td>11.01</td>\n    </tr>\n    <tr>\n      <th>Nou Barris</th>\n      <td>9.68</td>\n    </tr>\n    <tr>\n      <th>Sant Andreu</th>\n      <td>7.03</td>\n    </tr>\n    <tr>\n      <th>Les Corts</th>\n      <td>6.06</td>\n    </tr>\n    <tr>\n      <th>Gràcia</th>\n      <td>5.95</td>\n    </tr>\n    <tr>\n      <th>Ciutat Vella</th>\n      <td>5.09</td>\n    </tr>\n    <tr>\n      <th>NaN</th>\n      <td>4.72</td>\n    </tr>\n  </tbody>\n</table>\n</div>"
     },
     "metadata": {}
    }
   ],
   "execution_count": 19
  },
  {
   "cell_type": "code",
   "source": "",
   "metadata": {
    "tags": [],
    "cell_id": "00012-7778fa9f-4c91-4e7d-8a29-749c051b250b",
    "deepnote_cell_type": "code"
   },
   "outputs": [],
   "execution_count": null
  },
  {
   "cell_type": "code",
   "source": "# Frequency distribution of public transport:\n\nptrans_elements_district = public_transport_bus_merged['Transport'].value_counts(dropna=False)\n\n\npercentage_ptrans_elements_district = ptrans_elements_district/len(public_transport_bus_merged)*100\npd.DataFrame(round(percentage_ptrans_elements_district.iloc[:], 2))\n",
   "metadata": {
    "tags": [],
    "cell_id": "00012-23e831d1-67a4-4a22-922a-0d3eaaa97927",
    "deepnote_to_be_reexecuted": false,
    "source_hash": "64e96f51",
    "execution_start": 1623401042251,
    "execution_millis": 10,
    "deepnote_cell_type": "code"
   },
   "outputs": [
    {
     "output_type": "execute_result",
     "execution_count": 20,
     "data": {
      "application/vnd.deepnote.dataframe.v2+json": {
       "row_count": 12,
       "column_count": 1,
       "columns": [
        {
         "name": "Transport",
         "dtype": "float64",
         "stats": {
          "unique_count": 12,
          "nan_count": 0,
          "min": "0.08",
          "max": "60.95",
          "histogram": [
           {
            "bin_start": 0.08,
            "bin_end": 6.167000000000001,
            "count": 9
           },
           {
            "bin_start": 6.167000000000001,
            "bin_end": 12.254000000000001,
            "count": 1
           },
           {
            "bin_start": 12.254000000000001,
            "bin_end": 18.341,
            "count": 0
           },
           {
            "bin_start": 18.341,
            "bin_end": 24.428,
            "count": 1
           },
           {
            "bin_start": 24.428,
            "bin_end": 30.515,
            "count": 0
           },
           {
            "bin_start": 30.515,
            "bin_end": 36.602000000000004,
            "count": 0
           },
           {
            "bin_start": 36.602000000000004,
            "bin_end": 42.689,
            "count": 0
           },
           {
            "bin_start": 42.689,
            "bin_end": 48.776,
            "count": 0
           },
           {
            "bin_start": 48.776,
            "bin_end": 54.86300000000001,
            "count": 0
           },
           {
            "bin_start": 54.86300000000001,
            "bin_end": 60.95,
            "count": 1
           }
          ]
         }
        },
        {
         "name": "_deepnote_index_column",
         "dtype": "object"
        }
       ],
       "rows_top": [
        {
         "Transport": 60.95,
         "_deepnote_index_column": "Day bus stop"
        },
        {
         "Transport": 21.72,
         "_deepnote_index_column": "Night bus stop"
        },
        {
         "Transport": 12.14,
         "_deepnote_index_column": "Underground"
        },
        {
         "Transport": 1.7,
         "_deepnote_index_column": "Tram"
        },
        {
         "Transport": 1.42,
         "_deepnote_index_column": "Railway (FGC)"
        },
        {
         "Transport": 0.87,
         "_deepnote_index_column": "RENFE"
        },
        {
         "Transport": 0.42,
         "_deepnote_index_column": "Maritime station"
        },
        {
         "Transport": 0.24,
         "_deepnote_index_column": "Airport train"
        },
        {
         "Transport": 0.18,
         "_deepnote_index_column": "Airport bus stop"
        },
        {
         "Transport": 0.16,
         "_deepnote_index_column": "Funicular"
        },
        {
         "Transport": 0.13,
         "_deepnote_index_column": "Cableway"
        },
        {
         "Transport": 0.08,
         "_deepnote_index_column": "Bus station"
        }
       ],
       "rows_bottom": null
      },
      "text/plain": "                  Transport\nDay bus stop          60.95\nNight bus stop        21.72\nUnderground           12.14\nTram                   1.70\nRailway (FGC)          1.42\nRENFE                  0.87\nMaritime station       0.42\nAirport train          0.24\nAirport bus stop       0.18\nFunicular              0.16\nCableway               0.13\nBus station            0.08",
      "text/html": "<div>\n<style scoped>\n    .dataframe tbody tr th:only-of-type {\n        vertical-align: middle;\n    }\n\n    .dataframe tbody tr th {\n        vertical-align: top;\n    }\n\n    .dataframe thead th {\n        text-align: right;\n    }\n</style>\n<table border=\"1\" class=\"dataframe\">\n  <thead>\n    <tr style=\"text-align: right;\">\n      <th></th>\n      <th>Transport</th>\n    </tr>\n  </thead>\n  <tbody>\n    <tr>\n      <th>Day bus stop</th>\n      <td>60.95</td>\n    </tr>\n    <tr>\n      <th>Night bus stop</th>\n      <td>21.72</td>\n    </tr>\n    <tr>\n      <th>Underground</th>\n      <td>12.14</td>\n    </tr>\n    <tr>\n      <th>Tram</th>\n      <td>1.70</td>\n    </tr>\n    <tr>\n      <th>Railway (FGC)</th>\n      <td>1.42</td>\n    </tr>\n    <tr>\n      <th>RENFE</th>\n      <td>0.87</td>\n    </tr>\n    <tr>\n      <th>Maritime station</th>\n      <td>0.42</td>\n    </tr>\n    <tr>\n      <th>Airport train</th>\n      <td>0.24</td>\n    </tr>\n    <tr>\n      <th>Airport bus stop</th>\n      <td>0.18</td>\n    </tr>\n    <tr>\n      <th>Funicular</th>\n      <td>0.16</td>\n    </tr>\n    <tr>\n      <th>Cableway</th>\n      <td>0.13</td>\n    </tr>\n    <tr>\n      <th>Bus station</th>\n      <td>0.08</td>\n    </tr>\n  </tbody>\n</table>\n</div>"
     },
     "metadata": {}
    }
   ],
   "execution_count": 20
  },
  {
   "cell_type": "code",
   "source": "avg_per_region = bus_stops_perDistrict.describe()*100\nprint('The average percentage of bus stops per district is', round(avg_per_region.iloc[1], 3), '%')",
   "metadata": {
    "tags": [],
    "cell_id": "00010-9469b391-3697-4a64-a257-f4b0dc88f88b",
    "deepnote_to_be_reexecuted": false,
    "source_hash": "cc3d7d22",
    "execution_start": 1623401044591,
    "execution_millis": 11,
    "deepnote_cell_type": "code"
   },
   "outputs": [
    {
     "name": "stdout",
     "text": "The average percentage of bus stops per district is 9.949 %\n",
     "output_type": "stream"
    }
   ],
   "execution_count": 21
  },
  {
   "cell_type": "code",
   "metadata": {
    "tags": [],
    "cell_id": "00010-eaee0425-0f9d-44cd-8692-bf01d4c7d508",
    "deepnote_to_be_reexecuted": false,
    "source_hash": "7d644ad",
    "execution_start": 1623401046610,
    "execution_millis": 16,
    "deepnote_cell_type": "code"
   },
   "source": "#Percentage of missing values in columns: District and Neighborhood\n\nall_nulls_bus_stops = bus_stops.isnull().sum()\npercentage_missin_neigh_dist = (all_nulls_bus_stops/len(bus_stops))*100\npd.DataFrame(percentage_missin_neigh_dist).transpose()",
   "execution_count": 22,
   "outputs": [
    {
     "output_type": "execute_result",
     "execution_count": 22,
     "data": {
      "application/vnd.deepnote.dataframe.v2+json": {
       "row_count": 1,
       "column_count": 7,
       "columns": [
        {
         "name": "Code",
         "dtype": "float64",
         "stats": {
          "unique_count": 1,
          "nan_count": 0,
          "min": "0.0",
          "max": "0.0",
          "histogram": [
           {
            "bin_start": -0.5,
            "bin_end": -0.4,
            "count": 0
           },
           {
            "bin_start": -0.4,
            "bin_end": -0.3,
            "count": 0
           },
           {
            "bin_start": -0.3,
            "bin_end": -0.19999999999999996,
            "count": 0
           },
           {
            "bin_start": -0.19999999999999996,
            "bin_end": -0.09999999999999998,
            "count": 0
           },
           {
            "bin_start": -0.09999999999999998,
            "bin_end": 0,
            "count": 0
           },
           {
            "bin_start": 0,
            "bin_end": 0.10000000000000009,
            "count": 1
           },
           {
            "bin_start": 0.10000000000000009,
            "bin_end": 0.20000000000000007,
            "count": 0
           },
           {
            "bin_start": 0.20000000000000007,
            "bin_end": 0.30000000000000004,
            "count": 0
           },
           {
            "bin_start": 0.30000000000000004,
            "bin_end": 0.4,
            "count": 0
           },
           {
            "bin_start": 0.4,
            "bin_end": 0.5,
            "count": 0
           }
          ]
         }
        },
        {
         "name": "Transport",
         "dtype": "float64",
         "stats": {
          "unique_count": 1,
          "nan_count": 0,
          "min": "0.0",
          "max": "0.0",
          "histogram": [
           {
            "bin_start": -0.5,
            "bin_end": -0.4,
            "count": 0
           },
           {
            "bin_start": -0.4,
            "bin_end": -0.3,
            "count": 0
           },
           {
            "bin_start": -0.3,
            "bin_end": -0.19999999999999996,
            "count": 0
           },
           {
            "bin_start": -0.19999999999999996,
            "bin_end": -0.09999999999999998,
            "count": 0
           },
           {
            "bin_start": -0.09999999999999998,
            "bin_end": 0,
            "count": 0
           },
           {
            "bin_start": 0,
            "bin_end": 0.10000000000000009,
            "count": 1
           },
           {
            "bin_start": 0.10000000000000009,
            "bin_end": 0.20000000000000007,
            "count": 0
           },
           {
            "bin_start": 0.20000000000000007,
            "bin_end": 0.30000000000000004,
            "count": 0
           },
           {
            "bin_start": 0.30000000000000004,
            "bin_end": 0.4,
            "count": 0
           },
           {
            "bin_start": 0.4,
            "bin_end": 0.5,
            "count": 0
           }
          ]
         }
        },
        {
         "name": "Longitude",
         "dtype": "float64",
         "stats": {
          "unique_count": 1,
          "nan_count": 0,
          "min": "0.0",
          "max": "0.0",
          "histogram": [
           {
            "bin_start": -0.5,
            "bin_end": -0.4,
            "count": 0
           },
           {
            "bin_start": -0.4,
            "bin_end": -0.3,
            "count": 0
           },
           {
            "bin_start": -0.3,
            "bin_end": -0.19999999999999996,
            "count": 0
           },
           {
            "bin_start": -0.19999999999999996,
            "bin_end": -0.09999999999999998,
            "count": 0
           },
           {
            "bin_start": -0.09999999999999998,
            "bin_end": 0,
            "count": 0
           },
           {
            "bin_start": 0,
            "bin_end": 0.10000000000000009,
            "count": 1
           },
           {
            "bin_start": 0.10000000000000009,
            "bin_end": 0.20000000000000007,
            "count": 0
           },
           {
            "bin_start": 0.20000000000000007,
            "bin_end": 0.30000000000000004,
            "count": 0
           },
           {
            "bin_start": 0.30000000000000004,
            "bin_end": 0.4,
            "count": 0
           },
           {
            "bin_start": 0.4,
            "bin_end": 0.5,
            "count": 0
           }
          ]
         }
        },
        {
         "name": "Latitude",
         "dtype": "float64",
         "stats": {
          "unique_count": 1,
          "nan_count": 0,
          "min": "0.0",
          "max": "0.0",
          "histogram": [
           {
            "bin_start": -0.5,
            "bin_end": -0.4,
            "count": 0
           },
           {
            "bin_start": -0.4,
            "bin_end": -0.3,
            "count": 0
           },
           {
            "bin_start": -0.3,
            "bin_end": -0.19999999999999996,
            "count": 0
           },
           {
            "bin_start": -0.19999999999999996,
            "bin_end": -0.09999999999999998,
            "count": 0
           },
           {
            "bin_start": -0.09999999999999998,
            "bin_end": 0,
            "count": 0
           },
           {
            "bin_start": 0,
            "bin_end": 0.10000000000000009,
            "count": 1
           },
           {
            "bin_start": 0.10000000000000009,
            "bin_end": 0.20000000000000007,
            "count": 0
           },
           {
            "bin_start": 0.20000000000000007,
            "bin_end": 0.30000000000000004,
            "count": 0
           },
           {
            "bin_start": 0.30000000000000004,
            "bin_end": 0.4,
            "count": 0
           },
           {
            "bin_start": 0.4,
            "bin_end": 0.5,
            "count": 0
           }
          ]
         }
        },
        {
         "name": "Bus.Stop",
         "dtype": "float64",
         "stats": {
          "unique_count": 1,
          "nan_count": 0,
          "min": "0.0",
          "max": "0.0",
          "histogram": [
           {
            "bin_start": -0.5,
            "bin_end": -0.4,
            "count": 0
           },
           {
            "bin_start": -0.4,
            "bin_end": -0.3,
            "count": 0
           },
           {
            "bin_start": -0.3,
            "bin_end": -0.19999999999999996,
            "count": 0
           },
           {
            "bin_start": -0.19999999999999996,
            "bin_end": -0.09999999999999998,
            "count": 0
           },
           {
            "bin_start": -0.09999999999999998,
            "bin_end": 0,
            "count": 0
           },
           {
            "bin_start": 0,
            "bin_end": 0.10000000000000009,
            "count": 1
           },
           {
            "bin_start": 0.10000000000000009,
            "bin_end": 0.20000000000000007,
            "count": 0
           },
           {
            "bin_start": 0.20000000000000007,
            "bin_end": 0.30000000000000004,
            "count": 0
           },
           {
            "bin_start": 0.30000000000000004,
            "bin_end": 0.4,
            "count": 0
           },
           {
            "bin_start": 0.4,
            "bin_end": 0.5,
            "count": 0
           }
          ]
         }
        },
        {
         "name": "District.Name",
         "dtype": "float64",
         "stats": {
          "unique_count": 1,
          "nan_count": 0,
          "min": "0.5060088551549652",
          "max": "0.5060088551549652",
          "histogram": [
           {
            "bin_start": 0.006008855154965187,
            "bin_end": 0.10600885515496518,
            "count": 0
           },
           {
            "bin_start": 0.10600885515496518,
            "bin_end": 0.20600885515496517,
            "count": 0
           },
           {
            "bin_start": 0.20600885515496517,
            "bin_end": 0.3060088551549652,
            "count": 0
           },
           {
            "bin_start": 0.3060088551549652,
            "bin_end": 0.40600885515496515,
            "count": 0
           },
           {
            "bin_start": 0.40600885515496515,
            "bin_end": 0.5060088551549651,
            "count": 0
           },
           {
            "bin_start": 0.5060088551549651,
            "bin_end": 0.6060088551549652,
            "count": 1
           },
           {
            "bin_start": 0.6060088551549652,
            "bin_end": 0.7060088551549651,
            "count": 0
           },
           {
            "bin_start": 0.7060088551549651,
            "bin_end": 0.8060088551549651,
            "count": 0
           },
           {
            "bin_start": 0.8060088551549651,
            "bin_end": 0.9060088551549651,
            "count": 0
           },
           {
            "bin_start": 0.9060088551549651,
            "bin_end": 1.006008855154965,
            "count": 0
           }
          ]
         }
        },
        {
         "name": "Neighborhood.Name",
         "dtype": "float64",
         "stats": {
          "unique_count": 1,
          "nan_count": 0,
          "min": "0.5060088551549652",
          "max": "0.5060088551549652",
          "histogram": [
           {
            "bin_start": 0.006008855154965187,
            "bin_end": 0.10600885515496518,
            "count": 0
           },
           {
            "bin_start": 0.10600885515496518,
            "bin_end": 0.20600885515496517,
            "count": 0
           },
           {
            "bin_start": 0.20600885515496517,
            "bin_end": 0.3060088551549652,
            "count": 0
           },
           {
            "bin_start": 0.3060088551549652,
            "bin_end": 0.40600885515496515,
            "count": 0
           },
           {
            "bin_start": 0.40600885515496515,
            "bin_end": 0.5060088551549651,
            "count": 0
           },
           {
            "bin_start": 0.5060088551549651,
            "bin_end": 0.6060088551549652,
            "count": 1
           },
           {
            "bin_start": 0.6060088551549652,
            "bin_end": 0.7060088551549651,
            "count": 0
           },
           {
            "bin_start": 0.7060088551549651,
            "bin_end": 0.8060088551549651,
            "count": 0
           },
           {
            "bin_start": 0.8060088551549651,
            "bin_end": 0.9060088551549651,
            "count": 0
           },
           {
            "bin_start": 0.9060088551549651,
            "bin_end": 1.006008855154965,
            "count": 0
           }
          ]
         }
        },
        {
         "name": "_deepnote_index_column",
         "dtype": "int64"
        }
       ],
       "rows_top": [
        {
         "Code": 0,
         "Transport": 0,
         "Longitude": 0,
         "Latitude": 0,
         "Bus.Stop": 0,
         "District.Name": 0.5060088551549652,
         "Neighborhood.Name": 0.5060088551549652,
         "_deepnote_index_column": 0
        }
       ],
       "rows_bottom": null
      },
      "text/plain": "   Code  Transport  Longitude  Latitude  Bus.Stop  District.Name  \\\n0   0.0        0.0        0.0       0.0       0.0       0.506009   \n\n   Neighborhood.Name  \n0           0.506009  ",
      "text/html": "<div>\n<style scoped>\n    .dataframe tbody tr th:only-of-type {\n        vertical-align: middle;\n    }\n\n    .dataframe tbody tr th {\n        vertical-align: top;\n    }\n\n    .dataframe thead th {\n        text-align: right;\n    }\n</style>\n<table border=\"1\" class=\"dataframe\">\n  <thead>\n    <tr style=\"text-align: right;\">\n      <th></th>\n      <th>Code</th>\n      <th>Transport</th>\n      <th>Longitude</th>\n      <th>Latitude</th>\n      <th>Bus.Stop</th>\n      <th>District.Name</th>\n      <th>Neighborhood.Name</th>\n    </tr>\n  </thead>\n  <tbody>\n    <tr>\n      <th>0</th>\n      <td>0.0</td>\n      <td>0.0</td>\n      <td>0.0</td>\n      <td>0.0</td>\n      <td>0.0</td>\n      <td>0.506009</td>\n      <td>0.506009</td>\n    </tr>\n  </tbody>\n</table>\n</div>"
     },
     "metadata": {}
    }
   ]
  },
  {
   "cell_type": "code",
   "source": "round(percentage_missin_neigh_dist.iloc[5], 3)\nprint(\"There's only a\", round(percentage_missin_neigh_dist.iloc[5], 3),\"% of missing values in District and Neighborhood columns.\")",
   "metadata": {
    "tags": [],
    "cell_id": "00013-ebc4741e-208a-45dd-bc70-8b9937baf36f",
    "deepnote_to_be_reexecuted": false,
    "source_hash": "798b4b8",
    "execution_start": 1623401048764,
    "execution_millis": 8,
    "deepnote_cell_type": "code"
   },
   "outputs": [
    {
     "name": "stdout",
     "text": "There's only a 0.506 % of missing values in District and Neighborhood columns.\n",
     "output_type": "stream"
    }
   ],
   "execution_count": 23
  },
  {
   "cell_type": "markdown",
   "source": "## Density of bus stops per District\n\n**We are going to find:**\n<br>\n** Bus Stops **\n<br>\n* Most dense District by bus stops - Sarrià-Sant Gervasi    439 stops\n* Least dense District by bus stops - Ciutat Vella           167 stops\n* Frequency distribution of bus stops:\n- Day bus stop        2324\n- Night bus stop       828\n- Airport bus stop       7\n- Bus station            3\n\nFrequency table of Bus stops by District.\n\nSarrià-Sant Gervasi    439\nSants-Montjuïc         415\nEixample               405\nHorta-Guinardó         389\nSant Martí             356\nNou Barris             330\nSant Andreu            228\nGràcia                 210\nLes Corts              207\nCiutat Vella           167\nNaN                     16\n\n<br>\n\n** Public Transport **\n<br>\n* Most dense District - Eixample         525\n* Least dense District - Ciutat Vella     194\n* Frequency distribution of public transport:\n- Bus stops           3162\n- Underground         463\n- Tram                 65\n- Railway (FGC)        54\n- RENFE                33\n- Maritime station     16\n- Airport train         9\n- Funicular             6\n- Cableway              5 \n\nMissing values in public Transport data set = 167 NaN We checked a few of the cases and saw that all of them were stops, that are not in Barcelona. \nMissing values in bus stops = 16\nTotal missing values = 180 \n\nFrequency table of Public transport by District (public + bus).\n\nEixample               525\nSarrià-Sant Gervasi    505\nSants-Montjuïc         468\nSant Martí             426\nHorta-Guinardó         420\nNou Barris             369\nSant Andreu            268\nLes Corts              231\nGràcia                 227\nCiutat Vella           194\nNaN                    180\n\n\n\n<br>\n\n\n**We assume reasons for a District being the _most_ dense:**\n<br>\n- Sightseeing elements\n- Cultural importance\n- Administrative importance (Town Hall, Main Post Office, etc)\n- Population\n- Higher per capita income \n- High population\n- Size of district\n- ...\n<br>\n**We assume reasons for a District being the _least_ dense:**\n<br>\n* Minimum cultural, sightseeing, administrative importance\n* Properties of said district do not allow same investment in public transportation elements (Old Town for example)\n* Distance from city center\n* Close to other very dense district\n* Low population\n* Size of district\n* ...\n<br>\n\n**Top 3 Most dense districts by bus stops**:\n<br>\n- Sarrià-Sant Gervasi    439 stops\n- Sants-Montjuïc         415 stops\n- Eixample               405 stops\n<br>\n**Top 3 Least dense districts by bus stops**:\n<br>\n- Gràcia                 210 stops\n- Les Corts              207 stops\n- Ciutat Vella           167 stops\n<br>\n\n**Top 3 Most dense district by public transport stops**:\n<br>\n- Eixample               525 stops\n- Sarrià-Sant Gervasi    505 stops\n- Sants-Montjuïc         468 stops\n<br>\n**Top 3 Least dense district by public transport stops**:\n<br>\n- Les Corts              231 stops\n- Gràcia                 227 stops\n- Ciutat Vella           194 stops\n<br>\n\n\n**Properties of _most_ and _least_ dense:**\n<br>\nSarrià-Sant Gervasi\n<br>\n* Highest income per capita district in Barcelona\n* Highest proportion of bachelor's degrees\n* Lowest unemployment rate (next to the neighborhing district of Les Corts)\n* Lowest presence of foreigners\n* Situated in the western limit of the city\n<br>\nCiutat Vella\n<br>\n* Historical city center\n* ...\n<br>",
   "metadata": {
    "tags": [],
    "cell_id": "00013-7f8ea098-df53-4777-9078-4e8c1ead9bc1",
    "deepnote_cell_type": "markdown"
   }
  },
  {
   "cell_type": "markdown",
   "source": "",
   "metadata": {
    "tags": [],
    "cell_id": "00013-ed9c6b29-ae84-481d-a71b-ff0cdc9298b6",
    "deepnote_cell_type": "markdown"
   }
  },
  {
   "cell_type": "code",
   "source": "",
   "metadata": {
    "tags": [],
    "cell_id": "00016-c362d4e8-4dc8-41fd-b9f4-beb5ff821549",
    "deepnote_cell_type": "code"
   },
   "outputs": [],
   "execution_count": null
  },
  {
   "cell_type": "markdown",
   "source": "<a style='text-decoration:none;line-height:16px;display:flex;color:#5B5B62;padding:10px;justify-content:end;' href='https://deepnote.com?utm_source=created-in-deepnote-cell&projectId=c0070a7d-7e19-41ed-914b-a87e6b811e61' target=\"_blank\">\n<img alt='Created in deepnote.com' style='display:inline;max-height:16px;margin:0px;margin-right:7.5px;' src='data:image/svg+xml;base64,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' > </img>\nCreated in <span style='font-weight:600;margin-left:4px;'>Deepnote</span></a>",
   "metadata": {
    "tags": [],
    "created_in_deepnote_cell": true,
    "deepnote_cell_type": "markdown"
   }
  }
 ],
 "nbformat": 4,
 "nbformat_minor": 5,
 "metadata": {
  "kernelspec": {
   "display_name": "Python 3",
   "language": "python",
   "name": "python3"
  },
  "language_info": {
   "codemirror_mode": {
    "name": "ipython",
    "version": 3
   },
   "file_extension": ".py",
   "mimetype": "text/x-python",
   "name": "python",
   "nbconvert_exporter": "python",
   "pygments_lexer": "ipython3",
   "version": "3.8.8"
  },
  "deepnote_notebook_id": "000c0850-987f-4326-bdf5-2edc9fe5aa49",
  "deepnote": {},
  "deepnote_execution_queue": []
 }
}